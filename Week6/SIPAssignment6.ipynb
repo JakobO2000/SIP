{
 "cells": [
  {
   "cell_type": "code",
   "execution_count": 1,
   "metadata": {},
   "outputs": [],
   "source": [
    "%matplotlib qt\n",
    "from matplotlib import pyplot as plt\n",
    "from numpy.random import rand\n",
    "import skimage as sm\n",
    "import skimage.morphology as morph\n",
    "from skimage.io import imread, imsave\n",
    "from skimage.util import img_as_float, random_noise\n",
    "from skimage.transform import rotate, resize\n",
    "from skimage.filters import gaussian as ski_gaussian\n",
    "from skimage.feature import canny, corner_harris, corner_peaks\n",
    "from pylab import ginput\n",
    "from scipy.signal import convolve, convolve2d, correlate2d, fftconvolve\n",
    "from scipy.signal import  gaussian as scipy_gaussian\n",
    "from scipy.fft import fft2, fftshift, ifft2, ifftshift\n",
    "from scipy.interpolate import griddata\n",
    "from scipy.ndimage import map_coordinates\n",
    "\n",
    "import numpy as np\n",
    "import os\n",
    "import timeit\n",
    "\n",
    "\n",
    "os.chdir(\"../Mats\")"
   ]
  },
  {
   "cell_type": "code",
   "execution_count": 2,
   "metadata": {},
   "outputs": [],
   "source": [
    "plt.rcParams['figure.dpi'] = 300\n",
    "plt.rcParams['savefig.dpi'] = 300"
   ]
  },
  {
   "attachments": {},
   "cell_type": "markdown",
   "metadata": {},
   "source": [
    "# 1"
   ]
  },
  {
   "attachments": {},
   "cell_type": "markdown",
   "metadata": {},
   "source": [
    "1.1"
   ]
  },
  {
   "cell_type": "code",
   "execution_count": 27,
   "metadata": {},
   "outputs": [
    {
     "data": {
      "text/plain": [
       "(<matplotlib.image.AxesImage at 0x22ad1d25630>,\n",
       " Text(0.5, 1.0, 'hand.tiff'),\n",
       " (-0.5, 255.5, 255.5, -0.5))"
      ]
     },
     "execution_count": 27,
     "metadata": {},
     "output_type": "execute_result"
    }
   ],
   "source": [
    "A = imread(\"hand.tiff\")\n",
    "plt.imshow(A, cmap=\"gray\"), plt.title(\"hand.tiff\"), plt.axis(\"off\")\n",
    "plt.show()"
   ]
  },
  {
   "cell_type": "code",
   "execution_count": 31,
   "metadata": {},
   "outputs": [],
   "source": [
    "B = canny(A, 1, 25, 100)\n",
    "C = canny(A, 3, 25, 100)\n",
    "D = canny(A, 1, 75, 100)\n",
    "E = canny(A, 1, 25, 150)\n",
    "plt.subplot(2, 2, 1)\n",
    "plt.imshow(B, cmap=\"gray\"), plt.title(\"\\u03C3=1 low_t=25 high_t=100\", fontsize=7), plt.axis(\"off\")\n",
    "plt.subplot(2, 2, 2)\n",
    "plt.imshow(C, cmap=\"gray\"), plt.title(\"\\u03C3=3 low_t=25 high_t=100\", fontsize=7), plt.axis(\"off\")\n",
    "plt.subplot(2, 2, 3)\n",
    "plt.imshow(D, cmap=\"gray\"), plt.title(\"\\u03C3=1 low_t=75 high_t=100\", fontsize=7), plt.axis(\"off\")\n",
    "plt.subplot(2, 2, 4)\n",
    "plt.imshow(E, cmap=\"gray\"), plt.title(\"\\u03C3=1 low_t=25 high_t=150\", fontsize=7), plt.axis(\"off\")\n",
    "plt.show()"
   ]
  },
  {
   "attachments": {},
   "cell_type": "markdown",
   "metadata": {},
   "source": [
    "1.2"
   ]
  },
  {
   "cell_type": "code",
   "execution_count": 56,
   "metadata": {},
   "outputs": [],
   "source": [
    "A = imread(\"modelhouses.png\")\n",
    "\n",
    "k_A = corner_harris(A, \"k\", 0.05, sigma=1)\n",
    "k_B = corner_harris(A, \"k\", 0.2, sigma=1)\n",
    "k_C = corner_harris(A, \"k\", 0.05, sigma=3)\n",
    "k_D = corner_harris(A, \"k\", 0.2, sigma=3)\n",
    "plt.subplot(2, 2, 1)\n",
    "plt.imshow(k_A, cmap=\"gray\"), plt.title(\"k=0.05 \\u03C3=1\", fontsize=7), plt.axis(\"off\")\n",
    "plt.subplot(2, 2, 2)\n",
    "plt.imshow(k_B, cmap=\"gray\"), plt.title(\"k=0.2 \\u03C3=1\", fontsize=7), plt.axis(\"off\")\n",
    "plt.subplot(2, 2, 3)\n",
    "plt.imshow(k_C, cmap=\"gray\"), plt.title(\"k=0.05 \\u03C3=3\", fontsize=7), plt.axis(\"off\")\n",
    "plt.subplot(2, 2, 4)\n",
    "plt.imshow(k_D, cmap=\"gray\"), plt.title(\"k=0.2 \\u03C3=3\", fontsize=7), plt.axis(\"off\")\n",
    "plt.suptitle(\"Method k\")\n",
    "plt.show()"
   ]
  },
  {
   "cell_type": "code",
   "execution_count": 57,
   "metadata": {},
   "outputs": [],
   "source": [
    "A = imread(\"modelhouses.png\")\n",
    "eps_A = corner_harris(A, \"eps\", 0.05, sigma=1)\n",
    "eps_B = corner_harris(A, \"eps\", 0.2, sigma=1)\n",
    "eps_C = corner_harris(A, \"eps\", 0.05, sigma=3)\n",
    "eps_D = corner_harris(A, \"eps\", 0.2, sigma=3)\n",
    "plt.subplot(2, 2, 1)\n",
    "plt.imshow(eps_A, cmap=\"gray\"), plt.title(\"eps=0.05 \\u03C3=1\", fontsize=7), plt.axis(\"off\")\n",
    "plt.subplot(2, 2, 2)\n",
    "plt.imshow(eps_B, cmap=\"gray\"), plt.title(\"eps=0.2 \\u03C3=1\", fontsize=7), plt.axis(\"off\")\n",
    "plt.subplot(2, 2, 3)\n",
    "plt.imshow(eps_C, cmap=\"gray\"), plt.title(\"eps=0.05 \\u03C3=3\", fontsize=7), plt.axis(\"off\")\n",
    "plt.subplot(2, 2, 4)\n",
    "plt.imshow(eps_D, cmap=\"gray\"), plt.title(\"eps=0.2 \\u03C3=3\", fontsize=7), plt.axis(\"off\")\n",
    "plt.suptitle(\"Method eps\")\n",
    "plt.show()"
   ]
  },
  {
   "attachments": {},
   "cell_type": "markdown",
   "metadata": {},
   "source": [
    "1.3"
   ]
  },
  {
   "cell_type": "code",
   "execution_count": 23,
   "metadata": {},
   "outputs": [],
   "source": [
    "def find_corners(image, N_corners, method=\"k\", k=0.05, eps=1e-06, sigma=1):\n",
    "    image_corner = corner_harris(image, method, k, eps, sigma)\n",
    "    return corner_peaks(image_corner, num_peaks=N_corners)\n",
    "\n",
    "A = imread(\"modelhouses.png\")\n",
    "corners = find_corners(A, 250) \n",
    "\n",
    "plt.imshow(A, cmap=\"gray\")\n",
    "plt.scatter(corners[:,1], corners[:,0], s=0.5), plt.axis(\"off\")\n",
    "plt.show()\n"
   ]
  },
  {
   "attachments": {},
   "cell_type": "markdown",
   "metadata": {},
   "source": [
    "# 2"
   ]
  },
  {
   "attachments": {},
   "cell_type": "markdown",
   "metadata": {},
   "source": [
    "2.1"
   ]
  },
  {
   "cell_type": "code",
   "execution_count": 80,
   "metadata": {},
   "outputs": [],
   "source": [
    "\n",
    "A  = imread(\"textlabel_gray_small.png\")\n",
    "\n",
    "corners = find_corners(A,50,k=0.05,sigma=7)\n",
    "\n",
    "top_left = corners[np.argmin(np.sum(corners, axis=1))]\n",
    "top_right = corners[np.argmin(np.diff(corners, axis=1))]\n",
    "bottom_right = corners[np.argmax(np.sum(corners, axis=1))]\n",
    "bottom_left = corners[np.argmax(np.diff(corners, axis=1))]\n",
    "indices = []\n",
    "for corner in [top_left, top_right, bottom_right, bottom_left]:\n",
    "    index = np.where((corners == corner).all(axis=1))[0][0]\n",
    "    indices.append(index)\n",
    "\n",
    "corners = np.delete(corners, indices, axis=0)\n",
    "top_left = corners[np.argmin(np.sum(corners, axis=1))]\n",
    "top_right = corners[np.argmin(np.diff(corners, axis=1))]\n",
    "bottom_right = corners[np.argmax(np.sum(corners, axis=1))]\n",
    "bottom_left = corners[np.argmax(np.diff(corners, axis=1))]\n",
    "\n",
    "plt.imshow(A,cmap=\"gray\")\n",
    "plt.scatter(corners[:,1], corners[:,0], s=0.5), plt.axis(\"off\")\n",
    "\n",
    "plt.show()\n",
    "\n"
   ]
  },
  {
   "cell_type": "code",
   "execution_count": 79,
   "metadata": {},
   "outputs": [],
   "source": [
    "plt.imshow(A,cmap=\"gray\")\n",
    "plt.scatter(corners[:,1], corners[:,0], s=0.5), plt.axis(\"off\")\n",
    "\n",
    "plt.show()\n"
   ]
  },
  {
   "cell_type": "code",
   "execution_count": 75,
   "metadata": {},
   "outputs": [
    {
     "data": {
      "text/plain": [
       "70"
      ]
     },
     "execution_count": 75,
     "metadata": {},
     "output_type": "execute_result"
    }
   ],
   "source": [
    "top_left[0]"
   ]
  },
  {
   "cell_type": "code",
   "execution_count": 77,
   "metadata": {},
   "outputs": [],
   "source": [
    "# Calculate the coordinates of the top_left and top_right corners\n",
    "x_tl, y_tl = top_left\n",
    "x_tr, y_tr = top_right\n",
    "\n",
    "# Find the corners that are closest to the top_left and top_right corners in the x and y directions\n",
    "x_closest = corners[np.argmin(np.abs(corners[:, 1] - x_tl)), :]\n",
    "y_closest = corners[np.argmin(np.abs(corners[:, 0] - y_tr)), :]\n",
    "\n",
    "# Calculate the Euclidean distances between the x_closest and y_closest corners\n",
    "distances = np.linalg.norm(x_closest - y_closest)\n",
    "\n",
    "# Get the coordinates of the corner closest to both x_closest and y_closest\n",
    "closest_corner = corners[np.argmin(np.linalg.norm(corners - x_closest, axis=1) + np.linalg.norm(corners - y_closest, axis=1))]"
   ]
  },
  {
   "cell_type": "code",
   "execution_count": 76,
   "metadata": {},
   "outputs": [
    {
     "data": {
      "text/plain": [
       "(50, 70)"
      ]
     },
     "execution_count": 76,
     "metadata": {},
     "output_type": "execute_result"
    }
   ],
   "source": [
    "x_tl,y_tl"
   ]
  },
  {
   "cell_type": "code",
   "execution_count": 70,
   "metadata": {},
   "outputs": [
    {
     "data": {
      "text/plain": [
       "array([688,  57], dtype=int64)"
      ]
     },
     "execution_count": 70,
     "metadata": {},
     "output_type": "execute_result"
    }
   ],
   "source": [
    "closest_corner"
   ]
  },
  {
   "cell_type": "code",
   "execution_count": 78,
   "metadata": {},
   "outputs": [
    {
     "data": {
      "text/plain": [
       "<matplotlib.image.AxesImage at 0x2a37b167160>"
      ]
     },
     "execution_count": 78,
     "metadata": {},
     "output_type": "execute_result"
    }
   ],
   "source": [
    "plt.scatter(top_left[1],top_left[0], s=500), plt.axis(\"off\")\n",
    "plt.scatter(top_right[1],top_right[0], s=500), plt.axis(\"off\")\n",
    "plt.scatter(bottom_right[1],bottom_right[0], s=500), plt.axis(\"off\")\n",
    "plt.scatter(bottom_left[1],bottom_left[0], s=500), plt.axis(\"off\")\n",
    "plt.scatter(closest_corner[1],closest_corner[0], s=500), plt.axis(\"off\")\n",
    "plt.imshow(A,cmap=\"gray\")\n"
   ]
  },
  {
   "attachments": {},
   "cell_type": "markdown",
   "metadata": {},
   "source": [
    "# 3"
   ]
  },
  {
   "attachments": {},
   "cell_type": "markdown",
   "metadata": {},
   "source": [
    "3.1"
   ]
  },
  {
   "cell_type": "code",
   "execution_count": null,
   "metadata": {},
   "outputs": [],
   "source": []
  },
  {
   "attachments": {},
   "cell_type": "markdown",
   "metadata": {},
   "source": [
    "3.2"
   ]
  },
  {
   "cell_type": "code",
   "execution_count": null,
   "metadata": {},
   "outputs": [],
   "source": []
  },
  {
   "attachments": {},
   "cell_type": "markdown",
   "metadata": {},
   "source": [
    "3.3"
   ]
  },
  {
   "cell_type": "code",
   "execution_count": 10,
   "metadata": {},
   "outputs": [],
   "source": [
    "tau = np.linspace(-10, 10, 1000)\n",
    "H = -tau**2/(np.pi*(4+tau**2))\n",
    "\n",
    "plt.plot(tau, H)\n",
    "plt.xlabel(\"\\u03C4\")\n",
    "plt.ylabel(\"H(0, 0, \\u03C4)\")\n",
    "plt.title(\"H(0, 0, \\u03C4) plotted for various \\u03C4\")\n",
    "plt.tight_layout()\n",
    "plt.show()"
   ]
  },
  {
   "attachments": {},
   "cell_type": "markdown",
   "metadata": {},
   "source": [
    "i"
   ]
  },
  {
   "cell_type": "code",
   "execution_count": null,
   "metadata": {},
   "outputs": [],
   "source": []
  },
  {
   "attachments": {},
   "cell_type": "markdown",
   "metadata": {},
   "source": [
    "ii"
   ]
  },
  {
   "cell_type": "code",
   "execution_count": null,
   "metadata": {},
   "outputs": [],
   "source": []
  },
  {
   "attachments": {},
   "cell_type": "markdown",
   "metadata": {},
   "source": [
    "iii"
   ]
  },
  {
   "cell_type": "code",
   "execution_count": null,
   "metadata": {},
   "outputs": [],
   "source": []
  },
  {
   "attachments": {},
   "cell_type": "markdown",
   "metadata": {},
   "source": [
    "3.4"
   ]
  },
  {
   "cell_type": "code",
   "execution_count": null,
   "metadata": {},
   "outputs": [],
   "source": []
  },
  {
   "cell_type": "markdown",
   "metadata": {},
   "source": []
  }
 ],
 "metadata": {
  "kernelspec": {
   "display_name": "py310",
   "language": "python",
   "name": "python3"
  },
  "language_info": {
   "codemirror_mode": {
    "name": "ipython",
    "version": 3
   },
   "file_extension": ".py",
   "mimetype": "text/x-python",
   "name": "python",
   "nbconvert_exporter": "python",
   "pygments_lexer": "ipython3",
   "version": "3.10.9"
  },
  "orig_nbformat": 4,
  "vscode": {
   "interpreter": {
    "hash": "f6c59e9a90901d54f4b9f5796ffe87a4c182513f672a519035aa940c71554467"
   }
  }
 },
 "nbformat": 4,
 "nbformat_minor": 2
}
