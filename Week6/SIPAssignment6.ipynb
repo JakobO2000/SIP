{
 "cells": [
  {
   "cell_type": "code",
   "execution_count": 2,
   "metadata": {},
   "outputs": [],
   "source": [
    "%matplotlib qt\n",
    "from matplotlib import pyplot as plt\n",
    "from numpy.random import rand\n",
    "import skimage as sm\n",
    "import skimage.morphology as morph\n",
    "from skimage.io import imread, imsave\n",
    "from skimage.util import img_as_float, random_noise\n",
    "from skimage.transform import rotate, resize\n",
    "from skimage.filters import gaussian as ski_gaussian\n",
    "from skimage.feature import canny, corner_harris, corner_peaks\n",
    "from pylab import ginput\n",
    "from scipy.signal import convolve, convolve2d, correlate2d, fftconvolve\n",
    "from scipy.signal import  gaussian as scipy_gaussian\n",
    "from scipy.fft import fft2, fftshift, ifft2, ifftshift\n",
    "from scipy.interpolate import griddata\n",
    "from scipy.ndimage import map_coordinates\n",
    "\n",
    "import numpy as np\n",
    "import os\n",
    "import timeit\n",
    "\n",
    "\n",
    "os.chdir(\"../Mats\")"
   ]
  },
  {
   "cell_type": "code",
   "execution_count": 3,
   "metadata": {},
   "outputs": [],
   "source": [
    "plt.rcParams['figure.dpi'] = 300\n",
    "plt.rcParams['savefig.dpi'] = 300"
   ]
  },
  {
   "attachments": {},
   "cell_type": "markdown",
   "metadata": {},
   "source": [
    "# 1"
   ]
  },
  {
   "attachments": {},
   "cell_type": "markdown",
   "metadata": {},
   "source": [
    "1.1"
   ]
  },
  {
   "cell_type": "code",
   "execution_count": 4,
   "metadata": {},
   "outputs": [],
   "source": [
    "A = imread(\"hand.tiff\")\n",
    "plt.imshow(A, cmap=\"gray\"), plt.title(\"hand.tiff\"), plt.axis(\"off\")\n",
    "plt.show()"
   ]
  },
  {
   "cell_type": "code",
   "execution_count": 5,
   "metadata": {},
   "outputs": [],
   "source": [
    "B = canny(A, 1, 25, 100)\n",
    "C = canny(A, 3, 25, 100)\n",
    "D = canny(A, 1, 75, 100)\n",
    "E = canny(A, 1, 25, 150)\n",
    "plt.subplot(2, 2, 1)\n",
    "plt.imshow(B, cmap=\"gray\"), plt.title(\"\\u03C3=1 low_t=25 high_t=100\", fontsize=7), plt.axis(\"off\")\n",
    "plt.subplot(2, 2, 2)\n",
    "plt.imshow(C, cmap=\"gray\"), plt.title(\"\\u03C3=3 low_t=25 high_t=100\", fontsize=7), plt.axis(\"off\")\n",
    "plt.subplot(2, 2, 3)\n",
    "plt.imshow(D, cmap=\"gray\"), plt.title(\"\\u03C3=1 low_t=75 high_t=100\", fontsize=7), plt.axis(\"off\")\n",
    "plt.subplot(2, 2, 4)\n",
    "plt.imshow(E, cmap=\"gray\"), plt.title(\"\\u03C3=1 low_t=25 high_t=150\", fontsize=7), plt.axis(\"off\")\n",
    "plt.show()"
   ]
  },
  {
   "attachments": {},
   "cell_type": "markdown",
   "metadata": {},
   "source": [
    "1.2"
   ]
  },
  {
   "cell_type": "code",
   "execution_count": 31,
   "metadata": {},
   "outputs": [
    {
     "name": "stdout",
     "output_type": "stream",
     "text": [
      "[[6.31792890e-04 6.59802675e-04 1.39311942e-04 ... 9.37504694e-07\n",
      "  2.92624581e-06 2.44206667e-06]\n",
      " [6.41483678e-04 6.32310865e-04 1.49712273e-04 ... 1.23127515e-06\n",
      "  3.28487684e-06 2.76044201e-06]\n",
      " [1.40161680e-04 1.53470214e-04 4.06662619e-05 ... 4.69543312e-07\n",
      "  1.09530613e-06 9.31694787e-07]\n",
      " ...\n",
      " [1.01837513e-04 9.78792579e-05 2.41042448e-05 ... 1.41568595e-01\n",
      "  3.62761573e-01 3.10665883e-01]\n",
      " [1.38067742e-04 1.32119049e-04 3.03672152e-05 ... 3.58052059e-01\n",
      "  9.42459415e-01 9.61725345e-01]\n",
      " [1.13793621e-04 1.11768312e-04 2.36592915e-05 ... 3.03382541e-01\n",
      "  9.47655343e-01 9.12856668e-01]]\n"
     ]
    }
   ],
   "source": [
    "A = imread(\"modelhouses.png\")\n",
    "\n",
    "k_A = corner_harris(A, \"k\", 0.02, sigma=1)\n",
    "k_B = corner_harris(A, \"k\", 0.08, sigma=1)\n",
    "k_C = corner_harris(A, \"k\", 0.02, sigma=3)\n",
    "k_D = corner_harris(A, \"k\", 0.08, sigma=3)\n",
    "print(k_A)\n",
    "plt.subplot(2, 2, 1)\n",
    "plt.imshow(k_A, vmin=0, vmax=1, cmap=\"gray\"), plt.title(\"k=0.02 \\u03C3=1\", fontsize=7), plt.axis(\"off\")\n",
    "plt.subplot(2, 2, 2)\n",
    "plt.imshow(k_B, vmin=0, vmax=1,cmap=\"gray\"), plt.title(\"k=0.08 \\u03C3=1\", fontsize=7), plt.axis(\"off\")\n",
    "plt.subplot(2, 2, 3)\n",
    "plt.imshow(k_C, vmin=0, vmax=1,cmap=\"gray\"), plt.title(\"k=0.02 \\u03C3=3\", fontsize=7), plt.axis(\"off\")\n",
    "plt.subplot(2, 2, 4)\n",
    "plt.imshow(k_D, vmin=0, vmax=1,cmap=\"gray\"), plt.title(\"k=0.08 \\u03C3=3\", fontsize=7), plt.axis(\"off\")\n",
    "plt.suptitle(\"Method k\")\n",
    "plt.show()"
   ]
  },
  {
   "cell_type": "code",
   "execution_count": 43,
   "metadata": {},
   "outputs": [],
   "source": [
    "A = imread(\"modelhouses.png\")\n",
    "eps_A = corner_harris(A, \"eps\", eps=1, sigma=1)\n",
    "eps_B = corner_harris(A, \"eps\", eps=1e-6, sigma=1)\n",
    "eps_C = corner_harris(A, \"eps\", eps=1, sigma=3)\n",
    "eps_D = corner_harris(A, \"eps\", eps=1e-6, sigma=3)\n",
    "plt.subplot(2, 2, 1)\n",
    "plt.imshow(eps_A, vmin=0, vmax=1, cmap=\"gray\"), plt.title(\"eps=1 \\u03C3=1\", fontsize=7), plt.axis(\"off\")\n",
    "plt.subplot(2, 2, 2)\n",
    "plt.imshow(eps_B, vmin=0, vmax=1,cmap=\"gray\"), plt.title(\"eps=1e-6 \\u03C3=1\", fontsize=7), plt.axis(\"off\")\n",
    "plt.subplot(2, 2, 3)\n",
    "plt.imshow(eps_C, vmin=0, vmax=1,cmap=\"gray\"), plt.title(\"eps=1 \\u03C3=3\", fontsize=7), plt.axis(\"off\")\n",
    "plt.subplot(2, 2, 4)\n",
    "plt.imshow(eps_D, vmin=0, vmax=1,cmap=\"gray\"), plt.title(\"eps=1e-6 \\u03C3=3\", fontsize=7), plt.axis(\"off\")\n",
    "plt.suptitle(\"Method eps\")\n",
    "plt.show()"
   ]
  },
  {
   "attachments": {},
   "cell_type": "markdown",
   "metadata": {},
   "source": [
    "1.3"
   ]
  },
  {
   "cell_type": "code",
   "execution_count": 45,
   "metadata": {},
   "outputs": [],
   "source": [
    "def find_corners(image, N_corners, method=\"k\", k=0.05, eps=1e-06, sigma=1):\n",
    "    image_corner = corner_harris(image, method, k, eps, sigma)\n",
    "    return corner_peaks(image_corner, num_peaks=N_corners)\n",
    "\n",
    "A = imread(\"modelhouses.png\")\n",
    "corners = find_corners(A, 250) \n",
    "\n",
    "plt.imshow(A, cmap=\"gray\")\n",
    "plt.scatter(corners[:,1], corners[:,0], s=0.5), plt.axis(\"off\")\n",
    "plt.title(\"250 strongest corner points\")\n",
    "plt.show()\n"
   ]
  },
  {
   "attachments": {},
   "cell_type": "markdown",
   "metadata": {},
   "source": [
    "# 2"
   ]
  },
  {
   "attachments": {},
   "cell_type": "markdown",
   "metadata": {},
   "source": [
    "2.1"
   ]
  },
  {
   "cell_type": "code",
   "execution_count": 20,
   "metadata": {},
   "outputs": [],
   "source": [
    "def angle_between_points(p1,p2):\n",
    "    delta_x = p2[1] - p1[1]\n",
    "    delta_y = p2[0] - p1[0]\n",
    "    return np.arctan2(delta_y, delta_x)\n",
    "\n",
    "\n",
    "A  = imread(\"textlabel_gray_small.png\")\n",
    "\n",
    "corners = find_corners(A,50,k=0.05,sigma=7)\n",
    "\n",
    "top_left = corners[np.argmin(np.sum(corners, axis=1))]\n",
    "top_right = corners[np.argmin(np.diff(corners, axis=1))]\n",
    "bottom_right = corners[np.argmax(np.sum(corners, axis=1))]\n",
    "bottom_left = corners[np.argmax(np.diff(corners, axis=1))]\n",
    "indices = []\n",
    "for corner in [top_left, top_right, bottom_right, bottom_left]:\n",
    "    index = np.where((corners == corner).all(axis=1))[0][0]\n",
    "    indices.append(index)\n",
    "\n",
    "corners = np.delete(corners, indices, axis=0)\n",
    "top_left = corners[np.argmin(np.sum(corners, axis=1))]\n",
    "bottom_left = corners[np.argmin(np.diff(corners, axis=1))]\n",
    "bottom_right = corners[np.argmax(np.sum(corners, axis=1))]\n",
    "top_right = corners[np.argmax(np.diff(corners, axis=1))]\n",
    "\n",
    "plt.imshow(A,cmap=\"gray\")\n",
    "plt.scatter(corners[:,1], corners[:,0], s=0.5), plt.axis(\"off\")\n",
    "plt.scatter(top_left[1],top_left[0], s=50), plt.axis(\"off\")\n",
    "plt.scatter(top_right[1],top_right[0], s=0.5), plt.axis(\"off\")\n",
    "plt.scatter(bottom_right[1],bottom_right[0], s=0.5), plt.axis(\"off\")\n",
    "plt.scatter(bottom_left[1],bottom_left[0], s=0.5), plt.axis(\"off\")\n",
    "\n",
    "\n",
    "plt.show()\n",
    "\n"
   ]
  },
  {
   "cell_type": "code",
   "execution_count": 21,
   "metadata": {},
   "outputs": [
    {
     "data": {
      "text/plain": [
       "<matplotlib.image.AxesImage at 0x20fe23a3e80>"
      ]
     },
     "execution_count": 21,
     "metadata": {},
     "output_type": "execute_result"
    }
   ],
   "source": [
    "Ang1 = angle_between_points(bottom_left,top_left)\n",
    "Ang2 = angle_between_points(bottom_right,top_right)\n",
    "AngAvg = (Ang1 + Ang2) / 2\n",
    "AngDegr = np.rad2deg(AngAvg)\n",
    "rotated_image = rotate(A,(AngDegr),resize=True)\n",
    "plt.imshow(rotated_image,cmap=\"gray\")\n"
   ]
  },
  {
   "attachments": {},
   "cell_type": "markdown",
   "metadata": {},
   "source": [
    "# 3"
   ]
  },
  {
   "attachments": {},
   "cell_type": "markdown",
   "metadata": {},
   "source": [
    "3.1"
   ]
  },
  {
   "cell_type": "code",
   "execution_count": 2,
   "metadata": {},
   "outputs": [],
   "source": [
    "def gaussian(x, y, sigma):\n",
    "    return (1/(2*np.pi*sigma**2))*np.e**(-(x**2 + y**2)/(2*sigma**2))\n",
    "\n",
    "def generate_image(size, func, func_args):\n",
    "    img = np.zeros((size, size))\n",
    "    \n",
    "    half_size = int((size / 2))\n",
    "    rng = range(-half_size, half_size+1)\n",
    "    for i in rng:\n",
    "        for j in rng:\n",
    "            img[i,j] = func(i, j, func_args)\n",
    "    \n",
    "    img = np.roll(img, shift = (half_size, half_size), axis = (0, 1))\n",
    "    \n",
    "    return img\n",
    "\n",
    "size = 25\n",
    "func = gaussian\n",
    "sigma = 1\n",
    "tau = 2\n",
    "\n",
    "blob_s = generate_image(size, func, sigma)\n",
    "blob_t = generate_image(size, func, tau)\n",
    "blob_conv = convolve2d(blob_s, blob_t, mode = 'same', boundary = 'wrap')\n",
    "blob_comparison = generate_image(size, func, np.sqrt(sigma**2 + tau**2))\n",
    "\n",
    "vmin, vmax = 0, np.max(blob_s)\n",
    "\n",
    "plot_images = [blob_s, blob_t, blob_conv, blob_comparison, np.abs(np.subtract(blob_comparison, blob_conv))]\n",
    "plot_labels = ['$G_\\\\sigma(x,y,\\\\sigma)$', '$G_\\\\tau(x,y,\\\\tau)$', '$G_\\\\sigma * G_\\\\tau$', '$G(x,y,\\\\sqrt{\\\\sigma^2 + \\\\tau^2})$', '$G - (G_\\\\sigma * G_\\\\tau)$']\n",
    "fig, axs = plt.subplots(1,5)\n",
    "for i, image in enumerate(plot_images):\n",
    "    im = axs[i].imshow(image, 'gray')\n",
    "    axs[i].set_axis_off()\n",
    "    axs[i].set_title(plot_labels[i], fontsize = 8)\n",
    "    cbar = plt.colorbar(im, ax = axs[i], shrink = 1, orientation = 'horizontal', pad = 0.02)\n",
    "    cbar.ax.tick_params(labelsize = 5)\n",
    "          \n",
    "plt.savefig('Blobs.png', dpi = 200)\n",
    "plt.show()"
   ]
  },
  {
   "cell_type": "code",
   "execution_count": 3,
   "metadata": {},
   "outputs": [],
   "source": [
    "plot_images = [blob_s, blob_t, blob_conv, blob_comparison, np.abs(np.subtract(blob_comparison, blob_conv))]\n",
    "plot_labels = ['$G_\\\\sigma(x,y,\\\\sigma)$', '$G_\\\\tau(x,y,\\\\tau)$', '$G_\\\\sigma * G_\\\\tau$', '$G(x,y,\\\\sqrt{\\\\sigma^2 + \\\\tau^2})$', '$G - (G_\\\\sigma * G_\\\\tau)$']\n",
    "fig, axs = plt.subplots(1,5)\n",
    "for i, image in enumerate(plot_images):\n",
    "    im = axs[i].imshow(image, 'gray', vmin = 0, vmax = vmax)\n",
    "    axs[i].set_axis_off()\n",
    "    axs[i].set_title(plot_labels[i], fontsize = 8)\n",
    "    cbar = plt.colorbar(im, ax = axs[i], shrink = 1, orientation = 'horizontal', pad = 0.02)\n",
    "    cbar.ax.tick_params(labelsize = 5)\n",
    "          \n",
    "plt.savefig('BlobsEqualScale.png', dpi = 200)\n",
    "plt.show()"
   ]
  },
  {
   "attachments": {},
   "cell_type": "markdown",
   "metadata": {},
   "source": [
    "3.2"
   ]
  },
  {
   "cell_type": "code",
   "execution_count": null,
   "metadata": {},
   "outputs": [],
   "source": []
  },
  {
   "attachments": {},
   "cell_type": "markdown",
   "metadata": {},
   "source": [
    "3.3"
   ]
  },
  {
   "cell_type": "code",
   "execution_count": 46,
   "metadata": {},
   "outputs": [],
   "source": [
    "tau = np.linspace(-10, 10, 1000)\n",
    "H = -tau**2/(np.pi*(4+tau**2))\n",
    "\n",
    "plt.plot(tau, H)\n",
    "plt.xlabel(\"\\u03C4\")\n",
    "plt.ylabel(\"H(0, 0, \\u03C4)\")\n",
    "plt.title(\"H(0, 0, \\u03C4) plotted for various \\u03C4\")\n",
    "plt.tight_layout()\n",
    "plt.show()"
   ]
  },
  {
   "attachments": {},
   "cell_type": "markdown",
   "metadata": {},
   "source": [
    "i"
   ]
  },
  {
   "cell_type": "code",
   "execution_count": null,
   "metadata": {},
   "outputs": [],
   "source": []
  },
  {
   "attachments": {},
   "cell_type": "markdown",
   "metadata": {},
   "source": [
    "ii"
   ]
  },
  {
   "cell_type": "code",
   "execution_count": null,
   "metadata": {},
   "outputs": [],
   "source": []
  },
  {
   "attachments": {},
   "cell_type": "markdown",
   "metadata": {},
   "source": [
    "iii"
   ]
  },
  {
   "cell_type": "code",
   "execution_count": null,
   "metadata": {},
   "outputs": [],
   "source": []
  },
  {
   "attachments": {},
   "cell_type": "markdown",
   "metadata": {},
   "source": [
    "3.4"
   ]
  },
  {
   "cell_type": "code",
   "execution_count": null,
   "metadata": {},
   "outputs": [],
   "source": []
  },
  {
   "cell_type": "markdown",
   "metadata": {},
   "source": []
  }
 ],
 "metadata": {
  "kernelspec": {
   "display_name": "py310",
   "language": "python",
   "name": "python3"
  },
  "language_info": {
   "codemirror_mode": {
    "name": "ipython",
    "version": 3
   },
   "file_extension": ".py",
   "mimetype": "text/x-python",
   "name": "python",
   "nbconvert_exporter": "python",
   "pygments_lexer": "ipython3",
   "version": "3.10.6"
  },
  "orig_nbformat": 4,
  "vscode": {
   "interpreter": {
    "hash": "f6c59e9a90901d54f4b9f5796ffe87a4c182513f672a519035aa940c71554467"
   }
  }
 },
 "nbformat": 4,
 "nbformat_minor": 2
}
