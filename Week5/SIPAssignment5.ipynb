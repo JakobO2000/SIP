{
 "cells": [
  {
   "cell_type": "code",
   "execution_count": 1,
   "metadata": {},
   "outputs": [],
   "source": [
    "%matplotlib qt\n",
    "from matplotlib import pyplot as plt\n",
    "from numpy.random import rand\n",
    "import skimage as sm\n",
    "import skimage.morphology as morph\n",
    "from skimage.io import imread, imsave\n",
    "from skimage.util import img_as_float, random_noise\n",
    "from skimage.transform import rotate, resize\n",
    "from skimage.filters import gaussian as ski_gaussian\n",
    "from pylab import ginput\n",
    "from scipy.signal import convolve, convolve2d, correlate2d, fftconvolve\n",
    "from scipy.signal import  gaussian as scipy_gaussian\n",
    "from scipy.fft import fft2, fftshift, ifft2, ifftshift\n",
    "from scipy.interpolate import griddata\n",
    "from scipy.ndimage import map_coordinates\n",
    "\n",
    "import numpy as np\n",
    "import os\n",
    "import timeit\n",
    "\n",
    "\n",
    "os.chdir(\"../Mats\")"
   ]
  },
  {
   "cell_type": "code",
   "execution_count": 2,
   "metadata": {},
   "outputs": [],
   "source": [
    "plt.rcParams['figure.dpi'] = 300\n",
    "plt.rcParams['savefig.dpi'] = 300"
   ]
  },
  {
   "attachments": {},
   "cell_type": "markdown",
   "metadata": {},
   "source": [
    "# 1"
   ]
  },
  {
   "attachments": {},
   "cell_type": "markdown",
   "metadata": {},
   "source": [
    "1.1"
   ]
  },
  {
   "cell_type": "markdown",
   "metadata": {},
   "source": [
    "1.1.1"
   ]
  },
  {
   "cell_type": "code",
   "execution_count": 20,
   "metadata": {},
   "outputs": [
    {
     "data": {
      "text/plain": [
       "(<matplotlib.image.AxesImage at 0x245831999f0>,\n",
       " (-0.5, 763.5, 558.5, -0.5),\n",
       " Text(0.5, 1.0, 'Closing'))"
      ]
     },
     "execution_count": 20,
     "metadata": {},
     "output_type": "execute_result"
    }
   ],
   "source": [
    "A = imread(\"cells_binary_inv.png\")\n",
    "\n",
    "disk = morph.disk(1)\n",
    "openA = morph.binary_opening(A,disk)\n",
    "closeA = morph.binary_closing(A,disk)\n",
    "\n",
    "plt.subplot(2,3,1)\n",
    "plt.imshow(A,cmap=\"gray\"),plt.axis(\"off\"),plt.title(\"Original\")\n",
    "plt.subplot(2,3,2)\n",
    "plt.imshow(openA,cmap=\"gray\"),plt.axis(\"off\"),plt.title(\"Opening\")\n",
    "plt.subplot(2,3,3)\n",
    "plt.imshow(closeA,cmap=\"gray\"),plt.axis(\"off\"),plt.title(\"Closing\")\n",
    "plt.subplot(2,3,4)\n",
    "plt.imshow(A,cmap=\"gray\"),plt.axis(\"off\"),plt.title(\"Original\")\n",
    "plt.subplot(2,3,5)\n",
    "plt.imshow(openA,cmap=\"gray\"),plt.axis(\"off\"),plt.title(\"Opening\")\n",
    "plt.subplot(2,3,6)\n",
    "plt.imshow(closeA,cmap=\"gray\"),plt.axis(\"off\"),plt.title(\"Closing\")"
   ]
  },
  {
   "attachments": {},
   "cell_type": "markdown",
   "metadata": {},
   "source": [
    "1.1.2"
   ]
  },
  {
   "cell_type": "code",
   "execution_count": null,
   "metadata": {},
   "outputs": [],
   "source": []
  },
  {
   "attachments": {},
   "cell_type": "markdown",
   "metadata": {},
   "source": [
    "1.1.3"
   ]
  },
  {
   "cell_type": "code",
   "execution_count": 21,
   "metadata": {},
   "outputs": [
    {
     "name": "stdout",
     "output_type": "stream",
     "text": [
      "369 343 427\n"
     ]
    }
   ],
   "source": [
    "A = imread(\"cells_binary_inv.png\")\n",
    "\n",
    "\n",
    "disk = morph.disk(1)\n",
    "openA = morph.binary_opening(A,disk)\n",
    "closedA = morph.binary_closing(A,disk)\n",
    "\n",
    "connectedopen = sm.measure.label(openA, background=255,connectivity=2)\n",
    "connectedclosed = sm.measure.label(closedA, background=255,connectivity=2)\n",
    "connectedA = sm.measure.label(A, background=255,connectivity=2)\n",
    "\n",
    "plt.subplot(1,2,1)\n",
    "plt.imshow(connectedopen,cmap=\"gray\"),plt.axis(\"off\"),plt.title(\"Open connected ({})\".format(connectedopen.max()))\n",
    "plt.subplot(1,2,2)\n",
    "plt.imshow(connectedclosed,cmap=\"gray\"),plt.axis(\"off\"),plt.title(\"Closed connected ({})\".format(connectedclosed.max()))\n",
    "\n",
    "print(connectedopen.max(),connectedclosed.max(),connectedA.max())"
   ]
  },
  {
   "attachments": {},
   "cell_type": "markdown",
   "metadata": {},
   "source": [
    "1.2"
   ]
  },
  {
   "cell_type": "code",
   "execution_count": 23,
   "metadata": {},
   "outputs": [
    {
     "name": "stdout",
     "output_type": "stream",
     "text": [
      "Coinsum =  115.5\n"
     ]
    }
   ],
   "source": [
    "def check_positions(m1, m2, N):\n",
    "    mask = np.array(m1) == N\n",
    "    result = np.any(np.array(m2)[mask] != 0)\n",
    "    return result\n",
    "A = imread(\"money_bin.jpg\")\n",
    "mask = A > 230\n",
    "A[mask],A[~mask] = 0, 1\n",
    "disk = morph.disk(5)\n",
    "Atest = morph.binary_closing(A)\n",
    "Atest = morph.binary_opening(Atest)\n",
    "connectedA = sm.measure.label(Atest, background=255, connectivity=2)\n",
    "coinVals,cIndex,Loops,coinSum,uq =[1,2,5,0.5,20],0,100,0,np.unique(connectedA)[1:]\n",
    "for i in range(Loops):\n",
    "    Atest,remCount = morph.binary_erosion(Atest, disk),0\n",
    "    for j in uq:\n",
    "        if not check_positions(connectedA, Atest, j):\n",
    "            uq = uq[uq != j]\n",
    "            remCount +=1\n",
    "    if remCount != 0:\n",
    "        coinSum += remCount*coinVals[cIndex]\n",
    "        cIndex +=1\n",
    "print(\"Coinsum = \", coinSum)"
   ]
  },
  {
   "cell_type": "code",
   "execution_count": null,
   "metadata": {},
   "outputs": [],
   "source": [
    "plt.imshow(connectedA,cmap=\"jet\")\n",
    "plt.show()"
   ]
  },
  {
   "attachments": {},
   "cell_type": "markdown",
   "metadata": {},
   "source": [
    "# 2"
   ]
  },
  {
   "attachments": {},
   "cell_type": "markdown",
   "metadata": {},
   "source": [
    "2.1"
   ]
  },
  {
   "cell_type": "code",
   "execution_count": null,
   "metadata": {},
   "outputs": [],
   "source": []
  },
  {
   "cell_type": "code",
   "execution_count": 5,
   "metadata": {},
   "outputs": [],
   "source": [
    "def gaussian_kernel(size=5, sig=1.):\n",
    "    ax = np.linspace(-(size - 1) / 2., (size - 1) / 2., size)\n",
    "    gauss = np.exp(-0.5 * np.square(ax) / np.square(sig))\n",
    "    kernel = np.outer(gauss, gauss)\n",
    "    return kernel / np.sum(kernel)"
   ]
  },
  {
   "cell_type": "code",
   "execution_count": 235,
   "metadata": {},
   "outputs": [],
   "source": [
    "def LSI(img,kernel,noise):\n",
    "    return convolve2d(img,kernel,mode=\"same\") + noise\n",
    "\n",
    "\n",
    "A = imread(\"monster.jpg\",as_gray=True)\n",
    "A = imread(\"trui.png\",as_gray=True)\n",
    "\n",
    "noise = [0.1,50]\n",
    "kernels = [gaussian_kernel(9,sig=1), gaussian_kernel(18,sig=5)]\n",
    "for i, noise_level in enumerate(noise):\n",
    "    plt.subplot(len(noise), len(kernels) + 1, i*(len(kernels)+1) + 1)\n",
    "    plt.imshow(A, cmap=\"gray\")\n",
    "    plt.title(\"Original\")\n",
    "    plt.axis(\"off\")\n",
    "    for j, kernel in enumerate(kernels):\n",
    "        plt.subplot(len(noise), len(kernels) + 1, i*(len(kernels)+1) + j + 2)\n",
    "        filtA = LSI(A, kernel, np.random.normal(0, noise_level, size=A.shape))\n",
    "        plt.imshow(filtA, cmap=\"gray\")\n",
    "        plt.title(\"K {}, NL {}\".format(j+1, noise_level))\n",
    "        plt.axis(\"off\")\n",
    "    \n",
    "plt.tight_layout()\n",
    "plt.show()\n"
   ]
  },
  {
   "attachments": {},
   "cell_type": "markdown",
   "metadata": {},
   "source": [
    "2.2"
   ]
  },
  {
   "cell_type": "code",
   "execution_count": 234,
   "metadata": {},
   "outputs": [
    {
     "data": {
      "text/plain": [
       "(<matplotlib.image.AxesImage at 0x29ea0aaf160>,\n",
       " (-0.5, 255.5, 255.5, -0.5),\n",
       " Text(0.5, 1.0, 'Mild original'))"
      ]
     },
     "execution_count": 234,
     "metadata": {},
     "output_type": "execute_result"
    }
   ],
   "source": [
    "def restoration(img,psf):\n",
    "    psfFFT = fft2(psf,s=img.shape)\n",
    "    imgFFT = fft2(img,axes=(0,1))\n",
    "    restoredFFT = np.divide(imgFFT,np.conj(psfFFT))\n",
    "    imgRestored = np.abs(ifft2(restoredFFT))\n",
    "    return imgRestored\n",
    "\n",
    "A = imread(\"monster.jpg\",as_gray=True)\n",
    "A = imread(\"trui.png\",as_gray=True)\n",
    "\n",
    "psf = gaussian_kernel(9, sig=1)\n",
    "\n",
    "imgMild = LSI(A,psf,np.random.normal(0, 0.01, size=A.shape))\n",
    "imgExtreme = LSI(A,psf,np.random.normal(0, 50, size=A.shape))\n",
    "imgRestMild = restoration(imgMild,psf)\n",
    "imgRestExtr = restoration(imgExtreme,psf)\n",
    "\n",
    "\n",
    "\n",
    "plt.subplot(2,2,1)\n",
    "plt.imshow(imgMild,cmap=\"gray\"),plt.axis(\"off\"),plt.title(\"NL=5 original\")\n",
    "plt.subplot(2,2,2)\n",
    "plt.imshow(imgExtreme,cmap=\"gray\"),plt.axis(\"off\"),plt.title(\"NL=50 original\")\n",
    "plt.subplot(2,2,3)\n",
    "plt.imshow(imgRestMild,cmap=\"gray\"),plt.axis(\"off\"),plt.title(\"Mild original\")\n",
    "plt.subplot(2,2,4)\n",
    "plt.imshow(imgRestExtr,cmap=\"gray\"),plt.axis(\"off\"),plt.title(\"Mild original\")\n",
    "plt.tight_layout()\n",
    "plt.show()"
   ]
  },
  {
   "attachments": {},
   "cell_type": "markdown",
   "metadata": {},
   "source": [
    "2.3"
   ]
  },
  {
   "cell_type": "code",
   "execution_count": 237,
   "metadata": {},
   "outputs": [],
   "source": [
    "def weinerFilt(img,psf,K):\n",
    "    psfFFT = fft2(psf,s=img.shape)\n",
    "    imgFFT = fft2(img,axes=(0,1))\n",
    "    sigPower = np.abs(psfFFT)**2\n",
    "\n",
    "    filter = 1/psfFFT * sigPower / (sigPower + K)\n",
    "    restoredFFT = filter * imgFFT\n",
    "    return np.abs(ifft2(restoredFFT))\n",
    "\n",
    "A = imread(\"trui.png\",as_gray=True)\n",
    "\n",
    "psf = gaussian_kernel(9)\n",
    "\n",
    "imgMild = LSI(A,psf,np.random.normal(0, 0.01, size=A.shape))\n",
    "imgExtreme = LSI(A,psf,np.random.normal(0, 50, size=A.shape))\n",
    "imgRestMild = weinerFilt(imgMild,psf,K=0.1)\n",
    "imgRestExtr = weinerFilt(imgExtreme,psf,K=0.1)\n",
    "\n",
    "\n",
    "\n",
    "plt.subplot(2,2,1)\n",
    "plt.imshow(imgMild,cmap=\"gray\"),plt.axis(\"off\"),plt.title(\"NL=5 original\")\n",
    "plt.subplot(2,2,2)\n",
    "plt.imshow(imgExtreme,cmap=\"gray\"),plt.axis(\"off\"),plt.title(\"NL=50 original\")\n",
    "plt.subplot(2,2,3)\n",
    "plt.imshow(imgRestMild,cmap=\"gray\"),plt.axis(\"off\"),plt.title(\"Mild original\")\n",
    "plt.subplot(2,2,4)\n",
    "plt.imshow(imgRestExtr,cmap=\"gray\"),plt.axis(\"off\"),plt.title(\"Mild original\")\n",
    "plt.tight_layout()\n",
    "plt.show()"
   ]
  },
  {
   "attachments": {},
   "cell_type": "markdown",
   "metadata": {},
   "source": [
    "# 3"
   ]
  },
  {
   "attachments": {},
   "cell_type": "markdown",
   "metadata": {},
   "source": [
    "3.4"
   ]
  },
  {
   "cell_type": "code",
   "execution_count": 21,
   "metadata": {},
   "outputs": [],
   "source": [
    "def centred_square(x, y, N):\n",
    "    if x%2==0 or y%2==0:\n",
    "        raise ValueError(\"The x and y dimensions of the image must be odd\")\n",
    "    output = np.zeros((x, y))\n",
    "    x_center, y_center = x//2, y//2\n",
    "    half_N = N//2\n",
    "    if N%2==1:\n",
    "        output[x_center-half_N:x_center+half_N+1, y_center-half_N:y_center+half_N+1] = 1\n",
    "    else:\n",
    "        output[x_center-half_N:x_center+half_N, y_center-half_N:y_center+half_N] = 1\n",
    "    return output\n",
    "\n",
    "plt.imshow(centred_square(9, 9, 3), cmap=\"gray\")\n",
    "plt.xticks(np.arange(0, 9))\n",
    "plt.yticks(np.arange(0, 9))\n",
    "plt.grid(linewidth=0.15, color=\"blue\", alpha=0.75)\n",
    "plt.show()"
   ]
  },
  {
   "attachments": {},
   "cell_type": "markdown",
   "metadata": {},
   "source": [
    "3.5"
   ]
  },
  {
   "cell_type": "code",
   "execution_count": 25,
   "metadata": {},
   "outputs": [],
   "source": [
    "def filter_translation(image, tx, ty, mode=\"full\", boundary=\"fill\"):\n",
    "    filter_x, filter_y = np.zeros(2*np.abs(tx)+1), np.zeros(2*np.abs(ty)+1)\n",
    "    filter_x[np.abs(tx)+tx] = 1\n",
    "    filter_y[np.abs(ty)+ty] = 1\n",
    "    filter = np.outer(filter_y, filter_x)\n",
    "    output = convolve2d(image, filter, mode, boundary)\n",
    "    return output\n",
    "A = centred_square(9, 9, 3)\n",
    "plt.subplot(1, 2, 1)\n",
    "plt.imshow(A, cmap=\"gray\")\n",
    "plt.xticks(np.arange(0, 9))\n",
    "plt.yticks(np.arange(0, 9))\n",
    "plt.grid(linewidth=0.15, color=\"blue\", alpha=0.75)\n",
    "plt.title(\"Original image\")\n",
    "B = filter_translation(A, 3, 3, mode=\"same\")\n",
    "plt.subplot(1, 2, 2)\n",
    "plt.imshow(B, cmap=\"gray\")\n",
    "plt.xticks(np.arange(0, 9))\n",
    "plt.yticks(np.arange(0, 9))\n",
    "plt.grid(linewidth=0.15, color=\"blue\", alpha=0.75)\n",
    "plt.title(\"Filter translation\")\n",
    "plt.show()"
   ]
  },
  {
   "attachments": {},
   "cell_type": "markdown",
   "metadata": {},
   "source": [
    "3.6"
   ]
  },
  {
   "cell_type": "code",
   "execution_count": 26,
   "metadata": {},
   "outputs": [],
   "source": [
    "def homogeneous_translation(image, tx, ty):\n",
    "        output = np.zeros(image.shape)\n",
    "        matrix = np.identity(3)\n",
    "        matrix[0, 2] = tx\n",
    "        matrix[1, 2] = ty\n",
    "        matrix = np.linalg.inv(matrix)\n",
    "        x = np.linspace(1, image.shape[1], image.shape[1])\n",
    "        y = np.linspace(1, image.shape[0], image.shape[0])\n",
    "        X, Y = np.meshgrid(x, y)\n",
    "        for i in range(len(x)):\n",
    "            for j in range(len(y)):\n",
    "                loc = matrix@np.array([x[i], y[j], 1])\n",
    "                x_nearest = int(round(loc[0]-1))\n",
    "                y_nearest = int(round(loc[1]-1))\n",
    "                if x_nearest >= image.shape[0] or y_nearest >= image.shape[1]:\n",
    "                    output[j, i] = 0\n",
    "                else:    \n",
    "                    output[j, i] = image[y_nearest,x_nearest]\n",
    "        return output\n",
    "    \n",
    "    \n",
    "A = centred_square(9, 9, 3)\n",
    "plt.subplot(1, 2, 1)\n",
    "plt.imshow(A, cmap=\"gray\")\n",
    "plt.xticks(np.arange(0, 9))\n",
    "plt.yticks(np.arange(0, 9))\n",
    "plt.grid(linewidth=0.15, color=\"blue\", alpha=0.75)\n",
    "plt.title(\"Original image\")\n",
    "B = homogeneous_translation(A, 0.6, 1.2)\n",
    "plt.subplot(1, 2, 2)\n",
    "plt.imshow(B, cmap=\"gray\")\n",
    "plt.xticks(np.arange(0, 9))\n",
    "plt.yticks(np.arange(0, 9))\n",
    "plt.grid(linewidth=0.15, color=\"blue\", alpha=0.75)\n",
    "plt.title(\"Homogeneous translation\")\n",
    "plt.show()"
   ]
  },
  {
   "attachments": {},
   "cell_type": "markdown",
   "metadata": {},
   "source": [
    "3.7"
   ]
  },
  {
   "cell_type": "code",
   "execution_count": 32,
   "metadata": {},
   "outputs": [],
   "source": [
    "def fourier_translation(image, tx, ty):\n",
    "    fft_image = fft2(image)\n",
    "    u = np.fft.fftfreq(fft_image.shape[1])\n",
    "    v = np.fft.fftfreq(fft_image.shape[0])\n",
    "    u, v = np.meshgrid(u, v)\n",
    "    rotate = np.exp(-2j*np.pi*(u*tx+v*ty))\n",
    "    return np.real(ifft2(fft_image*rotate))\n",
    "\n",
    "A = centred_square(9, 9, 3)\n",
    "plt.subplot(1, 2, 1)\n",
    "plt.imshow(A, cmap=\"gray\")\n",
    "plt.xticks(np.arange(0, 9))\n",
    "plt.yticks(np.arange(0, 9))\n",
    "plt.grid(linewidth=0.15, color=\"blue\", alpha=0.75)\n",
    "plt.title(\"Original image\")\n",
    "C = fourier_translation(A, 3, 3)\n",
    "plt.subplot(1, 2, 2)\n",
    "plt.imshow(C, cmap=\"gray\")\n",
    "plt.xticks(np.arange(0, 9))\n",
    "plt.yticks(np.arange(0, 9))\n",
    "plt.grid(linewidth=0.15, color=\"blue\", alpha=0.75)\n",
    "plt.title(\"Fourier translation\")\n",
    "plt.show()"
   ]
  },
  {
   "attachments": {},
   "cell_type": "markdown",
   "metadata": {},
   "source": [
    "3.8"
   ]
  },
  {
   "cell_type": "code",
   "execution_count": 49,
   "metadata": {},
   "outputs": [],
   "source": [
    "A1 = centred_square(33, 33, 7)\n",
    "B = fourier_translation(A1, 5.6, 7.2)\n",
    "plt.subplot(1, 2, 1)\n",
    "plt.imshow(B, cmap=\"gray\")\n",
    "plt.title(\"Centred white square\")\n",
    "A2 = imread(\"cameraman.tif\")\n",
    "C = fourier_translation(A2, 15.3, 30.7)\n",
    "plt.subplot(1, 2, 2)\n",
    "plt.imshow(C, cmap=\"gray\")\n",
    "plt.title(\"cameraman.tif\")\n",
    "plt.show()"
   ]
  }
 ],
 "metadata": {
  "kernelspec": {
   "display_name": "py310",
   "language": "python",
   "name": "python3"
  },
  "language_info": {
   "codemirror_mode": {
    "name": "ipython",
    "version": 3
   },
   "file_extension": ".py",
   "mimetype": "text/x-python",
   "name": "python",
   "nbconvert_exporter": "python",
   "pygments_lexer": "ipython3",
   "version": "3.10.9"
  },
  "orig_nbformat": 4,
  "vscode": {
   "interpreter": {
    "hash": "f6c59e9a90901d54f4b9f5796ffe87a4c182513f672a519035aa940c71554467"
   }
  }
 },
 "nbformat": 4,
 "nbformat_minor": 2
}
