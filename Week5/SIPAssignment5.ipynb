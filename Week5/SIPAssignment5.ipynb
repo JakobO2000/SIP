{
 "cells": [
  {
   "cell_type": "code",
   "execution_count": 2,
   "metadata": {},
   "outputs": [],
   "source": [
    "%matplotlib qt\n",
    "from matplotlib import pyplot as plt\n",
    "from numpy.random import rand\n",
    "import skimage as sm\n",
    "import skimage.morphology as morph\n",
    "from skimage.io import imread, imsave\n",
    "from skimage.util import img_as_float, random_noise\n",
    "from skimage.transform import rotate, resize\n",
    "from skimage.filters import gaussian as ski_gaussian\n",
    "from pylab import ginput\n",
    "from scipy.signal import convolve, convolve2d, correlate2d, fftconvolve\n",
    "from scipy.signal import  gaussian as scipy_gaussian\n",
    "from scipy.fft import fft2, fftshift, ifft2, ifftshift\n",
    "from scipy.interpolate import griddata\n",
    "from scipy.ndimage import map_coordinates\n",
    "\n",
    "import numpy as np\n",
    "import os\n",
    "import timeit\n",
    "\n",
    "\n",
    "os.chdir(\"../Mats\")"
   ]
  },
  {
   "cell_type": "code",
   "execution_count": null,
   "metadata": {},
   "outputs": [],
   "source": [
    "plt.rcParams['figure.dpi'] = 300\n",
    "plt.rcParams['savefig.dpi'] = 300"
   ]
  },
  {
   "attachments": {},
   "cell_type": "markdown",
   "metadata": {},
   "source": [
    "# 1"
   ]
  },
  {
   "attachments": {},
   "cell_type": "markdown",
   "metadata": {},
   "source": [
    "1.1"
   ]
  },
  {
   "cell_type": "markdown",
   "metadata": {},
   "source": [
    "1.1.1"
   ]
  },
  {
   "cell_type": "code",
   "execution_count": 3,
   "metadata": {},
   "outputs": [
    {
     "data": {
      "text/plain": [
       "<matplotlib.image.AxesImage at 0x1d6b27acbe0>"
      ]
     },
     "execution_count": 3,
     "metadata": {},
     "output_type": "execute_result"
    }
   ],
   "source": [
    "A = imread(\"cells_binary_inv.png\")\n",
    "\n",
    "disk = morph.disk(1)\n",
    "openA = morph.binary_opening(A)\n",
    "closeA = morph.binary_closing(A)\n",
    "\n",
    "plt.subplot(1,3,1)\n",
    "plt.imshow(A,cmap=\"gray\")\n",
    "plt.subplot(1,3,2)\n",
    "plt.imshow(openA,cmap=\"gray\")\n",
    "plt.subplot(1,3,3)\n",
    "plt.imshow(closeA,cmap=\"gray\")\n"
   ]
  },
  {
   "attachments": {},
   "cell_type": "markdown",
   "metadata": {},
   "source": [
    "1.1.2"
   ]
  },
  {
   "cell_type": "code",
   "execution_count": null,
   "metadata": {},
   "outputs": [],
   "source": [
    "A = imread(\"money_bin.jpg\")\n",
    "\n",
    "A = imread(\"cells_binary_inv.png\")\n",
    "\n",
    "\n",
    "mask = A >230\n",
    "A[mask] = 255\n",
    "A[~mask] =0\n",
    "\n",
    "\n",
    "disk = morph.disk(1)\n",
    "\n",
    "Atest = morph.binary_closing(A)\n",
    "Atest = morph.binary_opening(Atest)\n",
    "\n",
    "Atest = Atest.astype(np.uint8)\n",
    "\n",
    "\n",
    "\n",
    "plt.subplot(1,3,1)\n",
    "plt.imshow(A,cmap=\"gray\")\n",
    "plt.subplot(1,3,2)\n",
    "plt.imshow(Atest,cmap=\"gray\")\n",
    "\n",
    "mask = Atest == True\n",
    "Atest[mask] = 255\n",
    "Atest[~mask] =0\n",
    "\n",
    "\n",
    "\n",
    "plt.subplot(1,3,3)\n",
    "plt.imshow(Atest,cmap=\"gray\")\n"
   ]
  },
  {
   "cell_type": "code",
   "execution_count": null,
   "metadata": {},
   "outputs": [],
   "source": [
    "connectedA = sm.measure.label(Atest, background=255,connectivity=2)\n",
    "\n",
    "plt.subplot(1,2,1)\n",
    "plt.imshow(A,cmap=\"gray\")\n",
    "plt.subplot(1,2,2)\n",
    "plt.imshow(connectedA,cmap=\"gray\")"
   ]
  },
  {
   "cell_type": "code",
   "execution_count": null,
   "metadata": {},
   "outputs": [],
   "source": [
    "connectedA.max()"
   ]
  },
  {
   "cell_type": "code",
   "execution_count": null,
   "metadata": {},
   "outputs": [],
   "source": []
  },
  {
   "attachments": {},
   "cell_type": "markdown",
   "metadata": {},
   "source": [
    "1.1.3"
   ]
  },
  {
   "cell_type": "code",
   "execution_count": null,
   "metadata": {},
   "outputs": [],
   "source": []
  },
  {
   "attachments": {},
   "cell_type": "markdown",
   "metadata": {},
   "source": [
    "1.2"
   ]
  },
  {
   "cell_type": "code",
   "execution_count": null,
   "metadata": {},
   "outputs": [],
   "source": [
    "A = imread(\"money_bin.jpg\")\n",
    "\n",
    "mask = A >230\n",
    "A[mask] = 0\n",
    "A[~mask] =1\n",
    "\n",
    "\n",
    "disk = morph.disk(1)\n",
    "\n",
    "Atest = morph.binary_closing(A)\n",
    "Atest = morph.binary_opening(Atest)\n",
    "\n",
    "connectedA = sm.measure.label(Atest, background=255,connectivity=2)\n",
    "plt.imshow(connectedA,cmap=\"jet\")\n"
   ]
  },
  {
   "cell_type": "code",
   "execution_count": 5,
   "metadata": {},
   "outputs": [
    {
     "data": {
      "text/plain": [
       "<matplotlib.image.AxesImage at 0x2b3d3980bb0>"
      ]
     },
     "execution_count": 5,
     "metadata": {},
     "output_type": "execute_result"
    }
   ],
   "source": [
    "plt.imshow(connectedA,cmap=\"jet\")"
   ]
  },
  {
   "cell_type": "code",
   "execution_count": 21,
   "metadata": {},
   "outputs": [
    {
     "name": "stdout",
     "output_type": "stream",
     "text": [
      "True\n",
      "Label 1 is gone\n",
      "0\n",
      "True\n",
      "Label 2 is gone\n",
      "0\n",
      "True\n",
      "Label 3 is gone\n",
      "0\n",
      "True\n",
      "Label 4 is gone\n",
      "0\n",
      "True\n",
      "Label 5 is gone\n",
      "0\n",
      "True\n",
      "Label 6 is gone\n",
      "0\n",
      "True\n",
      "Label 7 is gone\n",
      "0\n",
      "True\n",
      "Label 8 is gone\n",
      "0\n",
      "True\n",
      "Label 9 is gone\n",
      "0\n",
      "True\n",
      "Label 10 is gone\n",
      "0\n",
      "True\n",
      "Label 11 is gone\n",
      "0\n"
     ]
    }
   ],
   "source": [
    "def check_positions(m1, m2, N):\n",
    "    mask = np.array(m1) == N\n",
    "    result = np.any(np.array(m2)[mask] != 0)\n",
    "    if result:\n",
    "        print(result)\n",
    "        print(f\"Label {N} is gone\")\n",
    "\n",
    "    return result\n",
    "\n",
    "A = imread(\"money_bin.jpg\")\n",
    "mask = A > 230\n",
    "A[mask] = 0\n",
    "A[~mask] = 1\n",
    "\n",
    "disk = morph.disk(1)\n",
    "Atest = morph.binary_closing(A)\n",
    "Atest = morph.binary_opening(Atest)\n",
    "\n",
    "\n",
    "connectedA = sm.measure.label(Atest, background=255, connectivity=2)\n",
    "\n",
    "Loops = 30\n",
    "fig, axs = plt.subplots(nrows=(Loops-1)//3+1, ncols=3, figsize=(50, 50), dpi=500)\n",
    "uq = np.unique(connectedA)\n",
    "uq = uq[1:]\n",
    "for i in range(Loops):\n",
    "    axs[i//3, i%3].imshow(Atest, cmap=\"gray\")\n",
    "    axs[i//3, i%3].axis(\"off\")\n",
    "    Atest = morph.binary_erosion(Atest, disk)\n",
    "    for j in uq:\n",
    "        if check_positions(connectedA, Atest, j):\n",
    "            print(i)\n",
    "            connectedA[connectedA == j] = 0\n",
    "\n",
    "fig.subplots_adjust(wspace=0)\n",
    "\n",
    "plt.show()"
   ]
  },
  {
   "cell_type": "code",
   "execution_count": null,
   "metadata": {},
   "outputs": [],
   "source": []
  },
  {
   "attachments": {},
   "cell_type": "markdown",
   "metadata": {},
   "source": [
    "# 2"
   ]
  },
  {
   "attachments": {},
   "cell_type": "markdown",
   "metadata": {},
   "source": [
    "2.1"
   ]
  },
  {
   "cell_type": "code",
   "execution_count": null,
   "metadata": {},
   "outputs": [],
   "source": [
    "def LSI(img,kernel,noise):\n",
    "    imgFFT = fft2(img)\n",
    "    kernelFFT = fft2(kernel)\n",
    "\n",
    "\n",
    "\n",
    "kernel = []\n",
    "noise = []\n",
    "\n",
    "filtA = LSI(A,kernel,noise)\n",
    "plt.subplot(1,2,1)\n",
    "plt.imshow(A,cmap=\"gray\")\n",
    "plt.subplot(1,2,2)\n",
    "plt.imshow(filtA,cmap=\"gray\")"
   ]
  },
  {
   "attachments": {},
   "cell_type": "markdown",
   "metadata": {},
   "source": [
    "2.2"
   ]
  },
  {
   "cell_type": "code",
   "execution_count": null,
   "metadata": {},
   "outputs": [],
   "source": []
  },
  {
   "attachments": {},
   "cell_type": "markdown",
   "metadata": {},
   "source": [
    "2.3"
   ]
  },
  {
   "cell_type": "code",
   "execution_count": null,
   "metadata": {},
   "outputs": [],
   "source": []
  },
  {
   "attachments": {},
   "cell_type": "markdown",
   "metadata": {},
   "source": [
    "# 3"
   ]
  },
  {
   "attachments": {},
   "cell_type": "markdown",
   "metadata": {},
   "source": [
    "3.4"
   ]
  },
  {
   "cell_type": "code",
   "execution_count": 4,
   "metadata": {},
   "outputs": [],
   "source": [
    "def centred_square(x, y, N):\n",
    "    if x%2==0 or y%2==0:\n",
    "        raise ValueError(\"The x and y dimensions of the image must be odd\")\n",
    "    output = np.zeros((x, y))\n",
    "    x_center, y_center = x//2, y//2\n",
    "    half_N = N//2\n",
    "    if N%2==1:\n",
    "        output[x_center-half_N:x_center+half_N+1, y_center-half_N:y_center+half_N+1] = 1\n",
    "    else:\n",
    "        output[x_center-half_N:x_center+half_N, y_center-half_N:y_center+half_N] = 1\n",
    "    return output\n",
    "\n",
    "plt.imshow(centred_square(31, 31, 9), cmap=\"gray\")\n",
    "plt.show()"
   ]
  },
  {
   "attachments": {},
   "cell_type": "markdown",
   "metadata": {},
   "source": [
    "3.5"
   ]
  },
  {
   "cell_type": "code",
   "execution_count": 5,
   "metadata": {},
   "outputs": [],
   "source": [
    "def filter_translation(image, tx, ty, mode=\"full\", boundary=\"fill\"):\n",
    "    filter_x, filter_y = np.zeros(2*np.abs(tx)+1), np.zeros(2*np.abs(ty)+1)\n",
    "    filter_x[np.abs(tx)+tx] = 1\n",
    "    filter_y[np.abs(ty)+ty] = 1\n",
    "    filter = np.outer(filter_y, filter_x)\n",
    "    output = convolve2d(image, filter, mode, boundary)\n",
    "    return output\n",
    "A = centred_square(9, 9, 3)\n",
    "plt.subplot(1, 2, 1)\n",
    "plt.imshow(A, cmap=\"gray\")\n",
    "B = filter_translation(A, 3, 3, mode=\"same\")\n",
    "plt.subplot(1, 2, 2)\n",
    "plt.imshow(B, cmap=\"gray\")\n",
    "plt.show()"
   ]
  },
  {
   "attachments": {},
   "cell_type": "markdown",
   "metadata": {},
   "source": [
    "3.6"
   ]
  },
  {
   "cell_type": "code",
   "execution_count": 23,
   "metadata": {},
   "outputs": [
    {
     "name": "stdout",
     "output_type": "stream",
     "text": [
      "[[0. 0. 0. 0. 0. 0. 0. 0. 0.]\n",
      " [0. 0. 0. 0. 0. 0. 0. 0. 0.]\n",
      " [0. 0. 0. 0. 0. 0. 0. 0. 0.]\n",
      " [0. 0. 0. 0. 0. 0. 0. 0. 0.]\n",
      " [0. 0. 0. 0. 0. 0. 0. 0. 0.]\n",
      " [0. 0. 0. 0. 0. 0. 0. 0. 0.]\n",
      " [0. 0. 0. 0. 0. 0. 1. 1. 1.]\n",
      " [0. 0. 0. 0. 0. 0. 1. 1. 1.]\n",
      " [0. 0. 0. 0. 0. 0. 1. 1. 1.]]\n"
     ]
    }
   ],
   "source": [
    "def homogeneous_translation(image, tx, ty):\n",
    "        output = np.zeros(image.shape)\n",
    "        matrix = np.identity(3)\n",
    "        matrix[0, 2] = tx\n",
    "        matrix[1, 2] = ty\n",
    "        matrix = np.linalg.inv(matrix)\n",
    "        x = np.linspace(1, image.shape[1], image.shape[1])\n",
    "        y = np.linspace(1, image.shape[0], image.shape[0])\n",
    "        for i in range(len(y)):\n",
    "            for j in range(len(x)):\n",
    "                loc = matrix@np.array([x[i], y[j], 1])\n",
    "\n",
    "                x_nearest = int(round(loc[0]-1))\n",
    "                y_nearest = int(round(loc[1]-1))\n",
    "                if x_nearest >= image.shape[0] or y_nearest >= image.shape[1]:\n",
    "                    output[j, i] = 0\n",
    "                else:    \n",
    "                    output[j, i] = image[x_nearest,y_nearest]\n",
    "        return output\n",
    "    \n",
    "    \n",
    "A = centred_square(9, 9, 3)\n",
    "plt.subplot(1, 2, 1)\n",
    "plt.imshow(A, cmap=\"gray\")\n",
    "B = homogeneous_translation(A, 3, 3)\n",
    "print(B)\n",
    "plt.subplot(1, 2, 2)\n",
    "plt.imshow(B, cmap=\"gray\")\n",
    "plt.show()"
   ]
  },
  {
   "attachments": {},
   "cell_type": "markdown",
   "metadata": {},
   "source": [
    "3.7"
   ]
  },
  {
   "cell_type": "code",
   "execution_count": null,
   "metadata": {},
   "outputs": [],
   "source": [
    "def fourier_translation(image, tx, ty):\n",
    "    fft_image = fft2(image)\n",
    "    u = np.fft.fftfreq(fft_image.shape[1])\n",
    "    v = np.fft.fftfreq(fft_image.shape[0])\n",
    "    u, v = np.meshgrid(u, v)\n",
    "    rotate = np.exp(-2j*np.pi*(u*tx+v*ty))\n",
    "    return np.real(ifft2(fft_image*rotate))\n",
    "\n",
    "A = centred_square(15, 15, 5)\n",
    "plt.subplot(1, 3, 1)\n",
    "plt.imshow(A, cmap=\"gray\")\n",
    "B = filter_translation(A, 2, 3, mode=\"same\")\n",
    "plt.subplot(1, 3, 2)\n",
    "plt.imshow(B, cmap=\"gray\")\n",
    "C = fourier_translation(A, 2, 3)\n",
    "plt.subplot(1, 3, 3)\n",
    "plt.imshow(C, cmap=\"gray\")\n",
    "plt.show()"
   ]
  },
  {
   "attachments": {},
   "cell_type": "markdown",
   "metadata": {},
   "source": [
    "3.8"
   ]
  },
  {
   "cell_type": "code",
   "execution_count": null,
   "metadata": {},
   "outputs": [],
   "source": []
  }
 ],
 "metadata": {
  "kernelspec": {
   "display_name": "py310",
   "language": "python",
   "name": "python3"
  },
  "language_info": {
   "codemirror_mode": {
    "name": "ipython",
    "version": 3
   },
   "file_extension": ".py",
   "mimetype": "text/x-python",
   "name": "python",
   "nbconvert_exporter": "python",
   "pygments_lexer": "ipython3",
   "version": "3.10.9"
  },
  "orig_nbformat": 4,
  "vscode": {
   "interpreter": {
    "hash": "f6c59e9a90901d54f4b9f5796ffe87a4c182513f672a519035aa940c71554467"
   }
  }
 },
 "nbformat": 4,
 "nbformat_minor": 2
}
