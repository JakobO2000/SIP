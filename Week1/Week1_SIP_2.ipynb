{
 "cells": [
  {
   "cell_type": "code",
   "execution_count": 3,
   "metadata": {},
   "outputs": [
    {
     "ename": "FileNotFoundError",
     "evalue": "[WinError 2] The system cannot find the file specified: 'c:\\\\Users\\\\birk\\\\OneDrive - University of Copenhagen\\\\Documents\\\\KU tid\\\\SIP\\\\SIP\\\\Week1\\\\Mats/Mats'",
     "output_type": "error",
     "traceback": [
      "\u001b[1;31m---------------------------------------------------------------------------\u001b[0m",
      "\u001b[1;31mFileNotFoundError\u001b[0m                         Traceback (most recent call last)",
      "Cell \u001b[1;32mIn [3], line 14\u001b[0m\n\u001b[0;32m     11\u001b[0m \u001b[39mimport\u001b[39;00m \u001b[39mnumpy\u001b[39;00m \u001b[39mas\u001b[39;00m \u001b[39mnp\u001b[39;00m\n\u001b[0;32m     12\u001b[0m \u001b[39mimport\u001b[39;00m \u001b[39mos\u001b[39;00m\n\u001b[1;32m---> 14\u001b[0m os\u001b[39m.\u001b[39;49mchdir(os\u001b[39m.\u001b[39;49mgetcwd()\u001b[39m+\u001b[39;49m\u001b[39m\"\u001b[39;49m\u001b[39m/Mats\u001b[39;49m\u001b[39m\"\u001b[39;49m)\n",
      "\u001b[1;31mFileNotFoundError\u001b[0m: [WinError 2] The system cannot find the file specified: 'c:\\\\Users\\\\birk\\\\OneDrive - University of Copenhagen\\\\Documents\\\\KU tid\\\\SIP\\\\SIP\\\\Week1\\\\Mats/Mats'"
     ]
    }
   ],
   "source": [
    "%matplotlib qt\n",
    "from matplotlib import pyplot as plt\n",
    "from numpy.random import rand\n",
    "from skimage.io import imread, imsave\n",
    "from skimage.util import img_as_float\n",
    "from skimage.transform import rotate\n",
    "from skimage.filters import gaussian as ski_gaussian\n",
    "from pylab import ginput\n",
    "from scipy.signal import convolve, convolve2d, correlate2d\n",
    "from scipy.signal import  gaussian as scipy_gaussian\n",
    "import numpy as np\n",
    "import os\n",
    "\n",
    "os.chdir(os.getcwd()+\"/Mats\")"
   ]
  },
  {
   "attachments": {},
   "cell_type": "markdown",
   "metadata": {},
   "source": [
    "Example 1.1"
   ]
  },
  {
   "cell_type": "code",
   "execution_count": null,
   "metadata": {},
   "outputs": [
    {
     "name": "stdout",
     "output_type": "stream",
     "text": [
      "<class 'numpy.ndarray'>\n",
      "(480, 640, 3)\n",
      "uint8\n"
     ]
    }
   ],
   "source": [
    "A = imread('bigben.png')\n",
    "print(type(A))\n",
    "print(A.shape)\n",
    "print(A.dtype)\n",
    "imsave('testimage.jpg',A)"
   ]
  },
  {
   "attachments": {},
   "cell_type": "markdown",
   "metadata": {},
   "source": [
    "Example 1.2"
   ]
  },
  {
   "cell_type": "code",
   "execution_count": 5,
   "metadata": {},
   "outputs": [],
   "source": [
    "A = imread('cameraman.tif')\n",
    "plt.figure(1)\n",
    "plt.imshow(A)\n",
    "\n",
    "plt.figure(2)\n",
    "plt.axis('off')\n",
    "plt.imshow(A,cmap='gray')\n",
    "plt.show()"
   ]
  },
  {
   "attachments": {},
   "cell_type": "markdown",
   "metadata": {},
   "source": [
    "Example 1.3"
   ]
  },
  {
   "cell_type": "code",
   "execution_count": null,
   "metadata": {},
   "outputs": [],
   "source": [
    "B = rand(256,256)*125\n",
    "plt.figure(1)\n",
    "plt.axis('off')\n",
    "plt.imshow(B,cmap='gray')\n",
    "plt.colorbar()\n",
    "\n",
    "plt.figure(2)\n",
    "plt.axis('off')\n",
    "plt.imshow(B,vmin=0,vmax=255,cmap='gray')\n",
    "plt.colorbar()\n",
    "plt.show()"
   ]
  },
  {
   "attachments": {},
   "cell_type": "markdown",
   "metadata": {},
   "source": [
    "Example 1.4"
   ]
  },
  {
   "cell_type": "code",
   "execution_count": 6,
   "metadata": {},
   "outputs": [
    {
     "name": "stdout",
     "output_type": "stream",
     "text": [
      "(159, 191) uint8\n",
      "(2048, 3072, 3) uint16\n",
      "(135, 198, 3) uint8\n"
     ]
    },
    {
     "name": "stderr",
     "output_type": "stream",
     "text": [
      "Clipping input data to the valid range for imshow with RGB data ([0..1] for floats or [0..255] for integers).\n"
     ]
    }
   ],
   "source": [
    "img = 'cell.tif'\n",
    "img2 = 'DeltaE_16bit_gamma2.2.tif'\n",
    "img3 = 'onion.png'\n",
    "\n",
    "# img = \"mat1.jpg\"\n",
    "# img2 = \"mat2.jpg\"\n",
    "# img3 = \"mat3.jpg\"\n",
    "\n",
    "# img = \"1h_B1.tif\"\n",
    "# img2 = \"1h_B2.tif\"\n",
    "# img3 = \"mat3.jpg\"\n",
    "\n",
    "\n",
    "B = imread(img)\n",
    "print(B.shape,B.dtype)\n",
    "C = imread(img2)\n",
    "print(C.shape,C.dtype)\n",
    "D = imread(img3)\n",
    "print(D.shape,D.dtype)\n",
    "\n",
    "plt.subplot(3,1,1)\n",
    "plt.imshow(B,cmap='jet')\n",
    "plt.axis('off')\n",
    "\n",
    "plt.subplot(3,1,2)\n",
    "plt.imshow(C, cmap='gray')\n",
    "plt.axis('off')\n",
    "plt.subplot(3,1,3)\n",
    "plt.imshow(D)\n",
    "plt.show()"
   ]
  },
  {
   "attachments": {},
   "cell_type": "markdown",
   "metadata": {},
   "source": [
    "Example 1.5"
   ]
  },
  {
   "cell_type": "code",
   "execution_count": null,
   "metadata": {},
   "outputs": [],
   "source": [
    "plt.imshow(img_as_float(C),cmap='gray')\n",
    "plt.axis('off')\n",
    "plt.show()"
   ]
  },
  {
   "attachments": {},
   "cell_type": "markdown",
   "metadata": {},
   "source": [
    "Example 1.6"
   ]
  },
  {
   "cell_type": "code",
   "execution_count": null,
   "metadata": {},
   "outputs": [
    {
     "name": "stdout",
     "output_type": "stream",
     "text": [
      "[]\n"
     ]
    }
   ],
   "source": [
    "print(B[500:600][45:55])"
   ]
  },
  {
   "cell_type": "code",
   "execution_count": 8,
   "metadata": {},
   "outputs": [
    {
     "name": "stdout",
     "output_type": "stream",
     "text": [
      "Click on 3 points in the image\n",
      "You clicked: [(89.71774193548384, 42.48951612903225), (132.83064516129028, 72.82822580645161), (68.95967741935482, 98.3766129032258)]\n",
      "46\n",
      "[57 41 48]\n",
      "57\n"
     ]
    }
   ],
   "source": [
    "B = imread(img)\n",
    "\n",
    "plt.figure(1)\n",
    "plt.imshow(B, cmap='gray')\n",
    "\n",
    "plt.figure(2)\n",
    "plt.imshow(D)\n",
    "\n",
    "print('Click on 3 points in the image')\n",
    "coord = ginput(3)\n",
    "print('You clicked: ' + str(coord))\n",
    "# print pixel value at location (25,50)\n",
    "print(B[25,50])\n",
    "# set pixel value at (25,50) to white\n",
    "B[25,50]= 255;\n",
    "# view resulting changes in image\n",
    "plt.figure(3)\n",
    "plt.imshow(B, cmap='gray')\n",
    "# print RGB pixel value at location (25,50)\n",
    "print(D[25,50,:])\n",
    "# print only the red value at (25,50)\n",
    "print(D[25,50,0])\n",
    "D[25,50,:] = [255, 255, 255]; # set pixel value to RGB white\n",
    "plt.figure(4)\n",
    "plt.imshow(D)\n",
    "plt.show()"
   ]
  },
  {
   "attachments": {},
   "cell_type": "markdown",
   "metadata": {},
   "source": [
    "Example 1.7"
   ]
  },
  {
   "cell_type": "code",
   "execution_count": null,
   "metadata": {},
   "outputs": [],
   "source": [
    "D = imread(img3)\n",
    "D_read_as_gray = imread(img3, as_gray=True)\n",
    "D_naive_gray = 1/3*+(D[:,:,0]+D[:,:,1]+D[:,:,2])\n",
    "D_better_gray = 0.2989*D[:,:,0] + 0.5870*D[:,:,1] + 0.1140*D[:,:,2]\n",
    "plt.subplot(2,2,1)\n",
    "plt.title(\"Original\")\n",
    "plt.imshow(D)\n",
    "\n",
    "plt.subplot(2,2,2)\n",
    "plt.title(\"Read as grey\")\n",
    "plt.imshow(D_read_as_gray)\n",
    "\n",
    "plt.subplot(2,2,3)\n",
    "plt.title(\"Naive gray\")\n",
    "plt.imshow(D_naive_gray)\n",
    "\n",
    "plt.subplot(2,2,4)\n",
    "plt.title(\"Bettergrey\")\n",
    "plt.imshow(D_better_gray)\n",
    "\n",
    "plt.show()"
   ]
  },
  {
   "attachments": {},
   "cell_type": "markdown",
   "metadata": {},
   "source": [
    "Example 1.8"
   ]
  },
  {
   "cell_type": "code",
   "execution_count": null,
   "metadata": {},
   "outputs": [],
   "source": [
    "D = imread(img3)\n",
    "Dred = D[:,:,0]\n",
    "Dgreen = D[:,:,1]\n",
    "Dblue = D[:,:,2]\n",
    "\n",
    "plt.subplot(2,2,1)\n",
    "plt.imshow(D)\n",
    "\n",
    "plt.subplot(2,2,2)\n",
    "plt.imshow(Dred)\n",
    "plt.title(\"Red\")\n",
    "\n",
    "plt.subplot(2,2,3)\n",
    "plt.imshow(Dgreen)\n",
    "plt.title(\"Green\")\n",
    "\n",
    "plt.subplot(2,2,4)\n",
    "plt.imshow(Dblue)\n",
    "plt.title(\"Blue\")\n",
    "\n",
    "plt.show()\n"
   ]
  },
  {
   "attachments": {},
   "cell_type": "markdown",
   "metadata": {},
   "source": [
    "Example 1.9"
   ]
  },
  {
   "cell_type": "code",
   "execution_count": null,
   "metadata": {},
   "outputs": [
    {
     "name": "stdout",
     "output_type": "stream",
     "text": [
      "[100, 200]\n"
     ]
    }
   ],
   "source": [
    "I = imread(\"cameraman.tif\")\n",
    "plt.imshow(I, cmap=\"gray\")\n",
    "x = [100, 100, 230]\n",
    "y = [100, 200, 200]\n",
    "\n",
    "plt.plot(x, y, 'r*')\n",
    "\n",
    "plt.plot(x[::2], y[::2], \"g-\")\n",
    "plt.show()\n",
    "print(y[::2])"
   ]
  },
  {
   "attachments": {},
   "cell_type": "markdown",
   "metadata": {},
   "source": [
    "Exercise 1.1"
   ]
  },
  {
   "cell_type": "code",
   "execution_count": 24,
   "metadata": {},
   "outputs": [
    {
     "data": {
      "text/plain": [
       "Text(0.5, 1.0, 'all -')"
      ]
     },
     "execution_count": 24,
     "metadata": {},
     "output_type": "execute_result"
    }
   ],
   "source": [
    "I = imread(\"cell.tif\")\n",
    "I_1, I_2 = I, I\n",
    "c = 100\n",
    "I_1[100, 20] = np.clip(I_1[20, 100].astype('int16')+c,0, 255).astype('uint8')\n",
    "I_2[100, 20] = np.clip(I_2[20, 100].astype('int16')-c,0, 255).astype('uint8')\n",
    "J = np.clip(I.astype('int16')+c, 0, 255).astype('uint8')\n",
    "K = np.clip(I.astype('int16')-c, 0, 255).astype('uint8')\n",
    "plt.subplot(2, 3, 1)\n",
    "plt.imshow(I, cmap=\"gray\")\n",
    "plt.title(\"Original\")\n",
    "\n",
    "plt.subplot(2,3,2)\n",
    "plt.imshow(I_1, cmap=\"gray\")\n",
    "plt.title(\"1 +\")\n",
    "\n",
    "plt.subplot(2, 3, 3)\n",
    "plt.imshow(I_2, cmap=\"gray\")\n",
    "plt.title(\"1 -\")\n",
    "plt.subplot(2,3,4)\n",
    "plt.imshow(J, cmap=\"gray\")\n",
    "plt.title(\"all +\")\n",
    "\n",
    "plt.subplot(2, 3, 5)\n",
    "plt.imshow(K, cmap=\"gray\")\n",
    "plt.title(\"all -\")"
   ]
  },
  {
   "attachments": {},
   "cell_type": "markdown",
   "metadata": {},
   "source": [
    "Exercise 1.2"
   ]
  },
  {
   "attachments": {},
   "cell_type": "markdown",
   "metadata": {},
   "source": [
    "Exercise 1.3"
   ]
  },
  {
   "attachments": {},
   "cell_type": "markdown",
   "metadata": {},
   "source": [
    "Exercise 1.4"
   ]
  },
  {
   "cell_type": "markdown",
   "metadata": {},
   "source": []
  },
  {
   "attachments": {},
   "cell_type": "markdown",
   "metadata": {},
   "source": [
    "Example 2.1"
   ]
  },
  {
   "cell_type": "code",
   "execution_count": null,
   "metadata": {},
   "outputs": [],
   "source": [
    "f = np.ones(64)\n",
    "f = f/sum(f)\n",
    "\n",
    "g = convolve(f,f)\n",
    "g = g / sum(g)\n",
    "\n",
    "h = convolve(g,g)\n",
    "h = h / sum(g)\n",
    "\n",
    "j = convolve(h,h)\n",
    "j = j / sum(j)\n",
    "\n",
    "\n",
    "plt.subplot(2,2,1)\n",
    "plt.plot(f,'k-')\n",
    "plt.axis('off')\n",
    "plt.subplot(2,2,2)\n",
    "plt.plot(g,'k-')\n",
    "plt.axis('off')\n",
    "plt.subplot(2,2,3)\n",
    "plt.plot(h,'k-')\n",
    "plt.axis('off')\n",
    "plt.subplot(2,2,4)\n",
    "plt.plot(j,'k-')\n",
    "plt.axis('off')\n",
    "plt.show()\n"
   ]
  },
  {
   "attachments": {},
   "cell_type": "markdown",
   "metadata": {},
   "source": [
    "Example 2.2"
   ]
  },
  {
   "cell_type": "code",
   "execution_count": null,
   "metadata": {},
   "outputs": [],
   "source": [
    "A = img_as_float(imread(\"trui.png\"))\n",
    "gaussian1d = scipy_gaussian(5, 2)\n",
    "PSF = np.outer(gaussian1d, gaussian1d)\n",
    "motionWidth = 21\n",
    "h = np.zeros((motionWidth, motionWidth))\n",
    "h[motionWidth//2, :] = 1\n",
    "h = rotate(h, 45).astype(float)\n",
    "h = h /np.sum(h)\n",
    "\n",
    "B = convolve2d(PSF, A)\n",
    "C = convolve2d(A, h)\n",
    "D = convolve2d(A, A)\n",
    "E = correlate2d(A, A)\n",
    "\n",
    "plt.subplot(2, 3, 1)\n",
    "plt.imshow(A, cmap=\"gray\")\n",
    "\n",
    "plt.subplot(2, 3, 2)\n",
    "plt.imshow(B, cmap=\"gray\")\n",
    "\n",
    "plt.subplot(2, 3, 3)\n",
    "plt.imshow(C, cmap=\"gray\")\n",
    "\n",
    "plt.subplot(2, 3, 4)\n",
    "plt.imshow(D, cmap=\"gray\")\n",
    "\n",
    "plt.subplot(2, 3, 5)\n",
    "plt.imshow(E, cmap=\"gray\")\n",
    "\n",
    "plt.show()"
   ]
  },
  {
   "attachments": {},
   "cell_type": "markdown",
   "metadata": {},
   "source": [
    "Example 2.3"
   ]
  },
  {
   "cell_type": "code",
   "execution_count": null,
   "metadata": {},
   "outputs": [],
   "source": [
    "A = imread(\"cameraman.tif\")\n",
    "rows, cols = A.shape\n",
    "\n",
    "Abuild = np.zeros(A.shape)\n",
    "sub = rand(rows, cols) < 0.01\n",
    "Abuild[sub] = A[sub]\n",
    "B10 = ski_gaussian(Abuild, sigma=2)\n",
    "plt.subplot(1,2,1)\n",
    "plt.axis(\"off\")\n",
    "plt.imshow(Abuild, cmap=\"gray\")\n",
    "plt.colorbar()\n",
    "plt.title(\"Object points\")\n",
    "\n",
    "plt.subplot(1,2,2)\n",
    "plt.axis(\"off\")\n",
    "plt.imshow(B10, cmap=\"gray\")\n",
    "plt.colorbar()\n",
    "plt.title(\"Response of LSI system\")\n",
    "plt.show()\n"
   ]
  },
  {
   "attachments": {},
   "cell_type": "markdown",
   "metadata": {},
   "source": [
    "Exercise 2.1"
   ]
  },
  {
   "attachments": {},
   "cell_type": "markdown",
   "metadata": {},
   "source": [
    "Example 3.1"
   ]
  },
  {
   "attachments": {},
   "cell_type": "markdown",
   "metadata": {},
   "source": [
    "Example 3.2"
   ]
  },
  {
   "attachments": {},
   "cell_type": "markdown",
   "metadata": {},
   "source": [
    "Example 3.3"
   ]
  },
  {
   "attachments": {},
   "cell_type": "markdown",
   "metadata": {},
   "source": [
    "Example 3.4"
   ]
  },
  {
   "attachments": {},
   "cell_type": "markdown",
   "metadata": {},
   "source": [
    "Example 3.5"
   ]
  },
  {
   "attachments": {},
   "cell_type": "markdown",
   "metadata": {},
   "source": [
    "Example 3.6"
   ]
  },
  {
   "attachments": {},
   "cell_type": "markdown",
   "metadata": {},
   "source": [
    "Example 3.7"
   ]
  },
  {
   "attachments": {},
   "cell_type": "markdown",
   "metadata": {},
   "source": [
    "Example 3.8"
   ]
  },
  {
   "attachments": {},
   "cell_type": "markdown",
   "metadata": {},
   "source": [
    "Example 3.9"
   ]
  },
  {
   "attachments": {},
   "cell_type": "markdown",
   "metadata": {},
   "source": [
    "Example 3.10"
   ]
  },
  {
   "attachments": {},
   "cell_type": "markdown",
   "metadata": {},
   "source": [
    "Example 3.11"
   ]
  }
 ],
 "metadata": {
  "kernelspec": {
   "display_name": "py310",
   "language": "python",
   "name": "python3"
  },
  "language_info": {
   "codemirror_mode": {
    "name": "ipython",
    "version": 3
   },
   "file_extension": ".py",
   "mimetype": "text/x-python",
   "name": "python",
   "nbconvert_exporter": "python",
   "pygments_lexer": "ipython3",
   "version": "3.10.8"
  },
  "orig_nbformat": 4,
  "vscode": {
   "interpreter": {
    "hash": "69304fdba26aaf27c145f455c74d3758e2ba40748bc61a582c6dd2d2022dced1"
   }
  }
 },
 "nbformat": 4,
 "nbformat_minor": 2
}
