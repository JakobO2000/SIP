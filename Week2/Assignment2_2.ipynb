{
 "cells": [
  {
   "cell_type": "code",
   "execution_count": 1,
   "metadata": {},
   "outputs": [],
   "source": [
    "%matplotlib qt\n",
    "from matplotlib import pyplot as plt\n",
    "from numpy.random import rand\n",
    "from skimage.io import imread, imsave\n",
    "from skimage.util import img_as_float, random_noise\n",
    "from skimage.transform import rotate\n",
    "from skimage.filters import gaussian as ski_gaussian\n",
    "from pylab import ginput\n",
    "from scipy.signal import convolve, convolve2d, correlate2d\n",
    "from scipy.signal import  gaussian as scipy_gaussian\n",
    "import numpy as np\n",
    "import os\n",
    "import timeit\n",
    "\n",
    "os.chdir(\"../Mats\")"
   ]
  },
  {
   "attachments": {},
   "cell_type": "markdown",
   "metadata": {},
   "source": [
    "# 2.1"
   ]
  },
  {
   "cell_type": "code",
   "execution_count": 14,
   "metadata": {},
   "outputs": [],
   "source": [
    "def median_filter(image, N):\n",
    "    mir_image = np.pad(image, np.int32(np.floor(N/2)+1), mode=\"symmetric\")\n",
    "    for i in range(image.shape[0]):\n",
    "        for j in range(image.shape[1]):\n",
    "            image[i, j] = np.median(mir_image[i:i+N,j:j+N].flatten())\n",
    "    return image\n",
    "\n",
    "def mean_filter(image, N):\n",
    "    kernel = np.ones((N, N))/N**2\n",
    "    mir_image = np.pad(image, np.int32(np.floor(N/2)+1), mode=\"symmetric\")\n",
    "    for i in range(image.shape[0]):\n",
    "        for j in range(image.shape[1]):\n",
    "            image [i,j] = np.sum(mir_image[i:i+N,j:j+N]*kernel)\n",
    "    return image\n",
    "    \n",
    "A = imread(\"eight.tif\")\n",
    "executions = 100\n",
    "N_max = 25\n",
    "A_snp = random_noise(A, \"s&p\")\n",
    "A_gaus = random_noise(A)\n",
    "plt.subplot(1, 3, 1), plt.imshow(A, vmin=0, vmax=255, cmap=\"gray\"), plt.title(\"Original\")\n",
    "plt.subplot(1, 3, 2), plt.imshow(A_snp, cmap=\"gray\"), plt.title(\"s&p\")\n",
    "plt.subplot(1, 3, 3), plt.imshow(A_gaus, cmap=\"gray\"), plt.title(\"Gaussian\")\n",
    "plt.show()"
   ]
  },
  {
   "cell_type": "code",
   "execution_count": 15,
   "metadata": {},
   "outputs": [],
   "source": [
    "N = 3\n",
    "plt.subplot(3, 2, 1), plt.imshow(A_snp, vmin=0, vmax=1,cmap=\"gray\"), plt.title(\"s&p\")\n",
    "plt.subplot(3, 2, 2), plt.imshow(A_gaus, vmin=0, vmax=1, cmap=\"gray\"), plt.title(\"Gaussian\")\n",
    "snp_mean = mean_filter(np.copy(A_snp), N)\n",
    "snp_median = median_filter(np.copy(A_snp), N)\n",
    "gaus_mean = mean_filter(np.copy(A_gaus), N)\n",
    "gaus_median = median_filter(np.copy(A_gaus), N)\n",
    "plt.subplot(3, 2, 3), plt.imshow(snp_mean, vmin=0, vmax=1, cmap=\"gray\"), plt.title(\"s&p mean\")\n",
    "plt.subplot(3, 2, 4), plt.imshow(gaus_mean, vmin=0, vmax=1, cmap=\"gray\"), plt.title(\"Gaussian mean\")\n",
    "plt.subplot(3, 2, 5), plt.imshow(snp_median, vmin=0, vmax=1, cmap=\"gray\"), plt.title(\"s&p median\")\n",
    "plt.subplot(3, 2, 6), plt.imshow(gaus_median, vmin=0, vmax=1, cmap=\"gray\"), plt.title(\"Gaussian median\")\n",
    "plt.show()"
   ]
  },
  {
   "attachments": {},
   "cell_type": "markdown",
   "metadata": {},
   "source": [
    "# 2.2"
   ]
  },
  {
   "cell_type": "code",
   "execution_count": null,
   "metadata": {},
   "outputs": [],
   "source": [
    "def gaussian_filter(image, sigma, N):\n",
    "    return\n",
    "sigma = 5"
   ]
  },
  {
   "attachments": {},
   "cell_type": "markdown",
   "metadata": {},
   "source": [
    "# 2.3"
   ]
  },
  {
   "cell_type": "code",
   "execution_count": null,
   "metadata": {},
   "outputs": [],
   "source": []
  }
 ],
 "metadata": {
  "kernelspec": {
   "display_name": "py310",
   "language": "python",
   "name": "python3"
  },
  "language_info": {
   "codemirror_mode": {
    "name": "ipython",
    "version": 3
   },
   "file_extension": ".py",
   "mimetype": "text/x-python",
   "name": "python",
   "nbconvert_exporter": "python",
   "pygments_lexer": "ipython3",
   "version": "3.10.8"
  },
  "orig_nbformat": 4,
  "vscode": {
   "interpreter": {
    "hash": "69304fdba26aaf27c145f455c74d3758e2ba40748bc61a582c6dd2d2022dced1"
   }
  }
 },
 "nbformat": 4,
 "nbformat_minor": 2
}
