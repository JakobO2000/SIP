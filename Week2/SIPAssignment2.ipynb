{
 "cells": [
  {
   "cell_type": "code",
   "execution_count": 1,
   "metadata": {},
   "outputs": [],
   "source": [
    "%matplotlib qt\n",
    "from matplotlib import pyplot as plt\n",
    "from numpy.random import rand\n",
    "from skimage.io import imread, imsave\n",
    "from skimage.util import img_as_float, random_noise\n",
    "from skimage.transform import rotate\n",
    "from skimage.filters import gaussian as ski_gaussian\n",
    "from pylab import ginput\n",
    "from scipy.signal import convolve, convolve2d, correlate2d\n",
    "from scipy.signal import  gaussian as scipy_gaussian\n",
    "from scipy.fft import fft2, fftshift\n",
    "import numpy as np\n",
    "import os\n",
    "import timeit\n",
    "\n",
    "os.chdir(\"../Mats\")"
   ]
  },
  {
   "attachments": {},
   "cell_type": "markdown",
   "metadata": {},
   "source": [
    "# 1"
   ]
  },
  {
   "attachments": {},
   "cell_type": "markdown",
   "metadata": {},
   "source": [
    "1.1"
   ]
  },
  {
   "cell_type": "code",
   "execution_count": 2,
   "metadata": {},
   "outputs": [],
   "source": [
    "def gammaFunc(image,gamma,HSV=False):\n",
    "    img = np.copy(image)\n",
    "    \n",
    "    try:\n",
    "        for i in range(image.shape[2]):\n",
    "            img[:,:,i] = 255*(img[:,:,i]/255)**gamma\n",
    "        return img\n",
    "    except:\n",
    "        return 255*(image/255)**gamma"
   ]
  },
  {
   "cell_type": "code",
   "execution_count": 3,
   "metadata": {},
   "outputs": [],
   "source": [
    "A = imread(\"cameraman.tif\")\n",
    "\n",
    "B=gammaFunc(A,2)\n",
    "\n",
    "plt.subplot(1,2,1)\n",
    "plt.imshow(A,cmap=\"gray\")\n",
    "plt.subplot(1,2,2)\n",
    "plt.imshow(B,cmap=\"gray\")\n",
    "plt.show()"
   ]
  },
  {
   "attachments": {},
   "cell_type": "markdown",
   "metadata": {},
   "source": [
    "1.2"
   ]
  },
  {
   "cell_type": "code",
   "execution_count": 4,
   "metadata": {},
   "outputs": [],
   "source": [
    "A = imread(\"autumn.tif\")\n",
    "\n",
    "B = gammaFunc(np.copy(A),0.5)\n",
    "\n",
    "plt.subplot(1,2,1)\n",
    "plt.imshow(A,cmap=\"gray\")\n",
    "plt.subplot(1,2,2)\n",
    "plt.imshow(B,cmap=\"gray\")\n",
    "plt.show()"
   ]
  },
  {
   "attachments": {},
   "cell_type": "markdown",
   "metadata": {},
   "source": [
    "1.3"
   ]
  },
  {
   "cell_type": "code",
   "execution_count": 11,
   "metadata": {},
   "outputs": [],
   "source": [
    "A = img_as_float(A)"
   ]
  },
  {
   "cell_type": "code",
   "execution_count": 9,
   "metadata": {},
   "outputs": [],
   "source": [
    "R = A[:,:,0]\n",
    "G = A[:,:,1]\n",
    "B = A[:,:,2]"
   ]
  },
  {
   "cell_type": "code",
   "execution_count": 11,
   "metadata": {},
   "outputs": [
    {
     "data": {
      "text/plain": [
       "array([[14.56 , 13.86 , 10.54 , ..., 11.79 ,  6.855,  9.59 ],\n",
       "       [ 9.75 , 10.77 , 13.6  , ..., 13.38 , 14.87 , 14.87 ],\n",
       "       [11.49 , 12.125, 10.77 , ..., 11.79 , 10.05 , 13.71 ],\n",
       "       ...,\n",
       "       [11.266,  7.81 ,  7.   , ...,  3.   ,  6.246,  2.   ],\n",
       "       [ 5.566,  4.   ,  1.   , ...,  1.732,  5.   ,  5.293],\n",
       "       [ 5.566,  2.   ,  2.   , ...,  3.605,  1.   ,  4.   ]],\n",
       "      dtype=float16)"
      ]
     },
     "execution_count": 11,
     "metadata": {},
     "output_type": "execute_result"
    }
   ],
   "source": [
    "np.sqrt(R**2+G**2+B**2 - R*B - R*G - G*B)"
   ]
  },
  {
   "cell_type": "code",
   "execution_count": 19,
   "metadata": {},
   "outputs": [],
   "source": [
    "def gammaFunc(image,gamma,HSV=False):\n",
    "    img = np.copy(img_as_float(image))\n",
    "    if HSV == True:\n",
    "        R = img[:,:,0]\n",
    "        G = img[:,:,1]\n",
    "        B = img[:,:,2]\n",
    "        print(R**2+G**2+B**2 - R*B - R*G - G*B)\n",
    "        theta = np.arccos(((2*R-B-G)/2) / np.sqrt(R**2+G**2+B**2 - R*B - R*G - G*B))\n",
    "\n",
    "        return theta\n",
    "    else:\n",
    "        try:\n",
    "            for i in range(image.shape[2]):\n",
    "                img[:,:,i] = 255*(img[:,:,i]/255)**gamma\n",
    "            return img\n",
    "        except:\n",
    "            return 255*(image/255)**gamma"
   ]
  },
  {
   "cell_type": "code",
   "execution_count": 20,
   "metadata": {},
   "outputs": [
    {
     "name": "stdout",
     "output_type": "stream",
     "text": [
      "[[7.19723183e-03 6.88965782e-03 5.64398308e-03 ... 1.00115340e-02\n",
      "  8.59669358e-03 9.28873510e-03]\n",
      " [5.39792388e-03 5.72087659e-03 6.78200692e-03 ... 1.06266820e-02\n",
      "  1.12725875e-02 1.12725875e-02]\n",
      " [5.96693579e-03 6.19761630e-03 5.72087659e-03 ... 1.00115340e-02\n",
      "  9.42714341e-03 1.07650903e-02]\n",
      " ...\n",
      " [1.95309496e-03 9.38100730e-04 7.53556324e-04 ... 1.38408304e-04\n",
      "  5.99769319e-04 6.15148020e-05]\n",
      " [4.76739715e-04 2.46059208e-04 1.53787005e-05 ... 4.61361015e-05\n",
      "  3.84467512e-04 4.30603614e-04]\n",
      " [4.76739715e-04 6.15148020e-05 6.15148020e-05 ... 1.99923106e-04\n",
      "  1.53787005e-05 2.46059208e-04]]\n"
     ]
    },
    {
     "name": "stderr",
     "output_type": "stream",
     "text": [
      "C:\\Users\\zhakk\\AppData\\Local\\Temp\\ipykernel_14700\\2469995423.py:8: RuntimeWarning: invalid value encountered in sqrt\n",
      "  theta = np.arccos(((2*R-B-G)/2) / np.sqrt(R**2+G**2+B**2 - R*B - R*G - G*B))\n",
      "C:\\Users\\zhakk\\AppData\\Local\\Temp\\ipykernel_14700\\2469995423.py:8: RuntimeWarning: invalid value encountered in divide\n",
      "  theta = np.arccos(((2*R-B-G)/2) / np.sqrt(R**2+G**2+B**2 - R*B - R*G - G*B))\n",
      "C:\\Users\\zhakk\\AppData\\Local\\Temp\\ipykernel_14700\\2469995423.py:8: RuntimeWarning: invalid value encountered in arccos\n",
      "  theta = np.arccos(((2*R-B-G)/2) / np.sqrt(R**2+G**2+B**2 - R*B - R*G - G*B))\n"
     ]
    }
   ],
   "source": [
    "G = gammaFunc(A,1,HSV=True)"
   ]
  },
  {
   "cell_type": "code",
   "execution_count": 21,
   "metadata": {},
   "outputs": [
    {
     "data": {
      "text/plain": [
       "array([[8.04633677e-01, 7.13724379e-01, 6.28188506e-01, ...,\n",
       "        7.00895077e-01, 6.72179079e-01, 6.87083748e-01],\n",
       "       [7.66162650e-01, 6.79775647e-01, 6.66946345e-01, ...,\n",
       "        6.76359386e-01, 6.53237039e-01, 6.53237039e-01],\n",
       "       [7.80243433e-01, 6.48456806e-01, 6.79775647e-01, ...,\n",
       "        7.00895077e-01, 7.26945370e-01, 7.13724379e-01],\n",
       "       ...,\n",
       "       [2.57361148e+00, 2.55393163e+00, 3.14159236e+00, ...,\n",
       "                   nan, 7.66162650e-01, 1.04719755e+00],\n",
       "       [2.98541578e+00, 3.14159220e+00, 2.09439510e+00, ...,\n",
       "        2.61799388e+00, 2.09439510e+00, 2.42786827e+00],\n",
       "       [2.98541578e+00,            nan, 1.04719755e+00, ...,\n",
       "        1.28976143e+00, 1.04719755e+00, 5.96046448e-08]])"
      ]
     },
     "execution_count": 21,
     "metadata": {},
     "output_type": "execute_result"
    }
   ],
   "source": [
    "G"
   ]
  },
  {
   "cell_type": "code",
   "execution_count": 22,
   "metadata": {},
   "outputs": [],
   "source": [
    "index = np.where(np.any(G==np.nan))\n"
   ]
  },
  {
   "cell_type": "code",
   "execution_count": 23,
   "metadata": {},
   "outputs": [
    {
     "name": "stdout",
     "output_type": "stream",
     "text": [
      "(array([], dtype=int64),)\n"
     ]
    }
   ],
   "source": [
    "print(index)"
   ]
  },
  {
   "cell_type": "code",
   "execution_count": 24,
   "metadata": {},
   "outputs": [
    {
     "data": {
      "text/plain": [
       "<matplotlib.image.AxesImage at 0x2466b27bcd0>"
      ]
     },
     "execution_count": 24,
     "metadata": {},
     "output_type": "execute_result"
    }
   ],
   "source": [
    "plt.imshow(G)"
   ]
  },
  {
   "cell_type": "code",
   "execution_count": null,
   "metadata": {},
   "outputs": [],
   "source": []
  },
  {
   "attachments": {},
   "cell_type": "markdown",
   "metadata": {},
   "source": [
    "# 2"
   ]
  },
  {
   "attachments": {},
   "cell_type": "markdown",
   "metadata": {},
   "source": [
    "2.1"
   ]
  },
  {
   "cell_type": "code",
   "execution_count": 31,
   "metadata": {},
   "outputs": [],
   "source": [
    "def median_filter_optimized(image, N):\n",
    "    pad_size = (N - 1) // 2\n",
    "    padded_image = np.pad(image, ((pad_size, pad_size), (pad_size, pad_size)), mode='symmetric')\n",
    "    output = np.empty_like(image)\n",
    "    for i in range(image.shape[0]):\n",
    "        for j in range(image.shape[1]):\n",
    "            kernel = padded_image[i:i+N, j:j+N].ravel()\n",
    "            kernel.sort()\n",
    "            median_index = (N*N - 1) // 2\n",
    "            output[i, j] = kernel[median_index]\n",
    "    return output\n",
    "\n",
    "def mean_filter_optimized(image, N):\n",
    "    kernel = np.ones((N, N)) / N ** 2\n",
    "    return convolve2d(image, kernel, mode='same')\n"
   ]
  },
  {
   "cell_type": "code",
   "execution_count": 23,
   "metadata": {},
   "outputs": [],
   "source": [
    "def median_filter(image, N):\n",
    "    mir_image = np.pad(image, np.int32(np.floor(N/2)+1), mode=\"symmetric\")\n",
    "    for i in range(image.shape[0]):\n",
    "        for j in range(image.shape[1]):\n",
    "            image[i, j] = np.median(mir_image[i:i+N,j:j+N].flatten())\n",
    "    return image\n",
    "\n",
    "def mean_filter(image, N):\n",
    "    kernel = np.ones((N, N))/N**2\n",
    "    mir_image = np.pad(image, np.int32(np.floor(N/2)+1), mode=\"symmetric\")\n",
    "    for i in range(image.shape[0]):\n",
    "        for j in range(image.shape[1]):\n",
    "            image [i,j] = np.sum(mir_image[i:i+N,j:j+N]*kernel)\n",
    "    return image\n",
    "    \n",
    "A = imread(\"eight.tif\")\n",
    "executions = 100\n",
    "N_max = 25\n",
    "A_snp = random_noise(A, \"s&p\")\n",
    "A_gaus = random_noise(A)\n",
    "plt.subplot(1, 3, 1), plt.imshow(A, vmin=0, vmax=255, cmap=\"gray\"), plt.title(\"Original\")\n",
    "plt.subplot(1, 3, 2), plt.imshow(A_snp, cmap=\"gray\"), plt.title(\"s&p\")\n",
    "plt.subplot(1, 3, 3), plt.imshow(A_gaus, cmap=\"gray\"), plt.title(\"Gaussian\")\n",
    "plt.show()"
   ]
  },
  {
   "cell_type": "code",
   "execution_count": 32,
   "metadata": {},
   "outputs": [],
   "source": [
    "N = 3\n",
    "plt.subplot(3, 2, 1), plt.imshow(A_snp, vmin=0, vmax=1,cmap=\"gray\"), plt.title(\"s&p\")\n",
    "plt.subplot(3, 2, 2), plt.imshow(A_gaus, vmin=0, vmax=1, cmap=\"gray\"), plt.title(\"Gaussian\")\n",
    "snp_mean = mean_filter(np.copy(A_snp), N)\n",
    "snp_median = median_filter(np.copy(A_snp), N)\n",
    "gaus_mean = mean_filter(np.copy(A_gaus), N)\n",
    "gaus_median = median_filter(np.copy(A_gaus), N)\n",
    "\n",
    "\n",
    "plt.subplot(3, 2, 3), plt.imshow(snp_mean, vmin=0, vmax=1, cmap=\"gray\"), plt.title(\"s&p mean\")\n",
    "plt.subplot(3, 2, 4), plt.imshow(gaus_mean, vmin=0, vmax=1, cmap=\"gray\"), plt.title(\"Gaussian mean\")\n",
    "plt.subplot(3, 2, 5), plt.imshow(snp_median, vmin=0, vmax=1, cmap=\"gray\"), plt.title(\"s&p median\")\n",
    "plt.subplot(3, 2, 6), plt.imshow(gaus_median, vmin=0, vmax=1, cmap=\"gray\"), plt.title(\"Gaussian median\")\n",
    "plt.show()"
   ]
  },
  {
   "attachments": {},
   "cell_type": "markdown",
   "metadata": {},
   "source": [
    "2.2"
   ]
  },
  {
   "cell_type": "code",
   "execution_count": null,
   "metadata": {},
   "outputs": [],
   "source": [
    "def gaussian_filter(image, sigma, N):\n",
    "    return\n",
    "sigma = 5"
   ]
  },
  {
   "attachments": {},
   "cell_type": "markdown",
   "metadata": {},
   "source": [
    "2.3"
   ]
  },
  {
   "cell_type": "code",
   "execution_count": null,
   "metadata": {},
   "outputs": [],
   "source": []
  },
  {
   "attachments": {},
   "cell_type": "markdown",
   "metadata": {},
   "source": [
    "# 3"
   ]
  },
  {
   "cell_type": "code",
   "execution_count": null,
   "metadata": {},
   "outputs": [],
   "source": [
    "# Exercise 3 has been completed in the overleaf, see https://www.overleaf.com/6782353343wcfmggcfzyyd"
   ]
  },
  {
   "attachments": {},
   "cell_type": "markdown",
   "metadata": {},
   "source": [
    "# 4"
   ]
  },
  {
   "cell_type": "markdown",
   "metadata": {},
   "source": [
    "4.1"
   ]
  },
  {
   "cell_type": "code",
   "execution_count": 7,
   "metadata": {},
   "outputs": [],
   "source": [
    "A = imread(\"trui.png\")\n",
    "\n",
    "ps_A = fft2(A)\n",
    "shift = fftshift(ps_A, )\n",
    "plt.subplot(1, 3, 1), plt.imshow(A, cmap=\"gray\"), plt.title(\"Original\")\n",
    "plt.subplot(1, 3, 2), plt.imshow(np.log10(1+np.abs(ps_A)**2), cmap=\"gray\"), plt.title(\"fft2\")\n",
    "plt.subplot(1, 3, 3), plt.imshow(np.log10(1+np.abs(shift)**2), cmap=\"gray\"), plt.title(\"fftshift\")\n",
    "plt.show()"
   ]
  },
  {
   "cell_type": "code",
   "execution_count": null,
   "metadata": {},
   "outputs": [],
   "source": []
  }
 ],
 "metadata": {
  "kernelspec": {
   "display_name": "ISP",
   "language": "python",
   "name": "python3"
  },
  "language_info": {
   "codemirror_mode": {
    "name": "ipython",
    "version": 3
   },
   "file_extension": ".py",
   "mimetype": "text/x-python",
   "name": "python",
   "nbconvert_exporter": "python",
   "pygments_lexer": "ipython3",
   "version": "3.10.9"
  },
  "orig_nbformat": 4,
  "vscode": {
   "interpreter": {
    "hash": "ec2cab1a05e3ec8eaefb3e4ce76e6348cc4fe9980ee22546d6543ad5f462b7a9"
   }
  }
 },
 "nbformat": 4,
 "nbformat_minor": 2
}
