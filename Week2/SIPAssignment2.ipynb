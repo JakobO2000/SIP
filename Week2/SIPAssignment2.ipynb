{
 "cells": [
  {
   "cell_type": "code",
   "execution_count": 1,
   "metadata": {},
   "outputs": [],
   "source": [
    "%matplotlib qt\n",
    "from matplotlib import pyplot as plt\n",
    "from numpy.random import rand\n",
    "import skimage as sm\n",
    "from skimage.io import imread, imsave\n",
    "from skimage.util import img_as_float, random_noise\n",
    "from skimage.transform import rotate\n",
    "from skimage.filters import gaussian as ski_gaussian\n",
    "from pylab import ginput\n",
    "from scipy.signal import convolve, convolve2d, correlate2d\n",
    "from scipy.signal import  gaussian as scipy_gaussian\n",
    "from scipy.fft import fft2, fftshift\n",
    "import numpy as np\n",
    "import os\n",
    "import timeit\n",
    "\n",
    "os.chdir(\"../Mats\")"
   ]
  },
  {
   "cell_type": "code",
   "execution_count": null,
   "metadata": {},
   "outputs": [],
   "source": [
    "def plotGray(image): #Plots an image in gray scale\n",
    "    plt.axis(\"off\")\n",
    "    plt.imshow(image,cmap=\"gray\")\n",
    "\n",
    "def plotRGB(image): #Plots an image in RGB color\n",
    "    plt.axis(\"off\")\n",
    "    plt.imshow(image,cmap=\"jet\")"
   ]
  },
  {
   "attachments": {},
   "cell_type": "markdown",
   "metadata": {},
   "source": [
    "# 1"
   ]
  },
  {
   "attachments": {},
   "cell_type": "markdown",
   "metadata": {},
   "source": [
    "1.1"
   ]
  },
  {
   "cell_type": "code",
   "execution_count": null,
   "metadata": {},
   "outputs": [],
   "source": [
    "def gammaFuncGray(image,gamma):\n",
    "    return 255*(image/255)**gamma"
   ]
  },
  {
   "cell_type": "code",
   "execution_count": null,
   "metadata": {},
   "outputs": [],
   "source": [
    "def gammaFuncRGB(image,gamma):\n",
    "    img = np.copy(image)\n",
    "    for i in range(image.shape[2]):\n",
    "        img[:,:,i] = 255*(img[:,:,i]/255)**gamma\n",
    "    return img"
   ]
  },
  {
   "cell_type": "code",
   "execution_count": null,
   "metadata": {},
   "outputs": [],
   "source": [
    "def gammaFunc(image,gamma,HSV=False):\n",
    "    img = np.copy(image)\n",
    "    \n",
    "    try:\n",
    "        for i in range(image.shape[2]):\n",
    "            img[:,:,i] = 255*(img[:,:,i]/255)**gamma\n",
    "        return img\n",
    "    except:\n",
    "        return 255*(image/255)**gamma"
   ]
  },
  {
   "cell_type": "code",
   "execution_count": null,
   "metadata": {},
   "outputs": [],
   "source": [
    "A = imread(\"cameraman.tif\")\n",
    "\n",
    "B=gammaFunc(A,0.5)\n",
    "C=gammaFunc(A,2)\n",
    "\n",
    "\n",
    "plt.subplot(1,3,1)\n",
    "plotGray(A)\n",
    "plt.title(\"Original Image\")\n",
    "plt.subplot(1,3,2)\n",
    "plotGray(B)\n",
    "plt.title(\"Gamma = 0.5 Image\")\n",
    "plt.subplot(1,3,3)\n",
    "plotGray(C)\n",
    "plt.title(\"Gamma = 2 Image\")\n",
    "plt.tight_layout()\n",
    "plt.show()"
   ]
  },
  {
   "cell_type": "markdown",
   "metadata": {},
   "source": [
    "1.2"
   ]
  },
  {
   "cell_type": "code",
   "execution_count": null,
   "metadata": {},
   "outputs": [],
   "source": [
    "A = imread(\"autumn.tif\")\n",
    "B=gammaFunc(A,0.5)\n",
    "C=gammaFunc(A,2)\n",
    "\n",
    "plt.subplot(1,3,1)\n",
    "plotGray(A)\n",
    "plt.title(\"Original Image\")\n",
    "plt.subplot(1,3,2)\n",
    "plotGray(B)\n",
    "plt.title(\"Gamma = 0.5 Image\")\n",
    "plt.subplot(1,3,3)\n",
    "plotGray(C)\n",
    "plt.title(\"Gamma = 2 Image\")\n",
    "plt.tight_layout()\n",
    "plt.show()"
   ]
  },
  {
   "cell_type": "markdown",
   "metadata": {},
   "source": [
    "1.3"
   ]
  },
  {
   "cell_type": "code",
   "execution_count": null,
   "metadata": {},
   "outputs": [],
   "source": [
    "def RBGtoHSV(image):\n",
    "    img = np.copy(img_as_float(image))\n",
    "    HSV_M = np.zeros(img.shape)\n",
    "    H = np.zeros((img.shape[0],img.shape[1]))\n",
    "    S = np.zeros((img.shape[0],img.shape[1]))\n",
    "    R = img[:,:,0]\n",
    "    G = img[:,:,1]\n",
    "    B = img[:,:,2]\n",
    "    theta = np.arccos(((2*R-B-G)/2) / np.sqrt(R**2+G**2+B**2 - R*B - R*G - G*B + 1e-12))\n",
    "    mask = img[:,:,2]>img[:,:,1]\n",
    "    H[mask] = 2*np.pi - theta[mask]\n",
    "    H[~mask] = theta[~mask]\n",
    "        \n",
    "    V =  np.amax(img,axis=2)\n",
    "    mask = V > 0\n",
    "    S[mask] = (V[mask]-np.amin(img,axis=2)[mask])/V[mask]\n",
    "    S[~mask] = 0\n",
    "    HSV_M[:,:,0] = H\n",
    "    HSV_M[:,:,1] = S\n",
    "    HSV_M[:,:,2] = V\n",
    "    return HSV_M\n"
   ]
  },
  {
   "cell_type": "code",
   "execution_count": null,
   "metadata": {},
   "outputs": [],
   "source": [
    "def gammaHSV(image,gamma):\n",
    "    img = sm.color.rgb2hsv(image)\n",
    "    img[:,:,2] = (img[:,:,2])**gamma\n",
    "    return sm.color.hsv2rgb(img)"
   ]
  },
  {
   "cell_type": "code",
   "execution_count": null,
   "metadata": {},
   "outputs": [],
   "source": [
    "A = imread(\"autumn.tif\")\n",
    "B=gammaHSV(A,0.5)\n",
    "C=gammaHSV(A,2)\n",
    "\n",
    "plt.subplot(1,3,1)\n",
    "plotGray(A)\n",
    "plt.title(\"Original Image\")\n",
    "plt.subplot(1,3,2)\n",
    "plotGray(B)\n",
    "plt.title(\"Gamma = 0.5 Image\")\n",
    "plt.subplot(1,3,3)\n",
    "plotGray(C)\n",
    "plt.title(\"Gamma = 2 Image\")\n",
    "plt.tight_layout()\n",
    "plt.show()"
   ]
  },
  {
   "attachments": {},
   "cell_type": "markdown",
   "metadata": {},
   "source": [
    "# 2"
   ]
  },
  {
   "attachments": {},
   "cell_type": "markdown",
   "metadata": {},
   "source": [
    "2.1"
   ]
  },
  {
   "cell_type": "code",
   "execution_count": 4,
   "metadata": {},
   "outputs": [],
   "source": [
    "def median_filter_optimized(image, N):\n",
    "    pad_size = (N) // 2\n",
    "    padded_image = np.pad(image, ((pad_size, pad_size), (pad_size, pad_size)), mode='symmetric')\n",
    "    output = np.empty_like(image)\n",
    "    for i in range(image.shape[0]):\n",
    "        for j in range(image.shape[1]):\n",
    "            kernel = padded_image[i:i+N, j:j+N].ravel()\n",
    "            kernel.sort()\n",
    "            median_index = (N*N - 1) // 2\n",
    "            output[i, j] = kernel[median_index]\n",
    "\n",
    "    return output\n",
    "\n",
    "def mean_filter_optimized(image, N):\n",
    "    cop_image = np.copy(image)\n",
    "    kernel = np.ones((N, N)) / N ** 2\n",
    "    return convolve2d(cop_image, kernel, mode='same')\n"
   ]
  },
  {
   "cell_type": "code",
   "execution_count": 41,
   "metadata": {},
   "outputs": [
    {
     "name": "stderr",
     "output_type": "stream",
     "text": [
      "C:\\Users\\Birk Dissing\\AppData\\Local\\Temp\\ipykernel_5252\\2977686897.py:22: MatplotlibDeprecationWarning: Auto-removal of overlapping axes is deprecated since 3.6 and will be removed two minor releases later; explicitly call ax.remove() as needed.\n",
      "  plt.subplot(1, 3, 1), plt.imshow(A, vmin=0, vmax=255, cmap=\"gray\"), plt.title(\"Original\")\n",
      "C:\\Users\\Birk Dissing\\AppData\\Local\\Temp\\ipykernel_5252\\2977686897.py:23: MatplotlibDeprecationWarning: Auto-removal of overlapping axes is deprecated since 3.6 and will be removed two minor releases later; explicitly call ax.remove() as needed.\n",
      "  plt.subplot(1, 3, 2), plt.imshow(A_snp, cmap=\"gray\"), plt.title(\"s&p\")\n"
     ]
    }
   ],
   "source": [
    "def median_filter(image, N):\n",
    "    mir_image = np.pad(image, np.int32(np.floor(N/2)+1), mode=\"symmetric\")\n",
    "    for i in range(image.shape[0]):\n",
    "        for j in range(image.shape[1]):\n",
    "            image[i, j] = np.median(mir_image[i:i+N,j:j+N].flatten())\n",
    "    return image\n",
    "\n",
    "def mean_filter(image, N):\n",
    "    cop_image = np.copy(image)\n",
    "    kernel = np.ones(N)/N\n",
    "    mir_image = np.pad(cop_image, np.int32(np.floor(N/2)+1), mode=\"symmetric\")\n",
    "    for i in range(cop_image.shape[0]):\n",
    "        for j in range(cop_image.shape[1]):\n",
    "            cop_image [i,j] = np.sum(mir_image[i:i+N,j:j+N]@kernel@kernel.T)\n",
    "    return cop_image\n",
    "    \n",
    "A = imread(\"eight.tif\")\n",
    "executions = 100\n",
    "N_max = 25\n",
    "A_snp = random_noise(A, \"s&p\")\n",
    "A_gaus = random_noise(A)\n",
    "plt.subplot(1, 3, 1), plt.imshow(A, vmin=0, vmax=255, cmap=\"gray\"), plt.title(\"Original\")\n",
    "plt.subplot(1, 3, 2), plt.imshow(A_snp, cmap=\"gray\"), plt.title(\"s&p\")\n",
    "plt.subplot(1, 3, 3), plt.imshow(A_gaus, cmap=\"gray\"), plt.title(\"Gaussian\")\n",
    "plt.show()"
   ]
  },
  {
   "cell_type": "code",
   "execution_count": 101,
   "metadata": {},
   "outputs": [],
   "source": [
    "N = 3\n",
    "\n",
    "snp_mean_3 = mean_filter(np.copy(A_snp), N)\n",
    "snp_median_3 = median_filter_optimized(np.copy(A_snp), N)\n",
    "gaus_mean_3 = mean_filter(np.copy(A_gaus), N)\n",
    "gaus_median_3 = median_filter_optimized(np.copy(A_gaus), N)\n",
    "N = 7\n",
    "snp_mean_7 = mean_filter(np.copy(A_snp), N)\n",
    "snp_median_7 = median_filter_optimized(np.copy(A_snp), N)\n",
    "gaus_mean_7 = mean_filter(np.copy(A_gaus), N)\n",
    "gaus_median_7 = median_filter_optimized(np.copy(A_gaus), N)\n",
    "\n",
    "fig, ax = plt.subplots(3, 2)\n",
    "fig.suptitle(\"Mean filter\", fontsize=16)\n",
    "ax[0, 0].imshow(A_snp, vmin=0, vmax=1,cmap=\"gray\"), ax[0, 0].set_title(\"S&p noise\"), ax[0, 0].axis(\"off\")\n",
    "ax[0, 1].imshow(A_gaus, vmin=0, vmax=1,cmap=\"gray\"), ax[0, 1].set_title(\"Gaussian noise\"), ax[0, 1].axis(\"off\")\n",
    "ax[1, 0].imshow(snp_mean_3, vmin=0, vmax=1,cmap=\"gray\"), ax[1, 0].set_title(\"N = 3\"), ax[1, 0].axis(\"off\")\n",
    "ax[1, 1].imshow(gaus_mean_3, vmin=0, vmax=1,cmap=\"gray\"), ax[1, 1].set_title(\"N = 3\"), ax[1, 1].axis(\"off\")\n",
    "ax[2, 0].imshow(snp_mean_7, vmin=0, vmax=1,cmap=\"gray\"), ax[2, 0].set_title(\"N = 7\"), ax[2, 0].axis(\"off\"), ax[2, 0].set_xlabel(\"N = 5\")\n",
    "ax[2, 1].imshow(gaus_mean_7, vmin=0, vmax=1,cmap=\"gray\"), ax[2, 1].set_title(\"N = 7\"), ax[2, 1].axis(\"off\")\n",
    "plt.show()"
   ]
  },
  {
   "cell_type": "code",
   "execution_count": 102,
   "metadata": {},
   "outputs": [],
   "source": [
    "fig, ax = plt.subplots(3, 2)\n",
    "fig.suptitle(\"Median filter\", fontsize=16)\n",
    "ax[0, 0].imshow(A_snp, vmin=0, vmax=1,cmap=\"gray\"), ax[0, 0].set_title(\"S&p noise\"), ax[0, 0].axis(\"off\")\n",
    "ax[0, 1].imshow(A_gaus, vmin=0, vmax=1,cmap=\"gray\"), ax[0, 1].set_title(\"Gaussian noise\"), ax[0, 1].axis(\"off\")\n",
    "ax[1, 0].imshow(snp_median_3, vmin=0, vmax=1,cmap=\"gray\"), ax[1, 0].set_title(\"N = 3\"), ax[1, 0].axis(\"off\")\n",
    "ax[1, 1].imshow(gaus_median_3, vmin=0, vmax=1,cmap=\"gray\"), ax[1, 1].set_title(\"N = 3\"), ax[1, 1].axis(\"off\")\n",
    "ax[2, 0].imshow(snp_median_7, vmin=0, vmax=1,cmap=\"gray\"), ax[2, 0].set_title(\"N = 7\"), ax[2, 0].axis(\"off\")\n",
    "ax[2, 1].imshow(gaus_median_7, vmin=0, vmax=1,cmap=\"gray\"), ax[2, 1].set_title(\"N = 7\"), ax[2, 1].axis(\"off\")\n",
    "plt.show()"
   ]
  },
  {
   "cell_type": "code",
   "execution_count": 9,
   "metadata": {},
   "outputs": [
    {
     "name": "stdout",
     "output_type": "stream",
     "text": [
      "1\n",
      "2\n",
      "3\n",
      "4\n",
      "5\n",
      "6\n",
      "7\n",
      "8\n",
      "9\n",
      "10\n",
      "11\n",
      "12\n",
      "13\n",
      "14\n",
      "15\n",
      "16\n",
      "17\n",
      "18\n",
      "19\n",
      "20\n",
      "21\n",
      "22\n",
      "23\n",
      "24\n",
      "25\n"
     ]
    }
   ],
   "source": [
    "def mean_100(image, N):\n",
    "        for j in range(100):\n",
    "            mean_filter(image, N)\n",
    "        return\n",
    "\n",
    "def median_100(image, N):\n",
    "        for j in range(100):\n",
    "           median_filter_optimized(image, N)\n",
    "        return\n",
    "  \n",
    "mean_time = []\n",
    "median_time = []\n",
    "for i in range(1, N_max+1):\n",
    "    print(i)\n",
    "    start_time = timeit.default_timer()\n",
    "    mean_100(np.copy(A), i)\n",
    "    mean_time.append(timeit.default_timer()-start_time)\n",
    "    start_time = timeit.default_timer()\n",
    "    median_100(np.copy(A), i)\n",
    "    median_time.append(timeit.default_timer()-start_time)\n",
    "\n"
   ]
  },
  {
   "cell_type": "code",
   "execution_count": 103,
   "metadata": {},
   "outputs": [],
   "source": [
    "# np.save(\"mean_time_data_2.npy\", np.array(mean_time))\n",
    "# np.save(\"median_time_data_2.npy\", np.array(median_time))\n",
    "mean_data = np.load(\"mean_time_data_2.npy\")\n",
    "median_data = np.load(\"median_time_data_2.npy\")"
   ]
  },
  {
   "cell_type": "code",
   "execution_count": 105,
   "metadata": {},
   "outputs": [],
   "source": [
    "x_axis = np.arange(1, 26)\n",
    "fig, ax = plt.subplots()\n",
    "ax.plot(x_axis, mean_data, label=\"Mean time\")\n",
    "ax.plot(x_axis, median_data, label=\"Median time\")\n",
    "ax.set_ylabel(\"time (s)\")\n",
    "ax.set_xlabel(\"N\")\n",
    "ax.set_title(\"Execution time for 100 executions of filters with NxN kernel\")\n",
    "plt.legend()\n",
    "plt.show()"
   ]
  },
  {
   "attachments": {},
   "cell_type": "markdown",
   "metadata": {},
   "source": [
    "2.2"
   ]
  },
  {
   "cell_type": "code",
   "execution_count": 73,
   "metadata": {},
   "outputs": [
    {
     "name": "stdout",
     "output_type": "stream",
     "text": [
      "[[5.27990564 5.27990564 6.05857938 ... 7.28218244 7.28788403 7.12155096]\n",
      " [5.27990564 5.27990564 6.05857938 ... 7.28218244 7.28788403 7.12155096]\n",
      " [5.09429887 5.09429887 5.97359769 ... 7.11982509 7.12628583 7.04587477]\n",
      " ...\n",
      " [6.75924712 6.75924712 6.75613885 ... 6.97995821 6.98601231 6.98214489]\n",
      " [6.76530122 6.76530122 6.75924712 ... 6.97949742 6.98560566 6.98214489]\n",
      " [6.76922278 6.76922278 6.76616866 ... 6.9764433  6.98173824 6.98168409]]\n"
     ]
    }
   ],
   "source": [
    "def gaussian_filter(image, N, sigma):\n",
    "    cop_image = np.copy(image)\n",
    "    gaussian = scipy_gaussian(N, sigma)\n",
    "    kernel = np.outer(gaussian, gaussian)\n",
    "    mir_image = np.pad(cop_image, np.int32(np.floor(N/2)+1), mode=\"symmetric\")\n",
    "    for i in range(cop_image.shape[0]):\n",
    "        for j in range(cop_image.shape[1]):\n",
    "            cop_image [i,j] = np.sum(mir_image[i:i+N,j:j+N]@gaussian@gaussian.T)\n",
    "    return cop_image\n",
    "\n",
    "def gaussian_filter_optimized(image, N, sigma):\n",
    "    cop_image = np.copy(image)\n",
    "    gaussian = scipy_gaussian(N, sigma)\n",
    "    kernel = np.outer(gaussian, gaussian)\n",
    "    return convolve2d(cop_image, kernel, mode=\"same\")\n",
    "sigma = 2\n",
    "# snp_gaus_3 = gaussian_filter_optimized(A_snp, 3, sigma)\n",
    "# gaus_gaus_3 = gaussian_filter_optimized(A_gaus, 3, sigma)\n",
    "# snp_gaus_7 = gaussian_filter_optimized(A_snp, 5, sigma)\n",
    "# gaus_gaus_7 = gaussian_filter_optimized(A_gaus, 5, sigma)\n",
    "snp_gaus_3 = gaussian_filter(A_snp, 3, sigma)\n",
    "gaus_gaus_3 = gaussian_filter(A_gaus, 3, sigma)\n",
    "snp_gaus_7 = gaussian_filter(A_snp, 5, sigma)\n",
    "gaus_gaus_7 = gaussian_filter(A_gaus, 5, sigma)\n",
    "print(snp_gaus_3)\n",
    "plt.subplot(3, 2, 1), plt.imshow(A_snp, cmap=\"gray\"), plt.title(\"s&p\")\n",
    "plt.subplot(3, 2, 2), plt.imshow(A_gaus, cmap=\"gray\"), plt.title(\"Gaussian\")\n",
    "plt.subplot(3, 2, 3), plt.imshow(snp_gaus_3, cmap=\"gray\"), plt.title(\"s&p gaussian N=3\")\n",
    "plt.subplot(3, 2, 4), plt.imshow(gaus_gaus_3, cmap=\"gray\"), plt.title(\"Gaussian gaussian N=3\")\n",
    "plt.subplot(3, 2, 5), plt.imshow(snp_gaus_7, cmap=\"gray\"), plt.title(\"s&p gaussian N=7\")\n",
    "plt.subplot(3, 2, 6), plt.imshow(gaus_gaus_7, cmap=\"gray\"), plt.title(\"Gaussian gaussian N=7\")\n",
    "plt.show()\n"
   ]
  },
  {
   "attachments": {},
   "cell_type": "markdown",
   "metadata": {},
   "source": [
    "2.3"
   ]
  },
  {
   "cell_type": "code",
   "execution_count": 60,
   "metadata": {},
   "outputs": [],
   "source": [
    "sigma = 1\n",
    "snp_gaus_s3 = gaussian_filter_optimized(A_snp, 3*sigma, sigma)\n",
    "gaus_gaus_s3 = gaussian_filter_optimized(A_gaus, 3*sigma, sigma)\n",
    "sigma = 3\n",
    "snp_gaus_s7 = gaussian_filter_optimized(A_snp, 3*sigma, sigma)\n",
    "gaus_gaus_s7 = gaussian_filter_optimized(A_gaus, 3*sigma, sigma)\n",
    "\n",
    "plt.subplot(3, 2, 1), plt.imshow(A_snp, vmin=0, vmax=1,cmap=\"gray\"), plt.title(\"s&p\")\n",
    "plt.subplot(3, 2, 2), plt.imshow(A_gaus, vmin=0, vmax=1, cmap=\"gray\"), plt.title(\"Gaussian\")\n",
    "plt.subplot(3, 2, 3), plt.imshow(snp_gaus_s3, cmap=\"gray\"), plt.title(\"s&p gaussian sigma=3\")\n",
    "plt.subplot(3, 2, 4), plt.imshow(gaus_gaus_s3, cmap=\"gray\"), plt.title(\"Gaussian gaussian sigma=3\")\n",
    "plt.subplot(3, 2, 5), plt.imshow(snp_gaus_s7, cmap=\"gray\"), plt.title(\"s&p gaussian sigma=7\")\n",
    "plt.subplot(3, 2, 6), plt.imshow(gaus_gaus_s7, cmap=\"gray\"), plt.title(\"Gaussian gaussian sigma=7\")\n",
    "plt.show()"
   ]
  },
  {
   "attachments": {},
   "cell_type": "markdown",
   "metadata": {},
   "source": [
    "# 3"
   ]
  },
  {
   "cell_type": "code",
   "execution_count": null,
   "metadata": {},
   "outputs": [],
   "source": [
    "# Exercise 3 has been completed in the overleaf, see https://www.overleaf.com/6782353343wcfmggcfzyyd"
   ]
  },
  {
   "attachments": {},
   "cell_type": "markdown",
   "metadata": {},
   "source": [
    "# 4"
   ]
  },
  {
   "cell_type": "markdown",
   "metadata": {},
   "source": [
    "4.1"
   ]
  },
  {
   "cell_type": "code",
   "execution_count": 13,
   "metadata": {},
   "outputs": [],
   "source": [
    "def powerSpec(image):\n",
    "    ft = fft2(np.copy(image))\n",
    "    ftshift = fftshift(ft)\n",
    "    ps = ftshift**2\n",
    "    return ps\n",
    "\n"
   ]
  },
  {
   "cell_type": "code",
   "execution_count": 14,
   "metadata": {},
   "outputs": [],
   "source": [
    "A = imread(\"trui.png\")\n",
    "\n",
    "ps_A = powerSpec(A)\n",
    "plt.subplot(1, 2, 1), plt.imshow(A, cmap=\"gray\"), plt.title(\"Original\"),plt.axis(\"off\")\n",
    "plt.subplot(1, 2, 2), plt.imshow(np.log10(1+np.abs(ps_A)), cmap=\"gray\"), plt.title(\"Power Spectrum\"),plt.axis(\"off\")\n",
    "plt.tight_layout()\n",
    "plt.show()"
   ]
  },
  {
   "cell_type": "code",
   "execution_count": 23,
   "metadata": {},
   "outputs": [],
   "source": [
    "B = rotate(A,-30, resize=True)\n",
    "ps_B = powerSpec(B)\n",
    "plt.subplot(2, 2, 1), plt.imshow(B, cmap=\"gray\"), plt.title(\"Original rotated 30 degrees\"),plt.axis(\"off\")\n",
    "plt.subplot(2, 2, 2), plt.imshow(np.log10(1+np.abs(ps_B)), cmap=\"gray\"), plt.title(\"30 degrees Power Spectrum\"),plt.axis(\"off\")\n",
    "B = rotate(A,-45, resize=True)\n",
    "ps_B = powerSpec(B)\n",
    "plt.subplot(2, 2, 3), plt.imshow(B, cmap=\"gray\"), plt.title(\"Original rotated 45 degrees\"),plt.axis(\"off\")\n",
    "plt.subplot(2, 2, 4), plt.imshow(np.log10(1+np.abs(ps_B)), cmap=\"gray\"), plt.title(\"45 degrees Power Spectrum\"),plt.axis(\"off\")\n",
    "\n",
    "plt.tight_layout()\n",
    "plt.show()"
   ]
  },
  {
   "cell_type": "code",
   "execution_count": null,
   "metadata": {},
   "outputs": [],
   "source": []
  }
 ],
 "metadata": {
  "kernelspec": {
   "display_name": "py310",
   "language": "python",
   "name": "python3"
  },
  "language_info": {
   "codemirror_mode": {
    "name": "ipython",
    "version": 3
   },
   "file_extension": ".py",
   "mimetype": "text/x-python",
   "name": "python",
   "nbconvert_exporter": "python",
   "pygments_lexer": "ipython3",
   "version": "3.10.6"
  },
  "orig_nbformat": 4,
  "vscode": {
   "interpreter": {
    "hash": "f6c59e9a90901d54f4b9f5796ffe87a4c182513f672a519035aa940c71554467"
   }
  }
 },
 "nbformat": 4,
 "nbformat_minor": 2
}
