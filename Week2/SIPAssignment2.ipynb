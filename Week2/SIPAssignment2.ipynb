{
 "cells": [
  {
   "cell_type": "code",
   "execution_count": 1,
   "metadata": {},
   "outputs": [],
   "source": [
    "%matplotlib qt\n",
    "from matplotlib import pyplot as plt\n",
    "from numpy.random import rand\n",
    "from skimage.io import imread, imsave\n",
    "from skimage.util import img_as_float\n",
    "from skimage.transform import rotate\n",
    "from skimage.filters import gaussian as ski_gaussian\n",
    "from pylab import ginput\n",
    "from scipy.signal import convolve, convolve2d, correlate2d\n",
    "from scipy.signal import  gaussian as scipy_gaussian\n",
    "import numpy as np\n",
    "import os\n",
    "\n",
    "\n",
    "\n",
    "os.chdir(\"..\\Mats\")"
   ]
  },
  {
   "attachments": {},
   "cell_type": "markdown",
   "metadata": {},
   "source": [
    "1"
   ]
  },
  {
   "attachments": {},
   "cell_type": "markdown",
   "metadata": {},
   "source": [
    "1.1"
   ]
  },
  {
   "cell_type": "code",
   "execution_count": 2,
   "metadata": {},
   "outputs": [],
   "source": [
    "def gammaFunc(image,gamma,HSV=False):\n",
    "    img = np.copy(image)\n",
    "    \n",
    "    try:\n",
    "        for i in range(image.shape[2]):\n",
    "            img[:,:,i] = 255*(img[:,:,i]/255)**gamma\n",
    "        return img\n",
    "    except:\n",
    "        return 255*(image/255)**gamma"
   ]
  },
  {
   "cell_type": "code",
   "execution_count": 5,
   "metadata": {},
   "outputs": [],
   "source": [
    "A = imread(\"cameraman.tif\")\n",
    "\n",
    "B=gammaFunc(A,2)\n",
    "\n",
    "plt.subplot(1,2,1)\n",
    "plt.imshow(A,cmap=\"gray\")\n",
    "plt.subplot(1,2,2)\n",
    "plt.imshow(B,cmap=\"gray\")\n",
    "plt.show()"
   ]
  },
  {
   "attachments": {},
   "cell_type": "markdown",
   "metadata": {},
   "source": [
    "1.2"
   ]
  },
  {
   "cell_type": "code",
   "execution_count": 4,
   "metadata": {},
   "outputs": [],
   "source": [
    "A = imread(\"autumn.tif\")\n",
    "\n",
    "B = gammaFunc(np.copy(A),0.5)\n",
    "\n",
    "plt.subplot(1,2,1)\n",
    "plt.imshow(A,cmap=\"gray\")\n",
    "plt.subplot(1,2,2)\n",
    "plt.imshow(B,cmap=\"gray\")\n",
    "plt.show()"
   ]
  },
  {
   "attachments": {},
   "cell_type": "markdown",
   "metadata": {},
   "source": [
    "1.3"
   ]
  },
  {
   "cell_type": "code",
   "execution_count": 11,
   "metadata": {},
   "outputs": [],
   "source": [
    "A = img_as_float(A)"
   ]
  },
  {
   "cell_type": "code",
   "execution_count": 9,
   "metadata": {},
   "outputs": [],
   "source": [
    "R = A[:,:,0]\n",
    "G = A[:,:,1]\n",
    "B = A[:,:,2]"
   ]
  },
  {
   "cell_type": "code",
   "execution_count": 11,
   "metadata": {},
   "outputs": [
    {
     "data": {
      "text/plain": [
       "array([[14.56 , 13.86 , 10.54 , ..., 11.79 ,  6.855,  9.59 ],\n",
       "       [ 9.75 , 10.77 , 13.6  , ..., 13.38 , 14.87 , 14.87 ],\n",
       "       [11.49 , 12.125, 10.77 , ..., 11.79 , 10.05 , 13.71 ],\n",
       "       ...,\n",
       "       [11.266,  7.81 ,  7.   , ...,  3.   ,  6.246,  2.   ],\n",
       "       [ 5.566,  4.   ,  1.   , ...,  1.732,  5.   ,  5.293],\n",
       "       [ 5.566,  2.   ,  2.   , ...,  3.605,  1.   ,  4.   ]],\n",
       "      dtype=float16)"
      ]
     },
     "execution_count": 11,
     "metadata": {},
     "output_type": "execute_result"
    }
   ],
   "source": [
    "np.sqrt(R**2+G**2+B**2 - R*B - R*G - G*B)"
   ]
  },
  {
   "cell_type": "code",
   "execution_count": 19,
   "metadata": {},
   "outputs": [],
   "source": [
    "def gammaFunc(image,gamma,HSV=False):\n",
    "    img = np.copy(img_as_float(image))\n",
    "    if HSV == True:\n",
    "        R = img[:,:,0]\n",
    "        G = img[:,:,1]\n",
    "        B = img[:,:,2]\n",
    "        print(R**2+G**2+B**2 - R*B - R*G - G*B)\n",
    "        theta = np.arccos(((2*R-B-G)/2) / np.sqrt(R**2+G**2+B**2 - R*B - R*G - G*B))\n",
    "\n",
    "        return theta\n",
    "    else:\n",
    "        try:\n",
    "            for i in range(image.shape[2]):\n",
    "                img[:,:,i] = 255*(img[:,:,i]/255)**gamma\n",
    "            return img\n",
    "        except:\n",
    "            return 255*(image/255)**gamma"
   ]
  },
  {
   "cell_type": "code",
   "execution_count": 20,
   "metadata": {},
   "outputs": [
    {
     "name": "stdout",
     "output_type": "stream",
     "text": [
      "[[7.19723183e-03 6.88965782e-03 5.64398308e-03 ... 1.00115340e-02\n",
      "  8.59669358e-03 9.28873510e-03]\n",
      " [5.39792388e-03 5.72087659e-03 6.78200692e-03 ... 1.06266820e-02\n",
      "  1.12725875e-02 1.12725875e-02]\n",
      " [5.96693579e-03 6.19761630e-03 5.72087659e-03 ... 1.00115340e-02\n",
      "  9.42714341e-03 1.07650903e-02]\n",
      " ...\n",
      " [1.95309496e-03 9.38100730e-04 7.53556324e-04 ... 1.38408304e-04\n",
      "  5.99769319e-04 6.15148020e-05]\n",
      " [4.76739715e-04 2.46059208e-04 1.53787005e-05 ... 4.61361015e-05\n",
      "  3.84467512e-04 4.30603614e-04]\n",
      " [4.76739715e-04 6.15148020e-05 6.15148020e-05 ... 1.99923106e-04\n",
      "  1.53787005e-05 2.46059208e-04]]\n"
     ]
    },
    {
     "name": "stderr",
     "output_type": "stream",
     "text": [
      "C:\\Users\\zhakk\\AppData\\Local\\Temp\\ipykernel_14700\\2469995423.py:8: RuntimeWarning: invalid value encountered in sqrt\n",
      "  theta = np.arccos(((2*R-B-G)/2) / np.sqrt(R**2+G**2+B**2 - R*B - R*G - G*B))\n",
      "C:\\Users\\zhakk\\AppData\\Local\\Temp\\ipykernel_14700\\2469995423.py:8: RuntimeWarning: invalid value encountered in divide\n",
      "  theta = np.arccos(((2*R-B-G)/2) / np.sqrt(R**2+G**2+B**2 - R*B - R*G - G*B))\n",
      "C:\\Users\\zhakk\\AppData\\Local\\Temp\\ipykernel_14700\\2469995423.py:8: RuntimeWarning: invalid value encountered in arccos\n",
      "  theta = np.arccos(((2*R-B-G)/2) / np.sqrt(R**2+G**2+B**2 - R*B - R*G - G*B))\n"
     ]
    }
   ],
   "source": [
    "G = gammaFunc(A,1,HSV=True)"
   ]
  },
  {
   "cell_type": "code",
   "execution_count": 21,
   "metadata": {},
   "outputs": [
    {
     "data": {
      "text/plain": [
       "array([[8.04633677e-01, 7.13724379e-01, 6.28188506e-01, ...,\n",
       "        7.00895077e-01, 6.72179079e-01, 6.87083748e-01],\n",
       "       [7.66162650e-01, 6.79775647e-01, 6.66946345e-01, ...,\n",
       "        6.76359386e-01, 6.53237039e-01, 6.53237039e-01],\n",
       "       [7.80243433e-01, 6.48456806e-01, 6.79775647e-01, ...,\n",
       "        7.00895077e-01, 7.26945370e-01, 7.13724379e-01],\n",
       "       ...,\n",
       "       [2.57361148e+00, 2.55393163e+00, 3.14159236e+00, ...,\n",
       "                   nan, 7.66162650e-01, 1.04719755e+00],\n",
       "       [2.98541578e+00, 3.14159220e+00, 2.09439510e+00, ...,\n",
       "        2.61799388e+00, 2.09439510e+00, 2.42786827e+00],\n",
       "       [2.98541578e+00,            nan, 1.04719755e+00, ...,\n",
       "        1.28976143e+00, 1.04719755e+00, 5.96046448e-08]])"
      ]
     },
     "execution_count": 21,
     "metadata": {},
     "output_type": "execute_result"
    }
   ],
   "source": [
    "G"
   ]
  },
  {
   "cell_type": "code",
   "execution_count": 22,
   "metadata": {},
   "outputs": [],
   "source": [
    "index = np.where(np.any(G==np.nan))\n"
   ]
  },
  {
   "cell_type": "code",
   "execution_count": 23,
   "metadata": {},
   "outputs": [
    {
     "name": "stdout",
     "output_type": "stream",
     "text": [
      "(array([], dtype=int64),)\n"
     ]
    }
   ],
   "source": [
    "print(index)"
   ]
  },
  {
   "cell_type": "code",
   "execution_count": 24,
   "metadata": {},
   "outputs": [
    {
     "data": {
      "text/plain": [
       "<matplotlib.image.AxesImage at 0x2466b27bcd0>"
      ]
     },
     "execution_count": 24,
     "metadata": {},
     "output_type": "execute_result"
    }
   ],
   "source": [
    "plt.imshow(G)"
   ]
  },
  {
   "cell_type": "code",
   "execution_count": null,
   "metadata": {},
   "outputs": [],
   "source": []
  }
 ],
 "metadata": {
  "kernelspec": {
   "display_name": "SIP",
   "language": "python",
   "name": "python3"
  },
  "language_info": {
   "codemirror_mode": {
    "name": "ipython",
    "version": 3
   },
   "file_extension": ".py",
   "mimetype": "text/x-python",
   "name": "python",
   "nbconvert_exporter": "python",
   "pygments_lexer": "ipython3",
   "version": "3.10.9"
  },
  "orig_nbformat": 4,
  "vscode": {
   "interpreter": {
    "hash": "ebb530eda50e90d1be3641b7db78218a723a7bebd0e530ad3bb75cbdb017bef2"
   }
  }
 },
 "nbformat": 4,
 "nbformat_minor": 2
}
