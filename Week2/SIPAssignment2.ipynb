{
 "cells": [
  {
   "cell_type": "code",
   "execution_count": 1,
   "metadata": {},
   "outputs": [],
   "source": [
    "%matplotlib qt\n",
    "from matplotlib import pyplot as plt\n",
    "from numpy.random import rand\n",
    "import skimage as sm\n",
    "from skimage.io import imread, imsave\n",
    "from skimage.util import img_as_float, random_noise\n",
    "from skimage.transform import rotate\n",
    "from skimage.filters import gaussian as ski_gaussian\n",
    "from pylab import ginput\n",
    "from scipy.signal import convolve, convolve2d, correlate2d\n",
    "from scipy.signal import  gaussian as scipy_gaussian\n",
    "from scipy.fft import fft2, fftshift\n",
    "import numpy as np\n",
    "import os\n",
    "import timeit\n",
    "\n",
    "os.chdir(\"../Mats\")"
   ]
  },
  {
   "cell_type": "code",
   "execution_count": null,
   "metadata": {},
   "outputs": [],
   "source": [
    "def plotGray(image): #Plots an image in gray scale\n",
    "    plt.axis(\"off\")\n",
    "    plt.imshow(image,cmap=\"gray\")\n",
    "\n",
    "def plotRGB(image): #Plots an image in RGB color\n",
    "    plt.axis(\"off\")\n",
    "    plt.imshow(image,cmap=\"jet\")"
   ]
  },
  {
   "attachments": {},
   "cell_type": "markdown",
   "metadata": {},
   "source": [
    "# 1"
   ]
  },
  {
   "attachments": {},
   "cell_type": "markdown",
   "metadata": {},
   "source": [
    "1.1"
   ]
  },
  {
   "cell_type": "code",
   "execution_count": null,
   "metadata": {},
   "outputs": [],
   "source": [
    "def gammaFuncGray(image,gamma):\n",
    "    return 255*(image/255)**gamma"
   ]
  },
  {
   "cell_type": "code",
   "execution_count": null,
   "metadata": {},
   "outputs": [],
   "source": [
    "def gammaFuncRGB(image,gamma):\n",
    "    img = np.copy(image)\n",
    "    for i in range(image.shape[2]):\n",
    "        img[:,:,i] = 255*(img[:,:,i]/255)**gamma\n",
    "    return img"
   ]
  },
  {
   "cell_type": "code",
   "execution_count": 2,
   "metadata": {},
   "outputs": [],
   "source": [
    "def gammaFunc(image,gamma,HSV=False):\n",
    "    img = np.copy(image)\n",
    "    \n",
    "    try:\n",
    "        for i in range(image.shape[2]):\n",
    "            img[:,:,i] = 255*(img[:,:,i]/255)**gamma\n",
    "        return img\n",
    "    except:\n",
    "        return 255*(image/255)**gamma"
   ]
  },
  {
   "cell_type": "code",
   "execution_count": null,
   "metadata": {},
   "outputs": [],
   "source": [
    "A = imread(\"cameraman.tif\")\n",
    "\n",
    "B=gammaFunc(A,0.5)\n",
    "C=gammaFunc(A,2)\n",
    "\n",
    "\n",
    "plt.subplot(1,3,1)\n",
    "plotGray(A)\n",
    "plt.title(\"Original Image\")\n",
    "plt.subplot(1,3,2)\n",
    "plotGray(B)\n",
    "plt.title(\"Gamma = 0.5 Image\")\n",
    "plt.subplot(1,3,3)\n",
    "plotGray(C)\n",
    "plt.title(\"Gamma = 2 Image\")\n",
    "plt.tight_layout()\n",
    "plt.show()"
   ]
  },
  {
   "cell_type": "markdown",
   "metadata": {},
   "source": [
    "1.2"
   ]
  },
  {
   "cell_type": "code",
   "execution_count": null,
   "metadata": {},
   "outputs": [],
   "source": [
    "A = imread(\"autumn.tif\")\n",
    "B=gammaFunc(A,0.5)\n",
    "C=gammaFunc(A,2)\n",
    "\n",
    "plt.subplot(1,3,1)\n",
    "plotGray(A)\n",
    "plt.title(\"Original Image\")\n",
    "plt.subplot(1,3,2)\n",
    "plotGray(B)\n",
    "plt.title(\"Gamma = 0.5 Image\")\n",
    "plt.subplot(1,3,3)\n",
    "plotGray(C)\n",
    "plt.title(\"Gamma = 2 Image\")\n",
    "plt.tight_layout()\n",
    "plt.show()"
   ]
  },
  {
   "cell_type": "markdown",
   "metadata": {},
   "source": [
    "1.3"
   ]
  },
  {
   "cell_type": "code",
   "execution_count": null,
   "metadata": {},
   "outputs": [],
   "source": [
    "def RBGtoHSV(image):\n",
    "    img = np.copy(img_as_float(image))\n",
    "    HSV_M = np.zeros(img.shape)\n",
    "    H = np.zeros((img.shape[0],img.shape[1]))\n",
    "    S = np.zeros((img.shape[0],img.shape[1]))\n",
    "    R = img[:,:,0]\n",
    "    G = img[:,:,1]\n",
    "    B = img[:,:,2]\n",
    "    theta = np.arccos(((2*R-B-G)/2) / np.sqrt(R**2+G**2+B**2 - R*B - R*G - G*B + 1e-12))\n",
    "    mask = img[:,:,2]>img[:,:,1]\n",
    "    H[mask] = 2*np.pi - theta[mask]\n",
    "    H[~mask] = theta[~mask]\n",
    "        \n",
    "    V =  np.amax(img,axis=2)\n",
    "    mask = V > 0\n",
    "    S[mask] = (V[mask]-np.amin(img,axis=2)[mask])/V[mask]\n",
    "    S[~mask] = 0\n",
    "    HSV_M[:,:,0] = H\n",
    "    HSV_M[:,:,1] = S\n",
    "    HSV_M[:,:,2] = V\n",
    "    return HSV_M\n"
   ]
  },
  {
   "cell_type": "code",
   "execution_count": null,
   "metadata": {},
   "outputs": [],
   "source": [
    "def gammaHSV(image,gamma):\n",
    "    img = sm.color.rgb2hsv(image)\n",
    "    img[:,:,2] = (img[:,:,2])**gamma\n",
    "    return sm.color.hsv2rgb(img)"
   ]
  },
  {
   "cell_type": "code",
   "execution_count": null,
   "metadata": {},
   "outputs": [],
   "source": [
    "A = imread(\"autumn.tif\")\n",
    "B=gammaHSV(A,0.5)\n",
    "C=gammaHSV(A,2)\n",
    "\n",
    "plt.subplot(1,3,1)\n",
    "plotGray(A)\n",
    "plt.title(\"Original Image\")\n",
    "plt.subplot(1,3,2)\n",
    "plotGray(B)\n",
    "plt.title(\"Gamma = 0.5 Image\")\n",
    "plt.subplot(1,3,3)\n",
    "plotGray(C)\n",
    "plt.title(\"Gamma = 2 Image\")\n",
    "plt.tight_layout()\n",
    "plt.show()"
   ]
  },
  {
   "attachments": {},
   "cell_type": "markdown",
   "metadata": {},
   "source": [
    "# 2"
   ]
  },
  {
   "attachments": {},
   "cell_type": "markdown",
   "metadata": {},
   "source": [
    "2.1"
   ]
  },
  {
   "cell_type": "code",
   "execution_count": 70,
   "metadata": {},
   "outputs": [],
   "source": [
    "def median_filter_optimized(image, N):\n",
    "    pad_size = (N) // 2\n",
    "    padded_image = np.pad(image, ((pad_size, pad_size), (pad_size, pad_size)), mode='symmetric')\n",
    "    output = np.empty_like(image)\n",
    "    for i in range(image.shape[0]):\n",
    "        for j in range(image.shape[1]):\n",
    "            kernel = padded_image[i:i+N, j:j+N].ravel()\n",
    "            kernel.sort()\n",
    "            median_index = (N*N - 1) // 2\n",
    "            output[i, j] = kernel[median_index]\n",
    "\n",
    "    return output\n",
    "\n",
    "def mean_filter_optimized(image, N):\n",
    "    kernel = np.ones((N, N)) / N ** 2\n",
    "    return convolve2d(image, kernel, mode='same')\n"
   ]
  },
  {
   "cell_type": "code",
   "execution_count": 21,
   "metadata": {},
   "outputs": [],
   "source": [
    "def median_filter(image, N):\n",
    "    mir_image = np.pad(image, np.int32(np.floor(N/2)+1), mode=\"symmetric\")\n",
    "    for i in range(image.shape[0]):\n",
    "        for j in range(image.shape[1]):\n",
    "            image[i, j] = np.median(mir_image[i:i+N,j:j+N].flatten())\n",
    "    return image\n",
    "\n",
    "def mean_filter(image, N):\n",
    "    kernel = np.ones(N)/N**2\n",
    "    mir_image = np.pad(image, np.int32(np.floor(N/2)+1), mode=\"symmetric\")\n",
    "    for i in range(image.shape[0]):\n",
    "        for j in range(image.shape[1]):\n",
    "            image [i,j] = np.sum(mir_image[i:i+N,j:j+N]*kernel)\n",
    "    return image\n",
    "    \n",
    "A = imread(\"eight.tif\")\n",
    "executions = 100\n",
    "N_max = 25\n",
    "A_snp = random_noise(A, \"s&p\")\n",
    "A_gaus = random_noise(A)\n",
    "plt.subplot(1, 3, 1), plt.imshow(A, vmin=0, vmax=255, cmap=\"gray\"), plt.title(\"Original\")\n",
    "plt.subplot(1, 3, 2), plt.imshow(A_snp, cmap=\"gray\"), plt.title(\"s&p\")\n",
    "plt.subplot(1, 3, 3), plt.imshow(A_gaus, cmap=\"gray\"), plt.title(\"Gaussian\")\n",
    "plt.show()"
   ]
  },
  {
   "cell_type": "code",
   "execution_count": 41,
   "metadata": {},
   "outputs": [],
   "source": [
    "N = 3\n",
    "plt.subplot(3, 2, 1), plt.imshow(A_snp, vmin=0, vmax=1,cmap=\"gray\"), plt.title(\"s&p\")\n",
    "plt.subplot(3, 2, 2), plt.imshow(A_gaus, vmin=0, vmax=1, cmap=\"gray\"), plt.title(\"Gaussian\")\n",
    "snp_mean_3 = mean_filter_optimized(np.copy(A_snp), N)\n",
    "snp_median_3 = median_filter_optimized(np.copy(A_snp), N)\n",
    "gaus_mean_3 = mean_filter_optimized(np.copy(A_gaus), N)\n",
    "gaus_median_3 = median_filter_optimized(np.copy(A_gaus), N)\n",
    "snp_mean_5 = mean_filter_optimized(np.copy(A_snp), 5)\n",
    "snp_median_5 = median_filter_optimized(np.copy(A_snp), 5)\n",
    "gaus_mean_5 = mean_filter_optimized(np.copy(A_gaus), 5)\n",
    "gaus_median_5 = median_filter_optimized(np.copy(A_gaus), 5)\n",
    "\n",
    "plt.subplot(3, 2, 3), plt.imshow(snp_mean_3, vmin=0, vmax=1, cmap=\"gray\"), plt.title(\"s&p mean 3\")\n",
    "plt.subplot(3, 2, 4), plt.imshow(gaus_mean_3, vmin=0, vmax=1, cmap=\"gray\"), plt.title(\"Gaussian mean 3\")\n",
    "plt.subplot(3, 2, 5), plt.imshow(snp_mean_5, vmin=0, vmax=1, cmap=\"gray\"), plt.title(\"s&p mean 5\")\n",
    "plt.subplot(3, 2, 6), plt.imshow(gaus_mean_5, vmin=0, vmax=1, cmap=\"gray\"), plt.title(\"Gaussian mean 5\")\n",
    "plt.show()"
   ]
  },
  {
   "cell_type": "code",
   "execution_count": 42,
   "metadata": {},
   "outputs": [],
   "source": [
    "plt.subplot(3, 2, 1), plt.imshow(A_snp, vmin=0, vmax=1,cmap=\"gray\"), plt.title(\"s&p\")\n",
    "plt.subplot(3, 2, 2), plt.imshow(A_gaus, vmin=0, vmax=1, cmap=\"gray\"), plt.title(\"Gaussian\")\n",
    "\n",
    "plt.subplot(3, 2, 3), plt.imshow(snp_median_3, vmin=0, vmax=1, cmap=\"gray\"), plt.title(\"s&p median 3\")\n",
    "plt.subplot(3, 2, 4), plt.imshow(gaus_median_3, vmin=0, vmax=1, cmap=\"gray\"), plt.title(\"Gaussian median 3\")\n",
    "plt.subplot(3, 2, 5), plt.imshow(snp_median_5, vmin=0, vmax=1, cmap=\"gray\"), plt.title(\"s&p median 5\")\n",
    "plt.subplot(3, 2, 6), plt.imshow(gaus_median_5, vmin=0, vmax=1, cmap=\"gray\"), plt.title(\"Gaussian median 5\")\n",
    "plt.show()"
   ]
  },
  {
   "cell_type": "code",
   "execution_count": 71,
   "metadata": {},
   "outputs": [
    {
     "name": "stdout",
     "output_type": "stream",
     "text": [
      "1\n",
      "2\n",
      "3\n",
      "4\n",
      "5\n",
      "6\n",
      "7\n",
      "8\n",
      "9\n",
      "10\n",
      "11\n",
      "12\n",
      "13\n",
      "14\n",
      "15\n",
      "16\n",
      "17\n",
      "18\n",
      "19\n",
      "20\n",
      "21\n",
      "22\n",
      "23\n",
      "24\n",
      "25\n"
     ]
    },
    {
     "ename": "ValueError",
     "evalue": "x and y must have same first dimension, but have shapes (1, 25) and (25,)",
     "output_type": "error",
     "traceback": [
      "\u001b[1;31m---------------------------------------------------------------------------\u001b[0m",
      "\u001b[1;31mValueError\u001b[0m                                Traceback (most recent call last)",
      "Cell \u001b[1;32mIn [71], line 22\u001b[0m\n\u001b[0;32m     20\u001b[0m     median_time\u001b[39m.\u001b[39mappend(timeit\u001b[39m.\u001b[39mdefault_timer()\u001b[39m-\u001b[39mstart_time)\n\u001b[0;32m     21\u001b[0m x_axis \u001b[39m=\u001b[39m np\u001b[39m.\u001b[39marange(\u001b[39m1\u001b[39m, \u001b[39m26\u001b[39m),\n\u001b[1;32m---> 22\u001b[0m plt\u001b[39m.\u001b[39;49mplot(x_axis, mean_time, label\u001b[39m=\u001b[39;49m\u001b[39m\"\u001b[39;49m\u001b[39mMean time\u001b[39;49m\u001b[39m\"\u001b[39;49m),\n\u001b[0;32m     23\u001b[0m plt\u001b[39m.\u001b[39mplot(x_axis, median_time, label\u001b[39m=\u001b[39m\u001b[39m\"\u001b[39m\u001b[39mMedian time\u001b[39m\u001b[39m\"\u001b[39m)\n",
      "File \u001b[1;32md:\\Anaconda\\AnacondaInstall\\envs\\py310\\lib\\site-packages\\matplotlib\\pyplot.py:2740\u001b[0m, in \u001b[0;36mplot\u001b[1;34m(scalex, scaley, data, *args, **kwargs)\u001b[0m\n\u001b[0;32m   2738\u001b[0m \u001b[39m@_copy_docstring_and_deprecators\u001b[39m(Axes\u001b[39m.\u001b[39mplot)\n\u001b[0;32m   2739\u001b[0m \u001b[39mdef\u001b[39;00m \u001b[39mplot\u001b[39m(\u001b[39m*\u001b[39margs, scalex\u001b[39m=\u001b[39m\u001b[39mTrue\u001b[39;00m, scaley\u001b[39m=\u001b[39m\u001b[39mTrue\u001b[39;00m, data\u001b[39m=\u001b[39m\u001b[39mNone\u001b[39;00m, \u001b[39m*\u001b[39m\u001b[39m*\u001b[39mkwargs):\n\u001b[1;32m-> 2740\u001b[0m     \u001b[39mreturn\u001b[39;00m gca()\u001b[39m.\u001b[39mplot(\n\u001b[0;32m   2741\u001b[0m         \u001b[39m*\u001b[39margs, scalex\u001b[39m=\u001b[39mscalex, scaley\u001b[39m=\u001b[39mscaley,\n\u001b[0;32m   2742\u001b[0m         \u001b[39m*\u001b[39m\u001b[39m*\u001b[39m({\u001b[39m\"\u001b[39m\u001b[39mdata\u001b[39m\u001b[39m\"\u001b[39m: data} \u001b[39mif\u001b[39;00m data \u001b[39mis\u001b[39;00m \u001b[39mnot\u001b[39;00m \u001b[39mNone\u001b[39;00m \u001b[39melse\u001b[39;00m {}), \u001b[39m*\u001b[39m\u001b[39m*\u001b[39mkwargs)\n",
      "File \u001b[1;32md:\\Anaconda\\AnacondaInstall\\envs\\py310\\lib\\site-packages\\matplotlib\\axes\\_axes.py:1662\u001b[0m, in \u001b[0;36mAxes.plot\u001b[1;34m(self, scalex, scaley, data, *args, **kwargs)\u001b[0m\n\u001b[0;32m   1419\u001b[0m \u001b[39m\"\"\"\u001b[39;00m\n\u001b[0;32m   1420\u001b[0m \u001b[39mPlot y versus x as lines and/or markers.\u001b[39;00m\n\u001b[0;32m   1421\u001b[0m \n\u001b[1;32m   (...)\u001b[0m\n\u001b[0;32m   1659\u001b[0m \u001b[39m(``'green'``) or hex strings (``'#008000'``).\u001b[39;00m\n\u001b[0;32m   1660\u001b[0m \u001b[39m\"\"\"\u001b[39;00m\n\u001b[0;32m   1661\u001b[0m kwargs \u001b[39m=\u001b[39m cbook\u001b[39m.\u001b[39mnormalize_kwargs(kwargs, mlines\u001b[39m.\u001b[39mLine2D)\n\u001b[1;32m-> 1662\u001b[0m lines \u001b[39m=\u001b[39m [\u001b[39m*\u001b[39m\u001b[39mself\u001b[39m\u001b[39m.\u001b[39m_get_lines(\u001b[39m*\u001b[39margs, data\u001b[39m=\u001b[39mdata, \u001b[39m*\u001b[39m\u001b[39m*\u001b[39mkwargs)]\n\u001b[0;32m   1663\u001b[0m \u001b[39mfor\u001b[39;00m line \u001b[39min\u001b[39;00m lines:\n\u001b[0;32m   1664\u001b[0m     \u001b[39mself\u001b[39m\u001b[39m.\u001b[39madd_line(line)\n",
      "File \u001b[1;32md:\\Anaconda\\AnacondaInstall\\envs\\py310\\lib\\site-packages\\matplotlib\\axes\\_base.py:311\u001b[0m, in \u001b[0;36m_process_plot_var_args.__call__\u001b[1;34m(self, data, *args, **kwargs)\u001b[0m\n\u001b[0;32m    309\u001b[0m     this \u001b[39m+\u001b[39m\u001b[39m=\u001b[39m args[\u001b[39m0\u001b[39m],\n\u001b[0;32m    310\u001b[0m     args \u001b[39m=\u001b[39m args[\u001b[39m1\u001b[39m:]\n\u001b[1;32m--> 311\u001b[0m \u001b[39myield from\u001b[39;00m \u001b[39mself\u001b[39;49m\u001b[39m.\u001b[39;49m_plot_args(\n\u001b[0;32m    312\u001b[0m     this, kwargs, ambiguous_fmt_datakey\u001b[39m=\u001b[39;49mambiguous_fmt_datakey)\n",
      "File \u001b[1;32md:\\Anaconda\\AnacondaInstall\\envs\\py310\\lib\\site-packages\\matplotlib\\axes\\_base.py:504\u001b[0m, in \u001b[0;36m_process_plot_var_args._plot_args\u001b[1;34m(self, tup, kwargs, return_kwargs, ambiguous_fmt_datakey)\u001b[0m\n\u001b[0;32m    501\u001b[0m     \u001b[39mself\u001b[39m\u001b[39m.\u001b[39maxes\u001b[39m.\u001b[39myaxis\u001b[39m.\u001b[39mupdate_units(y)\n\u001b[0;32m    503\u001b[0m \u001b[39mif\u001b[39;00m x\u001b[39m.\u001b[39mshape[\u001b[39m0\u001b[39m] \u001b[39m!=\u001b[39m y\u001b[39m.\u001b[39mshape[\u001b[39m0\u001b[39m]:\n\u001b[1;32m--> 504\u001b[0m     \u001b[39mraise\u001b[39;00m \u001b[39mValueError\u001b[39;00m(\u001b[39mf\u001b[39m\u001b[39m\"\u001b[39m\u001b[39mx and y must have same first dimension, but \u001b[39m\u001b[39m\"\u001b[39m\n\u001b[0;32m    505\u001b[0m                      \u001b[39mf\u001b[39m\u001b[39m\"\u001b[39m\u001b[39mhave shapes \u001b[39m\u001b[39m{\u001b[39;00mx\u001b[39m.\u001b[39mshape\u001b[39m}\u001b[39;00m\u001b[39m and \u001b[39m\u001b[39m{\u001b[39;00my\u001b[39m.\u001b[39mshape\u001b[39m}\u001b[39;00m\u001b[39m\"\u001b[39m)\n\u001b[0;32m    506\u001b[0m \u001b[39mif\u001b[39;00m x\u001b[39m.\u001b[39mndim \u001b[39m>\u001b[39m \u001b[39m2\u001b[39m \u001b[39mor\u001b[39;00m y\u001b[39m.\u001b[39mndim \u001b[39m>\u001b[39m \u001b[39m2\u001b[39m:\n\u001b[0;32m    507\u001b[0m     \u001b[39mraise\u001b[39;00m \u001b[39mValueError\u001b[39;00m(\u001b[39mf\u001b[39m\u001b[39m\"\u001b[39m\u001b[39mx and y can be no greater than 2D, but have \u001b[39m\u001b[39m\"\u001b[39m\n\u001b[0;32m    508\u001b[0m                      \u001b[39mf\u001b[39m\u001b[39m\"\u001b[39m\u001b[39mshapes \u001b[39m\u001b[39m{\u001b[39;00mx\u001b[39m.\u001b[39mshape\u001b[39m}\u001b[39;00m\u001b[39m and \u001b[39m\u001b[39m{\u001b[39;00my\u001b[39m.\u001b[39mshape\u001b[39m}\u001b[39;00m\u001b[39m\"\u001b[39m)\n",
      "\u001b[1;31mValueError\u001b[0m: x and y must have same first dimension, but have shapes (1, 25) and (25,)"
     ]
    }
   ],
   "source": [
    "def mean_100(image, N):\n",
    "        for j in range(100):\n",
    "            mean_filter_optimized(image, N)\n",
    "        return\n",
    "\n",
    "def median_100(image, N):\n",
    "        for j in range(100):\n",
    "           median_filter_optimized(image, N)\n",
    "        return\n",
    "  \n",
    "mean_time = []\n",
    "median_time = []\n",
    "for i in range(1, N_max+1):\n",
    "    print(i)\n",
    "    start_time = timeit.default_timer()\n",
    "    mean_100(np.copy(A), i)\n",
    "    mean_time.append(timeit.default_timer()-start_time)\n",
    "    start_time = timeit.default_timer()\n",
    "    median_100(np.copy(A), i)\n",
    "    median_time.append(timeit.default_timer()-start_time)\n",
    "\n"
   ]
  },
  {
   "cell_type": "code",
   "execution_count": 72,
   "metadata": {},
   "outputs": [],
   "source": [
    "np.save(\"mean_time_data.npy\", np.array(mean_time))\n",
    "np.save(\"median_time_data.npy\", np.array(median_time))\n"
   ]
  },
  {
   "cell_type": "code",
   "execution_count": 74,
   "metadata": {},
   "outputs": [
    {
     "data": {
      "text/plain": [
       "[<matplotlib.lines.Line2D at 0x2a296bbf910>]"
      ]
     },
     "execution_count": 74,
     "metadata": {},
     "output_type": "execute_result"
    }
   ],
   "source": [
    "x_axis = np.arange(1, 26)\n",
    "plt.plot(x_axis, mean_time, label=\"Mean time\")\n",
    "plt.plot(x_axis, median_time, label=\"Median time\")"
   ]
  },
  {
   "attachments": {},
   "cell_type": "markdown",
   "metadata": {},
   "source": [
    "2.2"
   ]
  },
  {
   "cell_type": "code",
   "execution_count": null,
   "metadata": {},
   "outputs": [],
   "source": [
    "def gaussian_filter(image, sigma, N):\n",
    "    return\n",
    "sigma = 5"
   ]
  },
  {
   "attachments": {},
   "cell_type": "markdown",
   "metadata": {},
   "source": [
    "2.3"
   ]
  },
  {
   "cell_type": "code",
   "execution_count": null,
   "metadata": {},
   "outputs": [],
   "source": []
  },
  {
   "attachments": {},
   "cell_type": "markdown",
   "metadata": {},
   "source": [
    "# 3"
   ]
  },
  {
   "cell_type": "code",
   "execution_count": null,
   "metadata": {},
   "outputs": [],
   "source": [
    "# Exercise 3 has been completed in the overleaf, see https://www.overleaf.com/6782353343wcfmggcfzyyd"
   ]
  },
  {
   "attachments": {},
   "cell_type": "markdown",
   "metadata": {},
   "source": [
    "# 4"
   ]
  },
  {
   "cell_type": "markdown",
   "metadata": {},
   "source": [
    "4.1"
   ]
  },
  {
   "cell_type": "code",
   "execution_count": 7,
   "metadata": {},
   "outputs": [],
   "source": [
    "A = imread(\"trui.png\")\n",
    "\n",
    "ps_A = fft2(A)\n",
    "shift = fftshift(ps_A, )\n",
    "plt.subplot(1, 3, 1), plt.imshow(A, cmap=\"gray\"), plt.title(\"Original\")\n",
    "plt.subplot(1, 3, 2), plt.imshow(np.log10(1+np.abs(ps_A)**2), cmap=\"gray\"), plt.title(\"fft2\")\n",
    "plt.subplot(1, 3, 3), plt.imshow(np.log10(1+np.abs(shift)**2), cmap=\"gray\"), plt.title(\"fftshift\")\n",
    "plt.show()"
   ]
  },
  {
   "cell_type": "code",
   "execution_count": null,
   "metadata": {},
   "outputs": [],
   "source": []
  }
 ],
 "metadata": {
  "kernelspec": {
   "display_name": "py310",
   "language": "python",
   "name": "python3"
  },
  "language_info": {
   "codemirror_mode": {
    "name": "ipython",
    "version": 3
   },
   "file_extension": ".py",
   "mimetype": "text/x-python",
   "name": "python",
   "nbconvert_exporter": "python",
   "pygments_lexer": "ipython3",
   "version": "3.10.6"
  },
  "orig_nbformat": 4,
  "vscode": {
   "interpreter": {
    "hash": "f6c59e9a90901d54f4b9f5796ffe87a4c182513f672a519035aa940c71554467"
   }
  }
 },
 "nbformat": 4,
 "nbformat_minor": 2
}
