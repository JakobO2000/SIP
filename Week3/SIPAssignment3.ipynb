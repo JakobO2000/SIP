{
 "cells": [
  {
   "cell_type": "code",
   "execution_count": 3,
   "metadata": {},
   "outputs": [],
   "source": [
    "%matplotlib qt\n",
    "from matplotlib import pyplot as plt\n",
    "from numpy.random import rand\n",
    "import skimage as sm\n",
    "from skimage.io import imread, imsave\n",
    "from skimage.util import img_as_float, random_noise\n",
    "from skimage.transform import rotate, resize\n",
    "from skimage.filters import gaussian as ski_gaussian\n",
    "from pylab import ginput\n",
    "from scipy.signal import convolve, convolve2d, correlate2d, fftconvolve\n",
    "from scipy.signal import  gaussian as scipy_gaussian\n",
    "from scipy.fft import fft2, fftshift, ifft2, ifftshift\n",
    "import numpy as np\n",
    "import os\n",
    "import timeit\n",
    "from PIL import Image\n",
    "\n",
    "os.chdir(\"../Mats\")"
   ]
  },
  {
   "cell_type": "code",
   "execution_count": 4,
   "metadata": {},
   "outputs": [],
   "source": [
    "plt.rcParams['figure.dpi'] = 300\n",
    "plt.rcParams['savefig.dpi'] = 300"
   ]
  },
  {
   "cell_type": "markdown",
   "metadata": {},
   "source": [
    "# 2"
   ]
  },
  {
   "cell_type": "markdown",
   "metadata": {},
   "source": [
    "2.1"
   ]
  },
  {
   "cell_type": "code",
   "execution_count": 17,
   "metadata": {},
   "outputs": [
    {
     "name": "stdout",
     "output_type": "stream",
     "text": [
      "(256, 256)\n",
      "2\n",
      "3\n",
      "4\n",
      "5\n",
      "6\n",
      "7\n",
      "8\n",
      "9\n",
      "10\n",
      "11\n",
      "12\n",
      "13\n",
      "14\n",
      "15\n"
     ]
    }
   ],
   "source": [
    "\n",
    "def apply_filter(image, filter):\n",
    "    cop_image = np.copy(image)\n",
    "    out_image = np.zeros(image.shape)\n",
    "    row = (filter.shape[0]-1)//2\n",
    "    column = (filter.shape[1]-1)//2\n",
    "    for i in range(cop_image.shape[0]-filter.shape[0]):\n",
    "        for j in range(cop_image.shape[1]-filter.shape[1]):\n",
    "            out_image[i+row,j+column] = np.sum(cop_image[i:i+filter.shape[0],j:j+filter.shape[1]]*filter)\n",
    "    return out_image\n",
    "\n",
    "\n",
    "def fft_convolve(image, filter):\n",
    "    cop_image = np.copy(image)\n",
    "    prod = fft2(image, image.shape) * fft2(filter, image.shape)\n",
    "    ifftprod = ifft2(prod).real\n",
    "    convImg = np.roll(ifftprod, (-((filter.shape[0] - 1)//2),\n",
    "                                 -((filter.shape[1] - 1)//2)), axis=(0, 1))\n",
    "    return convImg\n",
    "\n",
    "\n",
    "def mean_kernel(N):\n",
    "    return np.ones((N, N))/N**2\n",
    "\n",
    "A = imread(\"cameraman.tif\")\n",
    "kernels = [mean_kernel(3), mean_kernel(7)]\n",
    "print(A.shape)\n",
    "\n",
    "img_reg_3 = apply_filter(A, kernels[0])\n",
    "img_fft_3 = fft_convolve(A, kernels[0]) \n",
    "img_reg_7 = apply_filter(A, kernels[1])\n",
    "img_fft_7 = fft_convolve(A, kernels[1])\n",
    "diff_3 = np.abs(img_fft_3-img_reg_3)\n",
    "diff_7 = np.abs(img_fft_7-img_reg_7)\n",
    "\n",
    "reg_kernel_time = []\n",
    "fft_kernel_time = []\n",
    "\n",
    "for i in range(2, 16):\n",
    "    A = imread(\"cameraman.tif\")\n",
    "    kernel = mean_kernel(i)\n",
    "    reg_kernel_time.append(timeit.timeit(lambda: apply_filter(A, kernel), number=100))\n",
    "    fft_kernel_time.append(timeit.timeit(lambda: fft_convolve(A, kernel), number=100))\n",
    "    print(i)\n"
   ]
  },
  {
   "cell_type": "code",
   "execution_count": 19,
   "metadata": {},
   "outputs": [],
   "source": [
    "np.save(\"reg_kernel_time.npy\", np.array(reg_kernel_time))\n",
    "np.save(\"fft_kernel_time.npy\", np.array(fft_kernel_time))\n",
    "reg_kernel_time = np.load(\"reg_kernel_time.npy\")\n",
    "fft_kernel_time = np.load(\"fft_kernel_time.npy\")"
   ]
  },
  {
   "cell_type": "code",
   "execution_count": 20,
   "metadata": {},
   "outputs": [],
   "source": [
    "fig, ax = plt.subplots()\n",
    "x_axis = np.arange(2, 16)\n",
    "ax.plot(x_axis, reg_kernel_time, label=\"reg\")\n",
    "ax.plot(x_axis, fft_kernel_time, label=\"fft\")\n",
    "ax.set_xlabel(\"N\"), ax.set_ylabel(\"Execution time (s)\"), ax.set_title(\"Execution time for 100 executions for a filter with kernel NxN\")\n",
    "plt.tight_layout()\n",
    "plt.legend()\n",
    "plt.show()"
   ]
  },
  {
   "cell_type": "code",
   "execution_count": 27,
   "metadata": {},
   "outputs": [],
   "source": [
    "fig, ax = plt.subplots(3, 2, figsize=(2.1, 3))\n",
    "ax[0, 0].imshow(img_reg_3, vmin=0, vmax=255, cmap=\"gray\"), ax[0,0].set_title(\"Nested for, N=3\", fontsize=6), ax[0, 0].axis(\"off\")\n",
    "ax[0, 1].imshow(img_reg_7, vmin=0, vmax=255, cmap=\"gray\"), ax[0,1].set_title(\"Nested for, N=7\", fontsize=6), ax[0, 1].axis(\"off\")\n",
    "ax[1, 0].imshow(img_fft_3, vmin=0, vmax=255, cmap=\"gray\"), ax[1,0].set_title(\"fft, N=3\", fontsize=6), ax[1, 0].axis(\"off\")\n",
    "ax[1, 1].imshow(img_fft_7, vmin=0, vmax=255, cmap=\"gray\"), ax[1,1].set_title(\"fft, N=7\", fontsize=6), ax[1, 1].axis(\"off\")\n",
    "ax[2, 0].imshow(diff_3, vmin=0, vmax=255, cmap=\"gray\"), ax[2,0].set_title(\"Difference, N=3\", fontsize=6), ax[2, 0].axis(\"off\")\n",
    "ax[2, 1].imshow(diff_7, vmin=0, vmax=255, cmap=\"gray\"), ax[2,1].set_title(\"Difference, N=7\", fontsize=6), ax[2, 1].axis(\"off\")\n",
    "plt.tight_layout()\n",
    "plt.show()"
   ]
  },
  {
   "cell_type": "code",
   "execution_count": 21,
   "metadata": {},
   "outputs": [
    {
     "data": {
      "text/plain": [
       "<matplotlib.image.AxesImage at 0x1a3ae9fd810>"
      ]
     },
     "execution_count": 21,
     "metadata": {},
     "output_type": "execute_result"
    }
   ],
   "source": [
    "plt.imshow(A, cmap=\"gray\")"
   ]
  },
  {
   "cell_type": "code",
   "execution_count": 11,
   "metadata": {},
   "outputs": [
    {
     "name": "stdout",
     "output_type": "stream",
     "text": [
      "20\n",
      "30\n",
      "40\n",
      "50\n",
      "60\n",
      "70\n",
      "80\n",
      "90\n",
      "100\n",
      "110\n",
      "120\n",
      "130\n",
      "140\n",
      "150\n",
      "160\n",
      "170\n",
      "180\n",
      "190\n",
      "200\n",
      "210\n",
      "220\n",
      "230\n",
      "240\n",
      "250\n"
     ]
    }
   ],
   "source": [
    "A = imread(\"cameraman.tif\")\n",
    "kernel = mean_kernel(5)\n",
    "img = [resize(A, (50, 50)), resize(A, (200, 200))]\n",
    "img_reg_small = apply_filter(img[0], kernel)\n",
    "img_fft_small = fft_convolve(img[0], kernel)\n",
    "img_reg_big = apply_filter(img[1], kernel)\n",
    "img_fft_big = fft_convolve(img[1], kernel)\n",
    "diff_3 = np.abs(img_fft_small-img_reg_small)\n",
    "diff_7 = np.abs(img_reg_big-img_fft_big)\n",
    "\n",
    "reg_img_time = []\n",
    "fft_img_time = []\n",
    "\n",
    "for i in range(20, 256, 10):\n",
    "    img = resize(A, (i, i))\n",
    "    reg_img_time.append(timeit.timeit(lambda: apply_filter(img, kernel), number=100))\n",
    "    fft_img_time.append(timeit.timeit(lambda: fft_convolve(img, kernel), number=100))\n",
    "    print(i)"
   ]
  },
  {
   "cell_type": "code",
   "execution_count": 12,
   "metadata": {},
   "outputs": [],
   "source": [
    "np.save(\"reg_img_time.npy\", np.array(reg_img_time))\n",
    "np.save(\"fft_img_time.npy\", np.array(fft_img_time))\n",
    "reg_img_time = np.load(\"reg_img_time.npy\")\n",
    "fft_img_time = np.load(\"fft_img_time.npy\")"
   ]
  },
  {
   "cell_type": "code",
   "execution_count": 13,
   "metadata": {},
   "outputs": [
    {
     "name": "stdout",
     "output_type": "stream",
     "text": [
      "[ 20  30  40  50  60  70  80  90 100 110 120 130 140 150 160 170 180 190\n",
      " 200 210 220 230 240 250]\n"
     ]
    }
   ],
   "source": [
    "fig, ax = plt.subplots()\n",
    "x_axis = np.arange(20, 256, 10)\n",
    "ax.plot(x_axis, reg_img_time, label=\"reg\")\n",
    "ax.plot(x_axis, fft_img_time, label=\"fft\")\n",
    "ax.set_xlabel(\"N\"), ax.set_ylabel(\"Execution time (s)\"), ax.set_title(\"Execution time for 100 executions for an image with NxN pixels\")\n",
    "plt.tight_layout()\n",
    "plt.legend()\n",
    "plt.show()\n"
   ]
  },
  {
   "cell_type": "code",
   "execution_count": 56,
   "metadata": {},
   "outputs": [],
   "source": [
    "fig, ax = plt.subplots(3, 2, figsize=(2.1, 3))\n",
    "ax[0, 0].imshow(img_reg_small,  cmap=\"gray\"), ax[0,0].set_title(\"Nested for, 50x50 img\", fontsize=5), ax[0, 0].axis(\"off\")\n",
    "ax[0, 1].imshow(img_reg_big,  cmap=\"gray\"), ax[0,1].set_title(\"Nested for, 150x150 img\", fontsize=5), ax[0, 1].axis(\"off\")\n",
    "ax[1, 0].imshow(img_fft_small, cmap=\"gray\"), ax[1,0].set_title(\"fft, 50x50 img\", fontsize=5), ax[1, 0].axis(\"off\")\n",
    "ax[1, 1].imshow(img_fft_big, cmap=\"gray\"), ax[1,1].set_title(\"fft, 150x150 img\", fontsize=5), ax[1, 1].axis(\"off\")\n",
    "ax[2, 0].imshow(diff_3, cmap=\"gray\"), ax[2,0].set_title(\"Difference, 50x50 img\", fontsize=5), ax[2, 0].axis(\"off\")\n",
    "ax[2, 1].imshow(diff_7, cmap=\"gray\"), ax[2,1].set_title(\"Difference, 150x150 img\", fontsize=5), ax[2, 1].axis(\"off\")\n",
    "plt.tight_layout()\n",
    "plt.show()"
   ]
  },
  {
   "cell_type": "markdown",
   "metadata": {},
   "source": [
    "2.2"
   ]
  },
  {
   "cell_type": "code",
   "execution_count": 5,
   "metadata": {},
   "outputs": [],
   "source": [
    "def waveAdd(image,a,v,w):\n",
    "    x, y = np.meshgrid(np.arange(image.shape[1]), np.arange(image.shape[0]))\n",
    "    cos_wave = a * np.cos(v * x + w * y)\n",
    "    img = image + cos_wave\n",
    "    return img\n",
    "\n",
    "\n",
    "\n",
    "def powerSpec(image):\n",
    "    ft = fft2(np.copy(image))\n",
    "    ftshift = fftshift(ft)\n",
    "    ps = ftshift**2\n",
    "    return np.abs(ps)"
   ]
  },
  {
   "cell_type": "code",
   "execution_count": 6,
   "metadata": {},
   "outputs": [],
   "source": [
    "A = imread(\"cameraman.tif\")\n",
    "a, v, w = 50, 0.5, 0.5\n",
    "B = waveAdd(A,a,v,w)\n",
    "\n",
    "fftA = fft2(A)\n",
    "fftA = fftshift(fftA)\n",
    "fftB = fft2(B)\n",
    "fftB = fftshift(fftB)\n",
    "ps_A = powerSpec(A)\n",
    "ps_B = powerSpec(B)\n",
    "\n",
    "plt.subplot(2,2,1)\n",
    "plt.imshow(A,cmap=\"gray\"),plt.axis(\"off\")\n",
    "plt.title(\"Original\")\n",
    "plt.subplot(2,2,2)\n",
    "plt.imshow(B,cmap=\"gray\"),plt.axis(\"off\")\n",
    "plt.title(\"Original + noise\")\n",
    "plt.subplot(2,2,3)\n",
    "plt.imshow(np.log10(1+ps_A),cmap=\"gray\"),plt.xticks([], []),plt.yticks([], [])\n",
    "plt.title(\"PS of original\")\n",
    "plt.subplot(2,2,4)\n",
    "plt.imshow(np.log10(1+ps_B),cmap=\"gray\"),plt.xticks([], []),plt.yticks([], [])\n",
    "plt.title(\"PS + noise\")\n",
    "plt.show()"
   ]
  },
  {
   "cell_type": "code",
   "execution_count": null,
   "metadata": {},
   "outputs": [],
   "source": [
    "#107, 107\n",
    "#148, 148"
   ]
  },
  {
   "cell_type": "code",
   "execution_count": 245,
   "metadata": {},
   "outputs": [],
   "source": [
    "def filterFunc(fft,pixel1,pixel2):\n",
    "    N = fftB.shape[0]\n",
    "    x,y = np.meshgrid(np.arange(N), np.arange(N))\n",
    "    a1, a2 = 0.005, 0.005\n",
    "    F1 = 1 - np.exp(-a1*(x-pixel1[0])**2-a2*(y-pixel1[1])**2)\n",
    "    F2 = 1 - np.exp(-a1*(x-pixel2[0])**2-a2*(y-pixel2[1])**2)\n",
    "    Z = F1*F2\n",
    "    imgFs = fft*Z\n",
    "    imgF = ifftshift(imgFs)\n",
    "    imgF = ifft2(imgF)\n",
    "    return imgF, Z"
   ]
  },
  {
   "cell_type": "code",
   "execution_count": 246,
   "metadata": {},
   "outputs": [],
   "source": [
    "pixel1 = [107,107]\n",
    "pixel2 = [148,148]\n",
    "imgF, Z = filterFunc(fftB,pixel1,pixel2)\n",
    "\n",
    "plt.subplot(2,2,1)\n",
    "plt.imshow(B,cmap=\"gray\"),plt.axis(\"off\")\n",
    "plt.title(\"Original + noise\")\n",
    "plt.subplot(2,2,2)\n",
    "plt.imshow(np.real(imgF),cmap=\"gray\"),plt.axis(\"off\")\n",
    "plt.title(\"Filtered image\")\n",
    "plt.subplot(2,2,3)\n",
    "plt.imshow(np.log10(1+np.abs(fftB)),cmap=\"gray\"),plt.xticks([], []),plt.yticks([], [])\n",
    "plt.title(\"FFT + noise\")\n",
    "plt.subplot(2,2,4)\n",
    "plt.imshow(Z,cmap=\"gray\"),plt.xticks([], []),plt.yticks([], [])\n",
    "plt.title(\"Filter\")\n",
    "plt.show()"
   ]
  },
  {
   "cell_type": "code",
   "execution_count": null,
   "metadata": {},
   "outputs": [],
   "source": []
  }
 ],
 "metadata": {
  "kernelspec": {
   "display_name": "py310",
   "language": "python",
   "name": "python3"
  },
  "language_info": {
   "codemirror_mode": {
    "name": "ipython",
    "version": 3
   },
   "file_extension": ".py",
   "mimetype": "text/x-python",
   "name": "python",
   "nbconvert_exporter": "python",
   "pygments_lexer": "ipython3",
   "version": "3.10.6"
  },
  "orig_nbformat": 4,
  "vscode": {
   "interpreter": {
    "hash": "f6c59e9a90901d54f4b9f5796ffe87a4c182513f672a519035aa940c71554467"
   }
  }
 },
 "nbformat": 4,
 "nbformat_minor": 2
}
