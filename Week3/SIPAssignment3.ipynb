{
 "cells": [
  {
   "cell_type": "code",
   "execution_count": 1,
   "metadata": {},
   "outputs": [],
   "source": [
    "%matplotlib qt\n",
    "from matplotlib import pyplot as plt\n",
    "from numpy.random import rand\n",
    "import skimage as sm\n",
    "from skimage.io import imread, imsave\n",
    "from skimage.util import img_as_float, random_noise\n",
    "from skimage.transform import rotate\n",
    "from skimage.filters import gaussian as ski_gaussian\n",
    "from pylab import ginput\n",
    "from scipy.signal import convolve, convolve2d, correlate2d\n",
    "from scipy.signal import  gaussian as scipy_gaussian\n",
    "from scipy.fft import fft2, fftshift, ifft2, ifftshift\n",
    "import numpy as np\n",
    "import os\n",
    "import timeit\n",
    "\n",
    "os.chdir(\"../Mats\")"
   ]
  },
  {
   "cell_type": "code",
   "execution_count": 78,
   "metadata": {},
   "outputs": [],
   "source": [
    "plt.rcParams['figure.dpi'] = 300\n",
    "plt.rcParams['savefig.dpi'] = 300"
   ]
  },
  {
   "cell_type": "markdown",
   "metadata": {},
   "source": [
    "# 2"
   ]
  },
  {
   "cell_type": "markdown",
   "metadata": {},
   "source": [
    "2.1"
   ]
  },
  {
   "cell_type": "code",
   "execution_count": null,
   "metadata": {},
   "outputs": [],
   "source": []
  },
  {
   "cell_type": "markdown",
   "metadata": {},
   "source": [
    "2.2"
   ]
  },
  {
   "cell_type": "code",
   "execution_count": 226,
   "metadata": {},
   "outputs": [],
   "source": [
    "def waveAdd(image,a,v,w):\n",
    "    x, y = np.meshgrid(np.arange(image.shape[1]), np.arange(image.shape[0]))\n",
    "    cos_wave = a * np.cos(v * x + w * y)\n",
    "    img = image + cos_wave\n",
    "    return img\n",
    "\n",
    "\n",
    "\n",
    "def powerSpec(image):\n",
    "    ft = fft2(np.copy(image))\n",
    "    ftshift = fftshift(ft)\n",
    "    ps = ftshift**2\n",
    "    return np.abs(ps)"
   ]
  },
  {
   "cell_type": "code",
   "execution_count": 242,
   "metadata": {},
   "outputs": [],
   "source": [
    "A = imread(\"cameraman.tif\")\n",
    "a, v, w = 50, 0.5, 0.5\n",
    "B = waveAdd(A,a,v,w)\n",
    "\n",
    "fftA = fft2(A)\n",
    "fftA = fftshift(fftA)\n",
    "fftB = fft2(B)\n",
    "fftB = fftshift(fftB)\n",
    "ps_A = powerSpec(A)\n",
    "ps_B = powerSpec(B)\n",
    "\n",
    "plt.subplot(2,2,1)\n",
    "plt.imshow(A,cmap=\"gray\"),plt.axis(\"off\")\n",
    "plt.title(\"Original\")\n",
    "plt.subplot(2,2,2)\n",
    "plt.imshow(B,cmap=\"gray\"),plt.axis(\"off\")\n",
    "plt.title(\"Original + noise\")\n",
    "plt.subplot(2,2,3)\n",
    "plt.imshow(np.log10(1+ps_A),cmap=\"gray\"),plt.xticks([], []),plt.yticks([], [])\n",
    "plt.title(\"PS of original\")\n",
    "plt.subplot(2,2,4)\n",
    "plt.imshow(np.log10(1+ps_B),cmap=\"gray\"),plt.xticks([], []),plt.yticks([], [])\n",
    "plt.title(\"PS + noise\")\n",
    "plt.show()"
   ]
  },
  {
   "cell_type": "code",
   "execution_count": null,
   "metadata": {},
   "outputs": [],
   "source": [
    "#107, 107\n",
    "#148, 148"
   ]
  },
  {
   "cell_type": "code",
   "execution_count": 245,
   "metadata": {},
   "outputs": [],
   "source": [
    "def filterFunc(fft,pixel1,pixel2):\n",
    "    N = fftB.shape[0]\n",
    "    x,y = np.meshgrid(np.arange(N), np.arange(N))\n",
    "    a1, a2 = 0.005, 0.005\n",
    "    F1 = 1 - np.exp(-a1*(x-pixel1[0])**2-a2*(y-pixel1[1])**2)\n",
    "    F2 = 1 - np.exp(-a1*(x-pixel2[0])**2-a2*(y-pixel2[1])**2)\n",
    "    Z = F1*F2\n",
    "    imgFs = fft*Z\n",
    "    imgF = ifftshift(imgFs)\n",
    "    imgF = ifft2(imgF)\n",
    "    return imgF, Z"
   ]
  },
  {
   "cell_type": "code",
   "execution_count": 246,
   "metadata": {},
   "outputs": [],
   "source": [
    "pixel1 = [107,107]\n",
    "pixel2 = [148,148]\n",
    "imgF, Z = filterFunc(fftB,pixel1,pixel2)\n",
    "\n",
    "plt.subplot(2,2,1)\n",
    "plt.imshow(B,cmap=\"gray\"),plt.axis(\"off\")\n",
    "plt.title(\"Original + noise\")\n",
    "plt.subplot(2,2,2)\n",
    "plt.imshow(np.real(imgF),cmap=\"gray\"),plt.axis(\"off\")\n",
    "plt.title(\"Filtered image\")\n",
    "plt.subplot(2,2,3)\n",
    "plt.imshow(np.log10(1+np.abs(fftB)),cmap=\"gray\"),plt.xticks([], []),plt.yticks([], [])\n",
    "plt.title(\"FFT + noise\")\n",
    "plt.subplot(2,2,4)\n",
    "plt.imshow(Z,cmap=\"gray\"),plt.xticks([], []),plt.yticks([], [])\n",
    "plt.title(\"Filter\")\n",
    "plt.show()"
   ]
  },
  {
   "cell_type": "code",
   "execution_count": null,
   "metadata": {},
   "outputs": [],
   "source": []
  }
 ],
 "metadata": {
  "kernelspec": {
   "display_name": "ISP",
   "language": "python",
   "name": "python3"
  },
  "language_info": {
   "codemirror_mode": {
    "name": "ipython",
    "version": 3
   },
   "file_extension": ".py",
   "mimetype": "text/x-python",
   "name": "python",
   "nbconvert_exporter": "python",
   "pygments_lexer": "ipython3",
   "version": "3.10.9"
  },
  "orig_nbformat": 4,
  "vscode": {
   "interpreter": {
    "hash": "ec2cab1a05e3ec8eaefb3e4ce76e6348cc4fe9980ee22546d6543ad5f462b7a9"
   }
  }
 },
 "nbformat": 4,
 "nbformat_minor": 2
}
