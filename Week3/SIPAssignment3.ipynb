{
 "cells": [
  {
   "cell_type": "code",
   "execution_count": 2,
   "metadata": {},
   "outputs": [],
   "source": [
    "%matplotlib qt\n",
    "from matplotlib import pyplot as plt\n",
    "from numpy.random import rand\n",
    "import skimage as sm\n",
    "from skimage.io import imread, imsave\n",
    "from skimage.util import img_as_float, random_noise\n",
    "from skimage.transform import rotate\n",
    "from skimage.filters import gaussian as ski_gaussian\n",
    "from pylab import ginput\n",
    "from scipy.signal import convolve, convolve2d, correlate2d, fftconvolve\n",
    "from scipy.signal import  gaussian as scipy_gaussian\n",
    "from scipy.fft import fft2, fftshift, ifft2, ifftshift\n",
    "import numpy as np\n",
    "import os\n",
    "import timeit\n",
    "\n",
    "os.chdir(\"../Mats\")"
   ]
  },
  {
   "cell_type": "code",
   "execution_count": 3,
   "metadata": {},
   "outputs": [],
   "source": [
    "plt.rcParams['figure.dpi'] = 300\n",
    "plt.rcParams['savefig.dpi'] = 300"
   ]
  },
  {
   "cell_type": "markdown",
   "metadata": {},
   "source": [
    "# 2"
   ]
  },
  {
   "cell_type": "markdown",
   "metadata": {},
   "source": [
    "2.1"
   ]
  },
  {
   "cell_type": "code",
   "execution_count": 128,
   "metadata": {},
   "outputs": [
    {
     "name": "stdout",
     "output_type": "stream",
     "text": [
      "<class 'numpy.ndarray'>\n",
      "0.012345679012345678\n",
      "[[119.72839506 121.55555556 122.43209877 ... 117.59259259 119.24691358\n",
      "  118.45679012]\n",
      " [122.82716049 124.87654321 125.88888889 ... 121.5308642  122.88888889\n",
      "  122.07407407]\n",
      " [126.45679012 128.39506173 129.83950617 ... 124.82716049 126.28395062\n",
      "  125.58024691]\n",
      " ...\n",
      " [115.49382716 116.67901235 117.2962963  ... 114.58024691 115.75308642\n",
      "  115.13580247]\n",
      " [116.22222222 117.38271605 118.17283951 ... 115.43209877 116.69135802\n",
      "  116.        ]\n",
      " [117.12345679 118.61728395 119.7037037  ... 114.85185185 116.48148148\n",
      "  115.9382716 ]]\n"
     ]
    },
    {
     "data": {
      "text/plain": [
       "' for i in range(2, 16):\\n    kernel = mean_kernel(i)\\n    reg_kernel_time.append(timeit.timeit(lambda: apply_filter(A, kernel), number=10))\\n    fft_kernel_time.append(timeit.timeit(lambda: fft_convolve(A, kernel), number=10))\\n    print(i) '"
      ]
     },
     "execution_count": 128,
     "metadata": {},
     "output_type": "execute_result"
    }
   ],
   "source": [
    "def apply_filter(image, filter):\n",
    "    cop_image = np.copy(image)\n",
    "    out_image = np.zeros(image.shape)\n",
    "    row = (filter.shape[0]-1)//2\n",
    "    column = (filter.shape[1]-1)//2\n",
    "    for i in range(cop_image.shape[0]-filter.shape[0]):\n",
    "        for j in range(cop_image.shape[1]-filter.shape[1]):\n",
    "            out_image[i+row,j+column] = np.sum(cop_image[i:i+filter.shape[0],j:j+filter.shape[1]]*filter)\n",
    "    return out_image\n",
    "\n",
    "\n",
    "def fft_convolve(image, filter):\n",
    "    row = (filter.shape[0]-1)//2\n",
    "    column = (filter.shape[1]-1)//2\n",
    "    cop_image = np.copy(image)\n",
    "    padded_filter = np.pad(filter, ((0, (cop_image.shape[0]-filter.shape[0])), (0, (cop_image.shape[1]-filter.shape[1]))), 'constant')\n",
    "    padded_filter = np.roll(padded_filter, cop_image.shape[0]-filter.shape[0]//2, axis=0)\n",
    "    padded_filter = np.roll(padded_filter, cop_image.shape[1]-filter.shape[1]//2, axis=1)\n",
    "    print(padded_filter[0,0])\n",
    "    return np.real(ifft2(fft2(cop_image)*fft2(padded_filter)))\n",
    "\n",
    "def mean_kernel(N):\n",
    "    return np.ones((N, N))/N**2\n",
    "\n",
    "A = imread(\"cameraman.tif\")\n",
    "kernels = [mean_kernel(5), mean_kernel(9)]\n",
    "print(type(fft2(A)))\n",
    "\n",
    "img_reg_3 = fft_convolve(A, kernels[1])\n",
    "img_fft_3 = fftconvolve(A, kernels[1], mode=\"same\")\n",
    "img_reg_7 = apply_filter(A, kernels[1])\n",
    "img_fft_7 = convolve2d(A, kernels[1], mode=\"same\")\n",
    "diff_3 = np.abs(img_fft_3-img_reg_3)\n",
    "diff_7 = np.abs(img_fft_7-img_reg_7)\n",
    "print(img_reg_3)\n",
    "reg_kernel_time = []\n",
    "fft_kernel_time = []\n",
    "\n",
    "\"\"\" for i in range(2, 16):\n",
    "    kernel = mean_kernel(i)\n",
    "    reg_kernel_time.append(timeit.timeit(lambda: apply_filter(A, kernel), number=10))\n",
    "    fft_kernel_time.append(timeit.timeit(lambda: fft_convolve(A, kernel), number=10))\n",
    "    print(i) \"\"\"\n"
   ]
  },
  {
   "cell_type": "code",
   "execution_count": null,
   "metadata": {},
   "outputs": [
    {
     "name": "stdout",
     "output_type": "stream",
     "text": [
      "(256, 256)\n"
     ]
    },
    {
     "ename": "NameError",
     "evalue": "name 'fft' is not defined",
     "output_type": "error",
     "traceback": [
      "\u001b[1;31m---------------------------------------------------------------------------\u001b[0m\n",
      "\u001b[1;31mNameError\u001b[0m                                 Traceback (most recent call last)\n",
      "Cell \u001b[1;32mIn[47], line 33\u001b[0m\n",
      "\u001b[0;32m     31\u001b[0m img_reg_3 \u001b[39m=\u001b[39m fft_convolve(A, kernels[\u001b[39m1\u001b[39m])\n",
      "\u001b[0;32m     32\u001b[0m img_fft_3 \u001b[39m=\u001b[39m convolve2d(A, kernels[\u001b[39m1\u001b[39m], boundary\u001b[39m=\u001b[39m\u001b[39m\"\u001b[39m\u001b[39mwrap\u001b[39m\u001b[39m\"\u001b[39m,mode\u001b[39m=\u001b[39m\u001b[39m\"\u001b[39m\u001b[39msame\u001b[39m\u001b[39m\"\u001b[39m)\n",
      "\u001b[1;32m---> 33\u001b[0m img_fft_3 \u001b[39m=\u001b[39m fft(A, kernels[\u001b[39m1\u001b[39m], boundary\u001b[39m=\u001b[39m\u001b[39m\"\u001b[39m\u001b[39mwrap\u001b[39m\u001b[39m\"\u001b[39m,mode\u001b[39m=\u001b[39m\u001b[39m\"\u001b[39m\u001b[39msame\u001b[39m\u001b[39m\"\u001b[39m)\n",
      "\u001b[0;32m     34\u001b[0m img_reg_7 \u001b[39m=\u001b[39m apply_filter(A, kernels[\u001b[39m1\u001b[39m])\n",
      "\u001b[0;32m     35\u001b[0m img_fft_7 \u001b[39m=\u001b[39m convolve2d(A, kernels[\u001b[39m1\u001b[39m], mode\u001b[39m=\u001b[39m\u001b[39m\"\u001b[39m\u001b[39msame\u001b[39m\u001b[39m\"\u001b[39m)\n",
      "\n",
      "\u001b[1;31mNameError\u001b[0m: name 'fft' is not defined"
     ]
    }
   ],
   "source": [
    "#jakob implementation\n",
    "def apply_filter(image, filter):\n",
    "    cop_image = np.copy(image)\n",
    "    out_image = np.zeros(image.shape)\n",
    "    row = (filter.shape[0]-1)//2\n",
    "    column = (filter.shape[1]-1)//2\n",
    "    for i in range(cop_image.shape[0]-filter.shape[0]):\n",
    "        for j in range(cop_image.shape[1]-filter.shape[1]):\n",
    "            out_image[i+row,j+column] = np.sum(cop_image[i:i+filter.shape[0],j:j+filter.shape[1]]*filter)\n",
    "    return out_image\n",
    "\n",
    "\n",
    "def fft_convolve(image, filter):\n",
    "    cop_image = np.copy(image)\n",
    "    prod = fft2(image, image.shape) * fft2(filter, image.shape)\n",
    "    ifftprod = ifft2(prod).real\n",
    "    convImg = np.roll(ifftprod, (-((filter.shape[0] - 1)//2),\n",
    "                                 -((filter.shape[1] - 1)//2)), axis=(0, 1))\n",
    "    return convImg\n",
    "\n",
    "\n",
    "def mean_kernel(N):\n",
    "    return np.ones((N, N))/N**2\n",
    "\n",
    "A = imread(\"cameraman.tif\")\n",
    "kernels = [mean_kernel(5), mean_kernel(7)]\n",
    "print(A.shape)\n",
    "\n",
    "img_reg_3 = fft_convolve(A, kernels[1])\n",
    "img_fft_3 = convolve2d(A, kernels[1], boundary=\"wrap\",mode=\"same\") #Changed this to be a wrap boundary, it still does fft now just cyclic which matches our implementeation\n",
    "img_reg_7 = apply_filter(A, kernels[1])\n",
    "img_fft_7 = convolve2d(A, kernels[1], mode=\"same\")\n",
    "diff_3 = np.abs(img_fft_3-img_reg_3)\n",
    "diff_7 = np.abs(img_fft_7-img_reg_7)\n",
    "\n",
    "reg_kernel_time = []\n",
    "fft_kernel_time = []\n",
    "\n",
    "\"\"\" for i in range(2, 16):\n",
    "    kernel = mean_kernel(i)\n",
    "    reg_kernel_time.append(timeit.timeit(lambda: apply_filter(A, kernel), number=10))\n",
    "    fft_kernel_time.append(timeit.timeit(lambda: fft_convolve(A, kernel), number=10))\n",
    "    print(i) \"\"\"\n"
   ]
  },
  {
   "cell_type": "code",
   "execution_count": null,
   "metadata": {},
   "outputs": [],
   "source": [
    "# np.save(\"reg_kernel_time.npy\", np.array(reg_kernel_time))\n",
    "# np.save(\"fft_kernel_time.npy\", np.array(fft_kernel_time))\n",
    "reg_kernel_time = np.load(\"reg_kernel_time.npy\")\n",
    "fft_kernel_time = np.load(\"fft_kernel_time.npy\")"
   ]
  },
  {
   "cell_type": "code",
   "execution_count": 9,
   "metadata": {},
   "outputs": [],
   "source": [
    "fig, ax = plt.subplots()\n",
    "x_axis = np.arange(2, 16)\n",
    "ax.plot(x_axis, reg_kernel_time, label=\"reg\")\n",
    "ax.plot(x_axis, fft_kernel_time, label=\"fft\")\n",
    "ax.set_xlabel(\"N\"), ax.set_ylabel(\"Execution time (s)\"), ax.set_title(\"Execution time for 100 executions for a filter with kernel NxN\")\n",
    "plt.tight_layout()\n",
    "plt.legend()\n",
    "plt.show()"
   ]
  },
  {
   "cell_type": "code",
   "execution_count": 129,
   "metadata": {},
   "outputs": [],
   "source": [
    "fig, ax = plt.subplots(3, 2)\n",
    "ax[0, 0].imshow(img_reg_3, cmap=\"gray\"), ax[0,0].set_title(\"own fft\"), ax[0, 0].axis(\"off\")\n",
    "ax[0, 1].imshow(img_reg_7, cmap=\"gray\"), ax[0,1].set_title(\"own nested\"), ax[0, 1].axis(\"off\")\n",
    "ax[1, 0].imshow(img_fft_3, cmap=\"gray\"), ax[1,0].set_title(\"scipy fft\"), ax[1, 0].axis(\"off\")\n",
    "ax[1, 1].imshow(img_fft_7, cmap=\"gray\"), ax[1,1].set_title(\"scipy convolve\"), ax[1, 1].axis(\"off\")\n",
    "ax[2, 0].imshow(diff_3, vmin=0, vmax=255, cmap=\"gray\"), ax[2,0].set_title(\"Difference, fft\"), ax[2, 0].axis(\"off\")\n",
    "ax[2, 1].imshow(diff_7, vmin=0, vmax=255, cmap=\"gray\"), ax[2,1].set_title(\"Difference, convolve\"), ax[2, 1].axis(\"off\")\n",
    "plt.tight_layout()\n",
    "plt.show()"
   ]
  },
  {
   "cell_type": "code",
   "execution_count": 21,
   "metadata": {},
   "outputs": [
    {
     "data": {
      "text/plain": [
       "<matplotlib.image.AxesImage at 0x1a3ae9fd810>"
      ]
     },
     "execution_count": 21,
     "metadata": {},
     "output_type": "execute_result"
    }
   ],
   "source": [
    "plt.imshow(A, cmap=\"gray\")"
   ]
  },
  {
   "cell_type": "code",
   "execution_count": 74,
   "metadata": {},
   "outputs": [
    {
     "ename": "KeyboardInterrupt",
     "evalue": "",
     "output_type": "error",
     "traceback": [
      "\u001b[1;31m---------------------------------------------------------------------------\u001b[0m",
      "\u001b[1;31mKeyboardInterrupt\u001b[0m                         Traceback (most recent call last)",
      "Cell \u001b[1;32mIn [74], line 15\u001b[0m\n\u001b[0;32m     13\u001b[0m \u001b[39mfor\u001b[39;00m i \u001b[39min\u001b[39;00m \u001b[39mrange\u001b[39m(\u001b[39m2\u001b[39m, \u001b[39m16\u001b[39m):\n\u001b[0;32m     14\u001b[0m     kernel \u001b[39m=\u001b[39m mean_kernel(i)\n\u001b[1;32m---> 15\u001b[0m     reg_kernel_time\u001b[39m.\u001b[39mappend(timeit\u001b[39m.\u001b[39;49mtimeit(\u001b[39mlambda\u001b[39;49;00m: apply_filter(A, kernel), number\u001b[39m=\u001b[39;49m\u001b[39m100\u001b[39;49m))\n\u001b[0;32m     16\u001b[0m     fft_kernel_time\u001b[39m.\u001b[39mappend(timeit\u001b[39m.\u001b[39mtimeit(\u001b[39mlambda\u001b[39;00m: fft_convolve(A, kernel), number\u001b[39m=\u001b[39m\u001b[39m100\u001b[39m))\n\u001b[0;32m     17\u001b[0m     \u001b[39mprint\u001b[39m(i)\n",
      "File \u001b[1;32md:\\Anaconda\\AnacondaInstall\\envs\\py310\\lib\\timeit.py:234\u001b[0m, in \u001b[0;36mtimeit\u001b[1;34m(stmt, setup, timer, number, globals)\u001b[0m\n\u001b[0;32m    231\u001b[0m \u001b[39mdef\u001b[39;00m \u001b[39mtimeit\u001b[39m(stmt\u001b[39m=\u001b[39m\u001b[39m\"\u001b[39m\u001b[39mpass\u001b[39m\u001b[39m\"\u001b[39m, setup\u001b[39m=\u001b[39m\u001b[39m\"\u001b[39m\u001b[39mpass\u001b[39m\u001b[39m\"\u001b[39m, timer\u001b[39m=\u001b[39mdefault_timer,\n\u001b[0;32m    232\u001b[0m            number\u001b[39m=\u001b[39mdefault_number, \u001b[39mglobals\u001b[39m\u001b[39m=\u001b[39m\u001b[39mNone\u001b[39;00m):\n\u001b[0;32m    233\u001b[0m     \u001b[39m\"\"\"Convenience function to create Timer object and call timeit method.\"\"\"\u001b[39;00m\n\u001b[1;32m--> 234\u001b[0m     \u001b[39mreturn\u001b[39;00m Timer(stmt, setup, timer, \u001b[39mglobals\u001b[39;49m)\u001b[39m.\u001b[39;49mtimeit(number)\n",
      "File \u001b[1;32md:\\Anaconda\\AnacondaInstall\\envs\\py310\\lib\\timeit.py:178\u001b[0m, in \u001b[0;36mTimer.timeit\u001b[1;34m(self, number)\u001b[0m\n\u001b[0;32m    176\u001b[0m gc\u001b[39m.\u001b[39mdisable()\n\u001b[0;32m    177\u001b[0m \u001b[39mtry\u001b[39;00m:\n\u001b[1;32m--> 178\u001b[0m     timing \u001b[39m=\u001b[39m \u001b[39mself\u001b[39;49m\u001b[39m.\u001b[39;49minner(it, \u001b[39mself\u001b[39;49m\u001b[39m.\u001b[39;49mtimer)\n\u001b[0;32m    179\u001b[0m \u001b[39mfinally\u001b[39;00m:\n\u001b[0;32m    180\u001b[0m     \u001b[39mif\u001b[39;00m gcold:\n",
      "File \u001b[1;32m<timeit-src>:6\u001b[0m, in \u001b[0;36minner\u001b[1;34m(_it, _timer, _stmt)\u001b[0m\n",
      "Cell \u001b[1;32mIn [74], line 15\u001b[0m, in \u001b[0;36m<lambda>\u001b[1;34m()\u001b[0m\n\u001b[0;32m     13\u001b[0m \u001b[39mfor\u001b[39;00m i \u001b[39min\u001b[39;00m \u001b[39mrange\u001b[39m(\u001b[39m2\u001b[39m, \u001b[39m16\u001b[39m):\n\u001b[0;32m     14\u001b[0m     kernel \u001b[39m=\u001b[39m mean_kernel(i)\n\u001b[1;32m---> 15\u001b[0m     reg_kernel_time\u001b[39m.\u001b[39mappend(timeit\u001b[39m.\u001b[39mtimeit(\u001b[39mlambda\u001b[39;00m: apply_filter(A, kernel), number\u001b[39m=\u001b[39m\u001b[39m100\u001b[39m))\n\u001b[0;32m     16\u001b[0m     fft_kernel_time\u001b[39m.\u001b[39mappend(timeit\u001b[39m.\u001b[39mtimeit(\u001b[39mlambda\u001b[39;00m: fft_convolve(A, kernel), number\u001b[39m=\u001b[39m\u001b[39m100\u001b[39m))\n\u001b[0;32m     17\u001b[0m     \u001b[39mprint\u001b[39m(i)\n",
      "Cell \u001b[1;32mIn [72], line 8\u001b[0m, in \u001b[0;36mapply_filter\u001b[1;34m(image, filter)\u001b[0m\n\u001b[0;32m      6\u001b[0m \u001b[39mfor\u001b[39;00m i \u001b[39min\u001b[39;00m \u001b[39mrange\u001b[39m(cop_image\u001b[39m.\u001b[39mshape[\u001b[39m0\u001b[39m]\u001b[39m-\u001b[39m\u001b[39mfilter\u001b[39m\u001b[39m.\u001b[39mshape[\u001b[39m0\u001b[39m]):\n\u001b[0;32m      7\u001b[0m     \u001b[39mfor\u001b[39;00m j \u001b[39min\u001b[39;00m \u001b[39mrange\u001b[39m(cop_image\u001b[39m.\u001b[39mshape[\u001b[39m1\u001b[39m]\u001b[39m-\u001b[39m\u001b[39mfilter\u001b[39m\u001b[39m.\u001b[39mshape[\u001b[39m1\u001b[39m]):\n\u001b[1;32m----> 8\u001b[0m         out_image[i\u001b[39m+\u001b[39mrow,j\u001b[39m+\u001b[39mcolumn] \u001b[39m=\u001b[39m np\u001b[39m.\u001b[39;49msum(cop_image[i:i\u001b[39m+\u001b[39;49m\u001b[39mfilter\u001b[39;49m\u001b[39m.\u001b[39;49mshape[\u001b[39m0\u001b[39;49m],j:j\u001b[39m+\u001b[39;49m\u001b[39mfilter\u001b[39;49m\u001b[39m.\u001b[39;49mshape[\u001b[39m1\u001b[39;49m]]\u001b[39m*\u001b[39;49m\u001b[39mfilter\u001b[39;49m)\n\u001b[0;32m      9\u001b[0m \u001b[39mreturn\u001b[39;00m out_image\n",
      "File \u001b[1;32m<__array_function__ internals>:179\u001b[0m, in \u001b[0;36msum\u001b[1;34m(*args, **kwargs)\u001b[0m\n",
      "File \u001b[1;32md:\\Anaconda\\AnacondaInstall\\envs\\py310\\lib\\site-packages\\numpy\\core\\fromnumeric.py:2157\u001b[0m, in \u001b[0;36m_sum_dispatcher\u001b[1;34m(a, axis, dtype, out, keepdims, initial, where)\u001b[0m\n\u001b[0;32m   2087\u001b[0m     \u001b[39m\"\"\"\u001b[39;00m\n\u001b[0;32m   2088\u001b[0m \u001b[39m    Clip (limit) the values in an array.\u001b[39;00m\n\u001b[0;32m   2089\u001b[0m \n\u001b[1;32m   (...)\u001b[0m\n\u001b[0;32m   2152\u001b[0m \n\u001b[0;32m   2153\u001b[0m \u001b[39m    \"\"\"\u001b[39;00m\n\u001b[0;32m   2154\u001b[0m     \u001b[39mreturn\u001b[39;00m _wrapfunc(a, \u001b[39m'\u001b[39m\u001b[39mclip\u001b[39m\u001b[39m'\u001b[39m, a_min, a_max, out\u001b[39m=\u001b[39mout, \u001b[39m*\u001b[39m\u001b[39m*\u001b[39mkwargs)\n\u001b[1;32m-> 2157\u001b[0m \u001b[39mdef\u001b[39;00m \u001b[39m_sum_dispatcher\u001b[39m(a, axis\u001b[39m=\u001b[39m\u001b[39mNone\u001b[39;00m, dtype\u001b[39m=\u001b[39m\u001b[39mNone\u001b[39;00m, out\u001b[39m=\u001b[39m\u001b[39mNone\u001b[39;00m, keepdims\u001b[39m=\u001b[39m\u001b[39mNone\u001b[39;00m,\n\u001b[0;32m   2158\u001b[0m                     initial\u001b[39m=\u001b[39m\u001b[39mNone\u001b[39;00m, where\u001b[39m=\u001b[39m\u001b[39mNone\u001b[39;00m):\n\u001b[0;32m   2159\u001b[0m     \u001b[39mreturn\u001b[39;00m (a, out)\n\u001b[0;32m   2162\u001b[0m \u001b[39m@array_function_dispatch\u001b[39m(_sum_dispatcher)\n\u001b[0;32m   2163\u001b[0m \u001b[39mdef\u001b[39;00m \u001b[39msum\u001b[39m(a, axis\u001b[39m=\u001b[39m\u001b[39mNone\u001b[39;00m, dtype\u001b[39m=\u001b[39m\u001b[39mNone\u001b[39;00m, out\u001b[39m=\u001b[39m\u001b[39mNone\u001b[39;00m, keepdims\u001b[39m=\u001b[39mnp\u001b[39m.\u001b[39m_NoValue,\n\u001b[0;32m   2164\u001b[0m         initial\u001b[39m=\u001b[39mnp\u001b[39m.\u001b[39m_NoValue, where\u001b[39m=\u001b[39mnp\u001b[39m.\u001b[39m_NoValue):\n",
      "\u001b[1;31mKeyboardInterrupt\u001b[0m: "
     ]
    }
   ],
   "source": [
    "kernel = mean_kernel(3)\n",
    "img = []\n",
    "img_reg_3 = apply_filter(A, kernels[0])\n",
    "img_fft_3 = fft_convolve(A, kernels[0])\n",
    "img_reg_7 = apply_filter(A, kernels[1])\n",
    "img_fft_7 = fft_convolve(A, kernels[1])\n",
    "diff_3 = np.abs(img_fft_3-img_reg_3)\n",
    "diff_7 = np.abs(img_fft_7-img_reg_7)\n",
    "\n",
    "reg_kernel_time = []\n",
    "fft_kernel_time = []\n",
    "\n",
    "for i in range(2, 16):\n",
    "    kernel = mean_kernel(i)\n",
    "    reg_kernel_time.append(timeit.timeit(lambda: apply_filter(A, kernel), number=100))\n",
    "    fft_kernel_time.append(timeit.timeit(lambda: fft_convolve(A, kernel), number=100))\n",
    "    print(i)"
   ]
  },
  {
   "cell_type": "code",
   "execution_count": 58,
   "metadata": {},
   "outputs": [],
   "source": [
    "A = imread(\"cameraman.tif\")\n",
    "\n",
    "kernels = [np.arange(1, 2**2+1).reshape((2,2)),np.arange(1, 3**2+1).reshape((3,3))]\n",
    "\n",
    "img = convolve2d(A,kernels[0])\n",
    "plt.subplot(2,2,1)\n",
    "plt.imshow(img,cmap=\"gray\")\n",
    "img = convolve2d(A,kernels[1])\n",
    "plt.subplot(2,2,2)\n",
    "plt.imshow(img,cmap=\"gray\")\n",
    "img = fft_convolve(A,kernels[0])\n",
    "plt.subplot(2,2,3)\n",
    "plt.imshow(img,cmap=\"gray\")\n",
    "img = fft_convolve(A,kernels[1])\n",
    "plt.subplot(2,2,4)\n",
    "plt.imshow(img,cmap=\"gray\")\n",
    "plt.show()"
   ]
  },
  {
   "cell_type": "code",
   "execution_count": null,
   "metadata": {},
   "outputs": [
    {
     "name": "stdout",
     "output_type": "stream",
     "text": [
      "Nested For Loop: Image size (256, 256), Kernel size (2, 2), Execution time: 0.5441541300002427 seconds\n",
      "Nested For Loop: Image size (256, 256), Kernel size (3, 3), Execution time: 0.5035541500001273 seconds\n",
      "FFT: Image size (256, 256), Kernel size (2, 2), Execution time: 0.004148110000096494 seconds\n",
      "FFT: Image size (256, 512), Kernel size (2, 2), Execution time: 0.00927501999976812 seconds\n",
      "FFT: Image size (512, 256), Kernel size (2, 2), Execution time: 0.008910060000198427 seconds\n"
     ]
    }
   ],
   "source": [
    "A = imread(\"cameraman.tif\")\n",
    "\n",
    "kernels = [np.arange(1, 2**2+1).reshape((2,2)),np.arange(1, 3**2+1).reshape((3,3))]\n",
    "\n",
    "for i, kernel in enumerate(kernels):\n",
    "    time = timeit.timeit(lambda: apply_filter(A, kernel), number=10)\n",
    "    print(f\"Nested For Loop: Image size {A.shape}, Kernel size {kernel.shape}, Execution time: {time/10} seconds\")\n",
    "\n",
    "\n",
    "images = [A,resize(A,(256,256*2)),resize(A,(256*2,256))]\n",
    "\n",
    "# Measure execution times for FFT implementation\n",
    "for i, image in enumerate(images):\n",
    "    kernel = kernels[0]\n",
    "    time = timeit.timeit(lambda: fft_convolve(image, kernel), number=10)\n",
    "    print(f\"FFT: Image size {image.shape}, Kernel size {kernel.shape}, Execution time: {time/10} seconds\")"
   ]
  },
  {
   "cell_type": "code",
   "execution_count": null,
   "metadata": {},
   "outputs": [
    {
     "data": {
      "text/plain": [
       "<matplotlib.image.AxesImage at 0x2299bc73fa0>"
      ]
     },
     "metadata": {},
     "output_type": "display_data"
    }
   ],
   "source": [
    "\n",
    "\n",
    "scipyA = fftconvolve(A,kernels[1])\n",
    "ourA = fft_convolve(A,kernels[1])\n",
    "\n",
    "plt.subplot(2,1,1)\n",
    "plt.imshow(scipyA,cmap=\"gray\")\n",
    "plt.subplot(2,1,2)\n",
    "plt.imshow(ourA,cmap=\"gray\")"
   ]
  },
  {
   "cell_type": "markdown",
   "metadata": {},
   "source": [
    "2.2"
   ]
  },
  {
   "cell_type": "code",
   "execution_count": 5,
   "metadata": {},
   "outputs": [],
   "source": [
    "def waveAdd(image,a,v,w):\n",
    "    x, y = np.meshgrid(np.arange(image.shape[1]), np.arange(image.shape[0]))\n",
    "    cos_wave = a * np.cos(v * x + w * y)\n",
    "    img = image + cos_wave\n",
    "    return img\n",
    "\n",
    "\n",
    "\n",
    "def powerSpec(image):\n",
    "    ft = fft2(np.copy(image))\n",
    "    ftshift = fftshift(ft)\n",
    "    ps = ftshift**2\n",
    "    return np.abs(ps)"
   ]
  },
  {
   "cell_type": "code",
   "execution_count": 6,
   "metadata": {},
   "outputs": [],
   "source": [
    "A = imread(\"cameraman.tif\")\n",
    "a, v, w = 50, 0.5, 0.5\n",
    "B = waveAdd(A,a,v,w)\n",
    "\n",
    "fftA = fft2(A)\n",
    "fftA = fftshift(fftA)\n",
    "fftB = fft2(B)\n",
    "fftB = fftshift(fftB)\n",
    "ps_A = powerSpec(A)\n",
    "ps_B = powerSpec(B)\n",
    "\n",
    "plt.subplot(2,2,1)\n",
    "plt.imshow(A,cmap=\"gray\"),plt.axis(\"off\")\n",
    "plt.title(\"Original\")\n",
    "plt.subplot(2,2,2)\n",
    "plt.imshow(B,cmap=\"gray\"),plt.axis(\"off\")\n",
    "plt.title(\"Original + noise\")\n",
    "plt.subplot(2,2,3)\n",
    "plt.imshow(np.log10(1+ps_A),cmap=\"gray\"),plt.xticks([], []),plt.yticks([], [])\n",
    "plt.title(\"PS of original\")\n",
    "plt.subplot(2,2,4)\n",
    "plt.imshow(np.log10(1+ps_B),cmap=\"gray\"),plt.xticks([], []),plt.yticks([], [])\n",
    "plt.title(\"PS + noise\")\n",
    "plt.show()"
   ]
  },
  {
   "cell_type": "code",
   "execution_count": null,
   "metadata": {},
   "outputs": [],
   "source": [
    "#107, 107\n",
    "#148, 148"
   ]
  },
  {
   "cell_type": "code",
   "execution_count": 245,
   "metadata": {},
   "outputs": [],
   "source": [
    "def filterFunc(fft,pixel1,pixel2):\n",
    "    N = fftB.shape[0]\n",
    "    x,y = np.meshgrid(np.arange(N), np.arange(N))\n",
    "    a1, a2 = 0.005, 0.005\n",
    "    F1 = 1 - np.exp(-a1*(x-pixel1[0])**2-a2*(y-pixel1[1])**2)\n",
    "    F2 = 1 - np.exp(-a1*(x-pixel2[0])**2-a2*(y-pixel2[1])**2)\n",
    "    Z = F1*F2\n",
    "    imgFs = fft*Z\n",
    "    imgF = ifftshift(imgFs)\n",
    "    imgF = ifft2(imgF)\n",
    "    return imgF, Z"
   ]
  },
  {
   "cell_type": "code",
   "execution_count": 246,
   "metadata": {},
   "outputs": [],
   "source": [
    "pixel1 = [107,107]\n",
    "pixel2 = [148,148]\n",
    "imgF, Z = filterFunc(fftB,pixel1,pixel2)\n",
    "\n",
    "plt.subplot(2,2,1)\n",
    "plt.imshow(B,cmap=\"gray\"),plt.axis(\"off\")\n",
    "plt.title(\"Original + noise\")\n",
    "plt.subplot(2,2,2)\n",
    "plt.imshow(np.real(imgF),cmap=\"gray\"),plt.axis(\"off\")\n",
    "plt.title(\"Filtered image\")\n",
    "plt.subplot(2,2,3)\n",
    "plt.imshow(np.log10(1+np.abs(fftB)),cmap=\"gray\"),plt.xticks([], []),plt.yticks([], [])\n",
    "plt.title(\"FFT + noise\")\n",
    "plt.subplot(2,2,4)\n",
    "plt.imshow(Z,cmap=\"gray\"),plt.xticks([], []),plt.yticks([], [])\n",
    "plt.title(\"Filter\")\n",
    "plt.show()"
   ]
  },
  {
   "cell_type": "code",
   "execution_count": null,
   "metadata": {},
   "outputs": [],
   "source": []
  }
 ],
 "metadata": {
  "kernelspec": {
   "display_name": "py310",
   "language": "python",
   "name": "python3"
  },
  "language_info": {
   "codemirror_mode": {
    "name": "ipython",
    "version": 3
   },
   "file_extension": ".py",
   "mimetype": "text/x-python",
   "name": "python",
   "nbconvert_exporter": "python",
   "pygments_lexer": "ipython3",
   "version": "3.10.6"
  },
  "orig_nbformat": 4,
  "vscode": {
   "interpreter": {
    "hash": "f6c59e9a90901d54f4b9f5796ffe87a4c182513f672a519035aa940c71554467"
   }
  }
 },
 "nbformat": 4,
 "nbformat_minor": 2
}
