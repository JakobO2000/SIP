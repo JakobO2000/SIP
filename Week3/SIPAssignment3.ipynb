{
 "cells": [
  {
   "cell_type": "code",
   "execution_count": 1,
   "metadata": {},
   "outputs": [],
   "source": [
    "%matplotlib qt\n",
    "from matplotlib import pyplot as plt\n",
    "from numpy.random import rand\n",
    "import skimage as sm\n",
    "from skimage.io import imread, imsave\n",
    "from skimage.util import img_as_float, random_noise\n",
    "from skimage.transform import rotate\n",
    "from skimage.filters import gaussian as ski_gaussian\n",
    "from pylab import ginput\n",
    "from scipy.signal import convolve, convolve2d, correlate2d\n",
    "from scipy.signal import  gaussian as scipy_gaussian\n",
    "from scipy.fft import fft2, fftshift, ifft2, ifftshift\n",
    "import numpy as np\n",
    "import os\n",
    "import timeit\n",
    "\n",
    "os.chdir(\"../Mats\")"
   ]
  },
  {
   "cell_type": "code",
   "execution_count": 2,
   "metadata": {},
   "outputs": [],
   "source": [
    "plt.rcParams['figure.dpi'] = 300\n",
    "plt.rcParams['savefig.dpi'] = 300"
   ]
  },
  {
   "cell_type": "markdown",
   "metadata": {},
   "source": [
    "# 2"
   ]
  },
  {
   "cell_type": "markdown",
   "metadata": {},
   "source": [
    "2.1"
   ]
  },
  {
   "cell_type": "code",
   "execution_count": 19,
   "metadata": {},
   "outputs": [
    {
     "data": {
      "text/plain": [
       "' for i in range(2, 16):\\n    kernel = mean_kernel(i)\\n    reg_kernel_time.append(timeit.timeit(lambda: apply_filter(A, kernel), number=10))\\n    fft_kernel_time.append(timeit.timeit(lambda: fft_convolve(A, kernel), number=10))\\n    print(i) '"
      ]
     },
     "execution_count": 19,
     "metadata": {},
     "output_type": "execute_result"
    }
   ],
   "source": [
    "def apply_filter(image, filter):\n",
    "    cop_image = np.copy(image)\n",
    "    mir_image = np.pad(cop_image, np.int32(np.floor(np.max(filter.shape)/2)+1), mode=\"symmetric\")\n",
    "    filter = np.flip(filter)\n",
    "    for i in range(cop_image.shape[0]):\n",
    "        for j in range(cop_image.shape[1]):\n",
    "            cop_image [i,j] = np.sum(mir_image[i:i+filter.shape[0],j:j+filter.shape[1]]*filter)\n",
    "    return cop_image\n",
    "\n",
    "\n",
    "def fft_convolve(image, filter):\n",
    "    cop_image = np.copy(image)\n",
    "    padded_filter = np.pad(filter, ((0, cop_image.shape[0]-filter.shape[0]), (0, cop_image.shape[1]-filter.shape[1])), 'constant')\n",
    "    return np.real(ifft2(fft2(cop_image)*fft2(padded_filter)))\n",
    "\n",
    "def mean_kernel(N):\n",
    "    return np.ones((N, N))/N**2\n",
    "\n",
    "A = imread(\"cameraman.tif\")\n",
    "\n",
    "kernels = [mean_kernel(3), mean_kernel(7)]\n",
    "\n",
    "img_reg_3 = apply_filter(A, kernels[0])\n",
    "img_fft_3 = fft_convolve(A, kernels[0])\n",
    "img_reg_7 = apply_filter(A, kernels[1])\n",
    "img_fft_7 = fft_convolve(A, kernels[1])\n",
    "diff_3 = np.abs(img_fft_3-img_reg_3)\n",
    "diff_7 = np.abs(img_fft_7-img_reg_7)\n",
    "\n",
    "reg_kernel_time = []\n",
    "fft_kernel_time = []\n",
    "\n",
    "\"\"\" for i in range(2, 16):\n",
    "    kernel = mean_kernel(i)\n",
    "    reg_kernel_time.append(timeit.timeit(lambda: apply_filter(A, kernel), number=10))\n",
    "    fft_kernel_time.append(timeit.timeit(lambda: fft_convolve(A, kernel), number=10))\n",
    "    print(i) \"\"\"\n"
   ]
  },
  {
   "cell_type": "code",
   "execution_count": null,
   "metadata": {},
   "outputs": [],
   "source": [
    "# np.save(\"reg_kernel_time.npy\", np.array(reg_kernel_time))\n",
    "# np.save(\"fft_kernel_time.npy\", np.array(fft_kernel_time))\n",
    "reg_kernel_time = np.load(\"reg_kernel_time.npy\")\n",
    "fft_kernel_time = np.load(\"fft_kernel_time.npy\")"
   ]
  },
  {
   "cell_type": "code",
   "execution_count": 9,
   "metadata": {},
   "outputs": [],
   "source": [
    "fig, ax = plt.subplots()\n",
    "x_axis = np.arange(2, 16)\n",
    "ax.plot(x_axis, reg_kernel_time, label=\"reg\")\n",
    "ax.plot(x_axis, fft_kernel_time, label=\"fft\")\n",
    "ax.set_xlabel(\"N\"), ax.set_ylabel(\"Execution time (s)\"), ax.set_title(\"Execution time for 100 executions for a filter with kernel NxN\")\n",
    "plt.tight_layout()\n",
    "plt.legend()\n",
    "plt.show()"
   ]
  },
  {
   "cell_type": "code",
   "execution_count": 20,
   "metadata": {},
   "outputs": [
    {
     "name": "stderr",
     "output_type": "stream",
     "text": [
      "No artists with labels found to put in legend.  Note that artists whose label start with an underscore are ignored when legend() is called with no argument.\n"
     ]
    }
   ],
   "source": [
    "fig, ax = plt.subplots(3, 2)\n",
    "ax[0, 0].imshow(img_reg_3, cmap=\"gray\"), ax[0,0].set_title(\"Nested for, N=3\"), ax[0, 0].axis(\"off\")\n",
    "ax[0, 1].imshow(img_reg_7, cmap=\"gray\"), ax[0,1].set_title(\"Nested for, N=7\"), ax[0, 1].axis(\"off\")\n",
    "ax[1, 0].imshow(img_fft_3, cmap=\"gray\"), ax[1,0].set_title(\"Fft, N=3\"), ax[1, 0].axis(\"off\")\n",
    "ax[1, 1].imshow(img_fft_7, cmap=\"gray\"), ax[1,1].set_title(\"Fft, N=7\"), ax[1, 1].axis(\"off\")\n",
    "ax[2, 0].imshow(diff_3, vmin=0, vmax=255, cmap=\"gray\"), ax[2,0].set_title(\"Difference, N=3\"), ax[2, 0].axis(\"off\")\n",
    "ax[2, 1].imshow(diff_7, vmin=0, vmax=255, cmap=\"gray\"), ax[2,1].set_title(\"Difference, N=7\"), ax[2, 1].axis(\"off\")\n",
    "plt.tight_layout()\n",
    "plt.legend()\n",
    "plt.show()"
   ]
  },
  {
   "cell_type": "code",
   "execution_count": 21,
   "metadata": {},
   "outputs": [
    {
     "data": {
      "text/plain": [
       "<matplotlib.image.AxesImage at 0x1a3ae9fd810>"
      ]
     },
     "execution_count": 21,
     "metadata": {},
     "output_type": "execute_result"
    }
   ],
   "source": [
    "plt.imshow(A, cmap=\"gray\")"
   ]
  },
  {
   "cell_type": "code",
   "execution_count": null,
   "metadata": {},
   "outputs": [],
   "source": [
    "kernel = mean_kernel(3)\n",
    "img = []\n",
    "img_reg_3 = apply_filter(A, kernels[0])\n",
    "img_fft_3 = fft_convolve(A, kernels[0])\n",
    "img_reg_7 = apply_filter(A, kernels[1])\n",
    "img_fft_7 = fft_convolve(A, kernels[1])\n",
    "diff_3 = np.abs(img_fft_3-img_reg_3)\n",
    "diff_7 = np.abs(img_fft_7-img_reg_7)\n",
    "\n",
    "reg_kernel_time = []\n",
    "fft_kernel_time = []\n",
    "\n",
    "for i in range(2, 16):\n",
    "    kernel = mean_kernel(i)\n",
    "    reg_kernel_time.append(timeit.timeit(lambda: apply_filter(A, kernel), number=100))\n",
    "    fft_kernel_time.append(timeit.timeit(lambda: fft_convolve(A, kernel), number=100))\n",
    "    print(i)"
   ]
  },
  {
   "cell_type": "code",
   "execution_count": 3,
   "metadata": {},
   "outputs": [],
   "source": [
    "A = imread(\"cameraman.tif\")\n",
    "\n",
    "kernels = [np.arange(1, 2**2+1).reshape((2,2)),np.arange(1, 3**2+1).reshape((3,3))]\n",
    "\n",
    "img = convolve2d(A,kernels[0])\n",
    "plt.subplot(2,2,1)\n",
    "plt.imshow(img,cmap=\"gray\")\n",
    "img = convolve2d(A,kernels[1])\n",
    "plt.subplot(2,2,2)\n",
    "plt.imshow(img,cmap=\"gray\")\n",
    "img = fft_convolve(A,kernels[0])\n",
    "plt.subplot(2,2,3)\n",
    "plt.imshow(img,cmap=\"gray\")\n",
    "img = fft_convolve(A,kernels[1])\n",
    "plt.subplot(2,2,4)\n",
    "plt.imshow(img,cmap=\"gray\")\n",
    "plt.show()"
   ]
  },
  {
   "cell_type": "code",
   "execution_count": null,
   "metadata": {},
   "outputs": [
    {
     "name": "stdout",
     "output_type": "stream",
     "text": [
      "Nested For Loop: Image size (256, 256), Kernel size (2, 2), Execution time: 0.5441541300002427 seconds\n",
      "Nested For Loop: Image size (256, 256), Kernel size (3, 3), Execution time: 0.5035541500001273 seconds\n",
      "FFT: Image size (256, 256), Kernel size (2, 2), Execution time: 0.004148110000096494 seconds\n",
      "FFT: Image size (256, 512), Kernel size (2, 2), Execution time: 0.00927501999976812 seconds\n",
      "FFT: Image size (512, 256), Kernel size (2, 2), Execution time: 0.008910060000198427 seconds\n"
     ]
    }
   ],
   "source": [
    "A = imread(\"cameraman.tif\")\n",
    "\n",
    "kernels = [np.arange(1, 2**2+1).reshape((2,2)),np.arange(1, 3**2+1).reshape((3,3))]\n",
    "\n",
    "for i, kernel in enumerate(kernels):\n",
    "    time = timeit.timeit(lambda: apply_filter(A, kernel), number=10)\n",
    "    print(f\"Nested For Loop: Image size {A.shape}, Kernel size {kernel.shape}, Execution time: {time/10} seconds\")\n",
    "\n",
    "\n",
    "images = [A,resize(A,(256,256*2)),resize(A,(256*2,256))]\n",
    "\n",
    "# Measure execution times for FFT implementation\n",
    "for i, image in enumerate(images):\n",
    "    kernel = kernels[0]\n",
    "    time = timeit.timeit(lambda: fft_convolve(image, kernel), number=10)\n",
    "    print(f\"FFT: Image size {image.shape}, Kernel size {kernel.shape}, Execution time: {time/10} seconds\")"
   ]
  },
  {
   "cell_type": "code",
   "execution_count": null,
   "metadata": {},
   "outputs": [
    {
     "data": {
      "text/plain": [
       "<matplotlib.image.AxesImage at 0x2299bc73fa0>"
      ]
     },
     "metadata": {},
     "output_type": "display_data"
    }
   ],
   "source": [
    "\n",
    "\n",
    "scipyA = fftconvolve(A,kernels[1])\n",
    "ourA = fft_convolve(A,kernels[1])\n",
    "\n",
    "plt.subplot(2,1,1)\n",
    "plt.imshow(scipyA,cmap=\"gray\")\n",
    "plt.subplot(2,1,2)\n",
    "plt.imshow(ourA,cmap=\"gray\")"
   ]
  },
  {
   "cell_type": "markdown",
   "metadata": {},
   "source": [
    "2.2"
   ]
  },
  {
   "cell_type": "code",
   "execution_count": 226,
   "metadata": {},
   "outputs": [],
   "source": [
    "def waveAdd(image,a,v,w):\n",
    "    x, y = np.meshgrid(np.arange(image.shape[1]), np.arange(image.shape[0]))\n",
    "    cos_wave = a * np.cos(v * x + w * y)\n",
    "    img = image + cos_wave\n",
    "    return img\n",
    "\n",
    "\n",
    "\n",
    "def powerSpec(image):\n",
    "    ft = fft2(np.copy(image))\n",
    "    ftshift = fftshift(ft)\n",
    "    ps = ftshift**2\n",
    "    return np.abs(ps)"
   ]
  },
  {
   "cell_type": "code",
   "execution_count": 242,
   "metadata": {},
   "outputs": [],
   "source": [
    "A = imread(\"cameraman.tif\")\n",
    "a, v, w = 50, 0.5, 0.5\n",
    "B = waveAdd(A,a,v,w)\n",
    "\n",
    "fftA = fft2(A)\n",
    "fftA = fftshift(fftA)\n",
    "fftB = fft2(B)\n",
    "fftB = fftshift(fftB)\n",
    "ps_A = powerSpec(A)\n",
    "ps_B = powerSpec(B)\n",
    "\n",
    "plt.subplot(2,2,1)\n",
    "plt.imshow(A,cmap=\"gray\"),plt.axis(\"off\")\n",
    "plt.title(\"Original\")\n",
    "plt.subplot(2,2,2)\n",
    "plt.imshow(B,cmap=\"gray\"),plt.axis(\"off\")\n",
    "plt.title(\"Original + noise\")\n",
    "plt.subplot(2,2,3)\n",
    "plt.imshow(np.log10(1+ps_A),cmap=\"gray\"),plt.xticks([], []),plt.yticks([], [])\n",
    "plt.title(\"PS of original\")\n",
    "plt.subplot(2,2,4)\n",
    "plt.imshow(np.log10(1+ps_B),cmap=\"gray\"),plt.xticks([], []),plt.yticks([], [])\n",
    "plt.title(\"PS + noise\")\n",
    "plt.show()"
   ]
  },
  {
   "cell_type": "code",
   "execution_count": null,
   "metadata": {},
   "outputs": [],
   "source": [
    "#107, 107\n",
    "#148, 148"
   ]
  },
  {
   "cell_type": "code",
   "execution_count": 245,
   "metadata": {},
   "outputs": [],
   "source": [
    "def filterFunc(fft,pixel1,pixel2):\n",
    "    N = fftB.shape[0]\n",
    "    x,y = np.meshgrid(np.arange(N), np.arange(N))\n",
    "    a1, a2 = 0.005, 0.005\n",
    "    F1 = 1 - np.exp(-a1*(x-pixel1[0])**2-a2*(y-pixel1[1])**2)\n",
    "    F2 = 1 - np.exp(-a1*(x-pixel2[0])**2-a2*(y-pixel2[1])**2)\n",
    "    Z = F1*F2\n",
    "    imgFs = fft*Z\n",
    "    imgF = ifftshift(imgFs)\n",
    "    imgF = ifft2(imgF)\n",
    "    return imgF, Z"
   ]
  },
  {
   "cell_type": "code",
   "execution_count": 246,
   "metadata": {},
   "outputs": [],
   "source": [
    "pixel1 = [107,107]\n",
    "pixel2 = [148,148]\n",
    "imgF, Z = filterFunc(fftB,pixel1,pixel2)\n",
    "\n",
    "plt.subplot(2,2,1)\n",
    "plt.imshow(B,cmap=\"gray\"),plt.axis(\"off\")\n",
    "plt.title(\"Original + noise\")\n",
    "plt.subplot(2,2,2)\n",
    "plt.imshow(np.real(imgF),cmap=\"gray\"),plt.axis(\"off\")\n",
    "plt.title(\"Filtered image\")\n",
    "plt.subplot(2,2,3)\n",
    "plt.imshow(np.log10(1+np.abs(fftB)),cmap=\"gray\"),plt.xticks([], []),plt.yticks([], [])\n",
    "plt.title(\"FFT + noise\")\n",
    "plt.subplot(2,2,4)\n",
    "plt.imshow(Z,cmap=\"gray\"),plt.xticks([], []),plt.yticks([], [])\n",
    "plt.title(\"Filter\")\n",
    "plt.show()"
   ]
  },
  {
   "cell_type": "code",
   "execution_count": null,
   "metadata": {},
   "outputs": [],
   "source": []
  }
 ],
 "metadata": {
  "kernelspec": {
   "display_name": "py310",
   "language": "python",
   "name": "python3"
  },
  "language_info": {
   "codemirror_mode": {
    "name": "ipython",
    "version": 3
   },
   "file_extension": ".py",
   "mimetype": "text/x-python",
   "name": "python",
   "nbconvert_exporter": "python",
   "pygments_lexer": "ipython3",
   "version": "3.10.6"
  },
  "orig_nbformat": 4,
  "vscode": {
   "interpreter": {
    "hash": "f6c59e9a90901d54f4b9f5796ffe87a4c182513f672a519035aa940c71554467"
   }
  }
 },
 "nbformat": 4,
 "nbformat_minor": 2
}
