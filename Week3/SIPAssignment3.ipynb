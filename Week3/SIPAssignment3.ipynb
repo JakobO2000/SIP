{
 "cells": [
  {
   "cell_type": "code",
   "execution_count": 1,
   "metadata": {},
   "outputs": [],
   "source": [
    "%matplotlib qt\n",
    "from matplotlib import pyplot as plt\n",
    "from numpy.random import rand\n",
    "import skimage as sm\n",
    "from skimage.io import imread, imsave\n",
    "from skimage.util import img_as_float, random_noise\n",
    "from skimage.transform import rotate\n",
    "from skimage.filters import gaussian as ski_gaussian\n",
    "from pylab import ginput\n",
    "from scipy.signal import convolve, convolve2d, correlate2d\n",
    "from scipy.signal import  gaussian as scipy_gaussian\n",
    "from scipy.fft import fft2, fftshift, ifft2, ifftshift\n",
    "import numpy as np\n",
    "import os\n",
    "import timeit\n",
    "\n",
    "os.chdir(\"../Mats\")"
   ]
  },
  {
   "cell_type": "code",
   "execution_count": 2,
   "metadata": {},
   "outputs": [],
   "source": [
    "plt.rcParams['figure.dpi'] = 300\n",
    "plt.rcParams['savefig.dpi'] = 300"
   ]
  },
  {
   "cell_type": "markdown",
   "metadata": {},
   "source": [
    "# 2"
   ]
  },
  {
   "cell_type": "markdown",
   "metadata": {},
   "source": [
    "2.1"
   ]
  },
  {
   "cell_type": "code",
   "execution_count": 6,
   "metadata": {},
   "outputs": [],
   "source": [
    "def app_filter(image, kernel):\n",
    "    cop_image = np.copy(image)\n",
    "    mir_image = np.pad(cop_image, np.int32(np.floor(np.max(kernel.shape)/2+1)), mode=\"symmetric\")\n",
    "    for i in range(cop_image.shape[0]):\n",
    "        for j in range(cop_image.shape[1]):\n",
    "            cop_image [i,j] = np.sum(mir_image[i:i+kernel.shape[0],j:j+kernel.shape[1]]*kernel)\n",
    "    return cop_image\n",
    "\n",
    "def fft_filter(image, kernel):\n",
    "    return ifft2(fft2(image)*fft2(kernel))"
   ]
  },
  {
   "cell_type": "code",
   "execution_count": 7,
   "metadata": {},
   "outputs": [
    {
     "ename": "ValueError",
     "evalue": "operands could not be broadcast together with shapes (256,256) (3,3) ",
     "output_type": "error",
     "traceback": [
      "\u001b[1;31m---------------------------------------------------------------------------\u001b[0m",
      "\u001b[1;31mValueError\u001b[0m                                Traceback (most recent call last)",
      "Cell \u001b[1;32mIn [7], line 8\u001b[0m\n\u001b[0;32m      6\u001b[0m for_3 \u001b[39m=\u001b[39m app_filter(A, mean_3)\n\u001b[0;32m      7\u001b[0m for_7 \u001b[39m=\u001b[39m app_filter(A, mean_7)\n\u001b[1;32m----> 8\u001b[0m fft_3 \u001b[39m=\u001b[39m fft_filter(A, mean_3)\n\u001b[0;32m      9\u001b[0m fft_7 \u001b[39m=\u001b[39m fft_filter(A, mean_7)\n\u001b[0;32m     10\u001b[0m diff_3 \u001b[39m=\u001b[39m np\u001b[39m.\u001b[39mabs(for_3 \u001b[39m-\u001b[39m fft_3)\n",
      "Cell \u001b[1;32mIn [6], line 10\u001b[0m, in \u001b[0;36mfft_filter\u001b[1;34m(image, kernel)\u001b[0m\n\u001b[0;32m      9\u001b[0m \u001b[39mdef\u001b[39;00m \u001b[39mfft_filter\u001b[39m(image, kernel):\n\u001b[1;32m---> 10\u001b[0m     \u001b[39mreturn\u001b[39;00m ifft2(fft2(image)\u001b[39m*\u001b[39;49mfft2(kernel))\n",
      "\u001b[1;31mValueError\u001b[0m: operands could not be broadcast together with shapes (256,256) (3,3) "
     ]
    }
   ],
   "source": [
    "A = imread(\"cameraman.tif\")\n",
    "\n",
    "mean_3 = np.ones((3, 3))/3**2\n",
    "mean_7 = np.ones((7, 7))/7**2\n",
    "\n",
    "for_3 = app_filter(A, mean_3)\n",
    "for_7 = app_filter(A, mean_7)\n",
    "fft_3 = fft_filter(A, mean_3)\n",
    "fft_7 = fft_filter(A, mean_7)\n",
    "diff_3 = np.abs(for_3 - fft_3)\n",
    "diff_7 = np.abs(for_7 - fft_7)"
   ]
  },
  {
   "cell_type": "code",
   "execution_count": null,
   "metadata": {},
   "outputs": [],
   "source": [
    "def for_100(image, kernel):\n",
    "        for j in range(100):\n",
    "            app_filter(image, kernel)\n",
    "        return\n",
    "\n",
    "def fft_100(image, kernel):\n",
    "        for j in range(100):\n",
    "           fft_filter(image, kernel)\n",
    "        return\n",
    "  \n",
    "for_time = []\n",
    "fft_time = []\n",
    "for i in range(1, 16):\n",
    "    kernel_i = np.ones((i, i))/i**2\n",
    "    print(i)\n",
    "    start_time = timeit.default_timer()\n",
    "    for_100(np.copy(A), kernel_i)\n",
    "    for_time.append(timeit.default_timer()-start_time)\n",
    "    start_time = timeit.default_timer()\n",
    "    fft_100(np.copy(A), kernel_i)\n",
    "    fft_time.append(timeit.default_timer()-start_time)"
   ]
  },
  {
   "cell_type": "markdown",
   "metadata": {},
   "source": [
    "2.2"
   ]
  },
  {
   "cell_type": "code",
   "execution_count": 226,
   "metadata": {},
   "outputs": [],
   "source": [
    "def waveAdd(image,a,v,w):\n",
    "    x, y = np.meshgrid(np.arange(image.shape[1]), np.arange(image.shape[0]))\n",
    "    cos_wave = a * np.cos(v * x + w * y)\n",
    "    img = image + cos_wave\n",
    "    return img\n",
    "\n",
    "\n",
    "\n",
    "def powerSpec(image):\n",
    "    ft = fft2(np.copy(image))\n",
    "    ftshift = fftshift(ft)\n",
    "    ps = ftshift**2\n",
    "    return np.abs(ps)"
   ]
  },
  {
   "cell_type": "code",
   "execution_count": 242,
   "metadata": {},
   "outputs": [],
   "source": [
    "A = imread(\"cameraman.tif\")\n",
    "a, v, w = 50, 0.5, 0.5\n",
    "B = waveAdd(A,a,v,w)\n",
    "\n",
    "fftA = fft2(A)\n",
    "fftA = fftshift(fftA)\n",
    "fftB = fft2(B)\n",
    "fftB = fftshift(fftB)\n",
    "ps_A = powerSpec(A)\n",
    "ps_B = powerSpec(B)\n",
    "\n",
    "plt.subplot(2,2,1)\n",
    "plt.imshow(A,cmap=\"gray\"),plt.axis(\"off\")\n",
    "plt.title(\"Original\")\n",
    "plt.subplot(2,2,2)\n",
    "plt.imshow(B,cmap=\"gray\"),plt.axis(\"off\")\n",
    "plt.title(\"Original + noise\")\n",
    "plt.subplot(2,2,3)\n",
    "plt.imshow(np.log10(1+ps_A),cmap=\"gray\"),plt.xticks([], []),plt.yticks([], [])\n",
    "plt.title(\"PS of original\")\n",
    "plt.subplot(2,2,4)\n",
    "plt.imshow(np.log10(1+ps_B),cmap=\"gray\"),plt.xticks([], []),plt.yticks([], [])\n",
    "plt.title(\"PS + noise\")\n",
    "plt.show()"
   ]
  },
  {
   "cell_type": "code",
   "execution_count": null,
   "metadata": {},
   "outputs": [],
   "source": [
    "#107, 107\n",
    "#148, 148"
   ]
  },
  {
   "cell_type": "code",
   "execution_count": 245,
   "metadata": {},
   "outputs": [],
   "source": [
    "def filterFunc(fft,pixel1,pixel2):\n",
    "    N = fftB.shape[0]\n",
    "    x,y = np.meshgrid(np.arange(N), np.arange(N))\n",
    "    a1, a2 = 0.005, 0.005\n",
    "    F1 = 1 - np.exp(-a1*(x-pixel1[0])**2-a2*(y-pixel1[1])**2)\n",
    "    F2 = 1 - np.exp(-a1*(x-pixel2[0])**2-a2*(y-pixel2[1])**2)\n",
    "    Z = F1*F2\n",
    "    imgFs = fft*Z\n",
    "    imgF = ifftshift(imgFs)\n",
    "    imgF = ifft2(imgF)\n",
    "    return imgF, Z"
   ]
  },
  {
   "cell_type": "code",
   "execution_count": 246,
   "metadata": {},
   "outputs": [],
   "source": [
    "pixel1 = [107,107]\n",
    "pixel2 = [148,148]\n",
    "imgF, Z = filterFunc(fftB,pixel1,pixel2)\n",
    "\n",
    "plt.subplot(2,2,1)\n",
    "plt.imshow(B,cmap=\"gray\"),plt.axis(\"off\")\n",
    "plt.title(\"Original + noise\")\n",
    "plt.subplot(2,2,2)\n",
    "plt.imshow(np.real(imgF),cmap=\"gray\"),plt.axis(\"off\")\n",
    "plt.title(\"Filtered image\")\n",
    "plt.subplot(2,2,3)\n",
    "plt.imshow(np.log10(1+np.abs(fftB)),cmap=\"gray\"),plt.xticks([], []),plt.yticks([], [])\n",
    "plt.title(\"FFT + noise\")\n",
    "plt.subplot(2,2,4)\n",
    "plt.imshow(Z,cmap=\"gray\"),plt.xticks([], []),plt.yticks([], [])\n",
    "plt.title(\"Filter\")\n",
    "plt.show()"
   ]
  },
  {
   "cell_type": "code",
   "execution_count": null,
   "metadata": {},
   "outputs": [],
   "source": []
  }
 ],
 "metadata": {
  "kernelspec": {
   "display_name": "py310",
   "language": "python",
   "name": "python3"
  },
  "language_info": {
   "codemirror_mode": {
    "name": "ipython",
    "version": 3
   },
   "file_extension": ".py",
   "mimetype": "text/x-python",
   "name": "python",
   "nbconvert_exporter": "python",
   "pygments_lexer": "ipython3",
   "version": "3.10.6"
  },
  "orig_nbformat": 4,
  "vscode": {
   "interpreter": {
    "hash": "f6c59e9a90901d54f4b9f5796ffe87a4c182513f672a519035aa940c71554467"
   }
  }
 },
 "nbformat": 4,
 "nbformat_minor": 2
}
