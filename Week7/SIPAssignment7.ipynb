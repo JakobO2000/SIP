{
 "cells": [
  {
   "cell_type": "code",
   "execution_count": 1,
   "metadata": {},
   "outputs": [],
   "source": [
    "%matplotlib qt\n",
    "from matplotlib import pyplot as plt\n",
    "from numpy.random import rand\n",
    "import skimage as sm\n",
    "import skimage.morphology as morph\n",
    "from skimage.io import imread, imsave\n",
    "from skimage.util import img_as_float, random_noise\n",
    "from skimage.transform import rotate, resize\n",
    "from skimage.filters import gaussian as ski_gaussian\n",
    "from skimage.feature import canny, corner_harris, corner_peaks\n",
    "from pylab import ginput\n",
    "from scipy.signal import convolve, convolve2d, correlate2d, fftconvolve\n",
    "from scipy.signal import  gaussian as scipy_gaussian\n",
    "from scipy.fft import fft2, fftshift, ifft2, ifftshift\n",
    "from scipy.interpolate import griddata\n",
    "from scipy.ndimage import map_coordinates, gaussian_filter\n",
    "\n",
    "import numpy as np\n",
    "import os\n",
    "import timeit\n",
    "import tensorflow as tf\n",
    "\n",
    "\n",
    "os.chdir(\"../Mats\")"
   ]
  },
  {
   "cell_type": "code",
   "execution_count": 233,
   "metadata": {},
   "outputs": [],
   "source": [
    "plt.rcParams['figure.dpi'] = 300\n",
    "plt.rcParams['savefig.dpi'] = 300"
   ]
  },
  {
   "attachments": {},
   "cell_type": "markdown",
   "metadata": {},
   "source": [
    "# 1"
   ]
  },
  {
   "cell_type": "code",
   "execution_count": null,
   "metadata": {},
   "outputs": [],
   "source": [
    "def straight_line_Hough(image):\n",
    "    diag_len = np.sqrt(image.shape[0]**2+image.shape[1]**2)\n",
    "    Hough_transform = np.zeros((2*np.ceil(diag_len).astype(int)+1, 180))\n",
    "    radians = np.linspace(-90, 89, 180).astype(int)\n",
    "    for i in range(image.shape[1]):\n",
    "        for j in range(image.shape[0]):\n",
    "            if image[i, j] != 0:\n",
    "                for theta in radians:\n",
    "                    p = np.ceil(diag_len + i*np.cos(np.pi*theta/180) + j*np.sin(np.pi*theta/180)).astype(int)\n",
    "                    Hough_transform[p, 90+theta] += 1\n",
    "    return Hough_transform"
   ]
  },
  {
   "cell_type": "markdown",
   "metadata": {},
   "source": [
    "1.2"
   ]
  },
  {
   "cell_type": "code",
   "execution_count": null,
   "metadata": {},
   "outputs": [
    {
     "name": "stderr",
     "output_type": "stream",
     "text": [
      "C:\\Users\\Birk Dissing\\AppData\\Local\\Temp\\ipykernel_24092\\2217586950.py:10: MatplotlibDeprecationWarning: Auto-removal of overlapping axes is deprecated since 3.6 and will be removed two minor releases later; explicitly call ax.remove() as needed.\n",
      "  plt.subplot(1, 3, 1)\n",
      "C:\\Users\\Birk Dissing\\AppData\\Local\\Temp\\ipykernel_24092\\2217586950.py:17: MatplotlibDeprecationWarning: Auto-removal of overlapping axes is deprecated since 3.6 and will be removed two minor releases later; explicitly call ax.remove() as needed.\n",
      "  plt.subplot(1, 3, 2)\n",
      "C:\\Users\\Birk Dissing\\AppData\\Local\\Temp\\ipykernel_24092\\2217586950.py:24: MatplotlibDeprecationWarning: Auto-removal of overlapping axes is deprecated since 3.6 and will be removed two minor releases later; explicitly call ax.remove() as needed.\n",
      "  plt.subplot(1, 3, 3)\n"
     ]
    },
    {
     "data": {
      "text/plain": [
       "[]"
      ]
     },
     "metadata": {},
     "output_type": "display_data"
    }
   ],
   "source": [
    "A = imread(\"cross.png\")\n",
    "radians_array = np.linspace(-90, 89, 180).astype(int)*np.pi/180\n",
    "diag_len = np.ceil(np.sqrt(A.shape[0]**2+A.shape[1]**2)).astype(int)\n",
    "p_array = np.linspace(-diag_len, diag_len, 2*diag_len+1)\n",
    "own_hough = straight_line_Hough(A)\n",
    "ski_hough, angle, d = hough_line(A)\n",
    "\n",
    "ticks_angle = np.linspace(0, own_hough.shape[1], 5)\n",
    "label_angle = np.linspace(-90, 90, 5).astype(int)\n",
    "plt.subplot(1, 3, 1)\n",
    "plt.imshow(own_hough, cmap=\"gray\")\n",
    "plt.xticks(ticks_angle, label_angle)\n",
    "plt.xlabel(\"\\u03B8\")\n",
    "plt.ylabel(\"p\")\n",
    "plt.title(\"own function\")\n",
    "plt.colorbar(shrink=0.5)\n",
    "plt.subplot(1, 3, 2)\n",
    "plt.imshow(ski_hough, cmap=\"gray\")\n",
    "plt.xticks(ticks_angle, label_angle)\n",
    "plt.xlabel(\"\\u03B8\")\n",
    "plt.ylabel(\"p\")\n",
    "plt.title(\"skimage function\")\n",
    "plt.colorbar(shrink=0.5)\n",
    "plt.subplot(1, 3, 3)\n",
    "plt.imshow(np.abs(ski_hough-own_hough), cmap=\"gray\")\n",
    "plt.xticks(ticks_angle, label_angle)\n",
    "plt.xlabel(\"\\u03B8\")\n",
    "plt.ylabel(\"p\")\n",
    "plt.title(\"Difference\")\n",
    "plt.colorbar(shrink=0.5)\n",
    "plt.tight_layout()\n",
    "plt.plot()"
   ]
  },
  {
   "cell_type": "code",
   "execution_count": null,
   "metadata": {},
   "outputs": [],
   "source": [
    "own_coord = np.unravel_index(np.argsort(own_hough.ravel()), own_hough.shape)\n",
    "own_angles = radians_array[own_coord[1][-2:]]\n",
    "own_p = p_array[own_coord[0][-2:]]\n",
    "ski_coord = np.unravel_index(np.argsort(ski_hough.ravel()), ski_hough.shape)\n",
    "ski_angles = radians_array[ski_coord[1][-2:]]\n",
    "ski_p = p_array[ski_coord[0][-2:]]\n",
    "x_axis = np.linspace(0, A.shape[1]-1, 1000)\n",
    "own_y_1 = (own_p[0]-np.cos(own_angles[0])*x_axis)/np.sin(own_angles[0])\n",
    "own_y_2 = (own_p[1]-np.cos(own_angles[1])*x_axis)/np.sin(own_angles[1])\n",
    "ski_y_1 = (ski_p[0]-np.cos(ski_angles[0])*x_axis)/np.sin(ski_angles[0])\n",
    "ski_y_2 = (ski_p[1]-np.cos(ski_angles[1])*x_axis)/np.sin(ski_angles[1])\n",
    "plt.subplot(1, 2, 1)\n",
    "plt.imshow(A, cmap=\"gray\")\n",
    "plt.plot(x_axis, own_y_1, linewidth=0.7, color=\"r\")\n",
    "plt.plot(x_axis, own_y_2, linewidth=0.7, color=\"r\")\n",
    "plt.title(\"own function\")\n",
    "plt.axis(\"off\")\n",
    "plt.subplot(1, 2, 2)\n",
    "plt.imshow(A, cmap=\"gray\")\n",
    "plt.plot(x_axis, ski_y_1, linewidth=0.7, color=\"r\")\n",
    "plt.plot(x_axis, ski_y_2, linewidth=0.7, color=\"r\")\n",
    "plt.title(\"skimage function\")\n",
    "plt.axis(\"off\")\n",
    "plt.tight_layout() \n",
    "plt.show()"
   ]
  },
  {
   "cell_type": "code",
   "execution_count": null,
   "metadata": {},
   "outputs": [
    {
     "name": "stdout",
     "output_type": "stream",
     "text": [
      "Angles for own function: [ 0.78539816 -0.78539816]\n",
      "p for own function: [70.  0.]\n",
      "Angles for ski function: [ 0.78539816 -0.78539816]\n",
      "p for ski function: [70.  0.]\n"
     ]
    }
   ],
   "source": [
    "print(\"Angles for own function:\", own_angles)\n",
    "print(\"p for own function:\", own_p)\n",
    "print(\"Angles for ski function:\", ski_angles)\n",
    "print(\"p for ski function:\", ski_p)"
   ]
  },
  {
   "cell_type": "markdown",
   "metadata": {},
   "source": [
    "1.3"
   ]
  },
  {
   "cell_type": "code",
   "execution_count": null,
   "metadata": {},
   "outputs": [
    {
     "data": {
      "text/plain": [
       "(-0.5, 301.5, 247.5, -0.5)"
      ]
     },
     "metadata": {},
     "output_type": "display_data"
    }
   ],
   "source": [
    "A = imread(\"coins.png\")\n",
    "A_edge = canny(A, sigma=3)\n",
    "\n",
    "A_circles = hough_circle(A_edge, radius=1, full_output=True)\n",
    "plt.imshow(A_circles[0,:,:], cmap=\"gray\")\n",
    "plt.title(\"Hough circle segmentation of coins.png\")\n",
    "plt.axis(\"off\")\n",
    "plt.show()"
   ]
  },
  {
   "attachments": {},
   "cell_type": "markdown",
   "metadata": {},
   "source": [
    "# 2"
   ]
  },
  {
   "attachments": {},
   "cell_type": "markdown",
   "metadata": {},
   "source": [
    "2.1"
   ]
  },
  {
   "cell_type": "code",
   "execution_count": 60,
   "metadata": {},
   "outputs": [],
   "source": []
  },
  {
   "attachments": {},
   "cell_type": "markdown",
   "metadata": {},
   "source": [
    "2.2"
   ]
  },
  {
   "cell_type": "code",
   "execution_count": 203,
   "metadata": {},
   "outputs": [
    {
     "name": "stderr",
     "output_type": "stream",
     "text": [
      "c:\\Users\\Jakob\\anaconda3\\envs\\ISP\\lib\\site-packages\\keras\\optimizers\\optimizer_v2\\adam.py:114: UserWarning: The `lr` argument is deprecated, use `learning_rate` instead.\n",
      "  super().__init__(name, **kwargs)\n"
     ]
    },
    {
     "name": "stdout",
     "output_type": "stream",
     "text": [
      "Test accuracy: 0.9576659202575684\n"
     ]
    }
   ],
   "source": [
    "from tensorflow.keras import Sequential\n",
    "from tensorflow.keras.callbacks import EarlyStopping\n",
    "from tensorflow.keras.layers import Dense, Dropout, Flatten, Conv2D, MaxPool2D, InputLayer\n",
    "from tensorflow.keras.optimizers import Adam\n",
    "import tensorflow.keras.backend as K\n",
    "K.clear_session()\n",
    "## Configure the network\n",
    "# batch_size to train\n",
    "batch_size = 20 * 256\n",
    "# number of output classes\n",
    "nb_classes = 135\n",
    "# number of epochs to train\n",
    "nb_epoch = 400\n",
    "\n",
    "# number of convolutional filters to use\n",
    "nb_filters = 20\n",
    "# size of pooling area for max pooling\n",
    "nb_pool = 2\n",
    "# convolution kernel size\n",
    "nb_conv = 5\n",
    "\n",
    "model = Sequential([\n",
    "    InputLayer(input_shape=(29, 29, 1)),\n",
    "    Conv2D(filters=nb_filters, kernel_size=nb_conv, activation='relu'),\n",
    "    MaxPool2D(pool_size=(nb_pool, nb_pool)),\n",
    "    Dropout(0.5),\n",
    "    Conv2D(filters=nb_filters, kernel_size=nb_conv, activation='relu'),\n",
    "    MaxPool2D(pool_size=(nb_pool, nb_pool)),\n",
    "    Dropout(0.25),\n",
    "    Flatten(),\n",
    "    Dense(units=4000, activation='relu'),\n",
    "    Dense(units=nb_classes, activation='softmax'),\n",
    "])\n",
    "    \n",
    "optimizer = Adam(lr=1e-4, epsilon=1e-08)\n",
    "\n",
    "model.compile(optimizer=optimizer,\n",
    "             loss='categorical_crossentropy',\n",
    "             metrics=['accuracy'])\n",
    "\n",
    "model.load_weights('keras.h5') \n",
    "\n",
    "test = np.load(r'C:\\Users\\Jakob\\Desktop\\Uni\\Kandidat\\ISP\\test.npz')\n",
    "x_test= test['x_test']\n",
    "y_test= test['y_test']\n",
    "x_test = np.reshape(x_test, (x_test.shape[0], 29, 29, 1))\n",
    "test_loss, test_acc = model.evaluate(x_test, y_test, verbose=0)\n",
    "print('Test accuracy:', test_acc)\n"
   ]
  },
  {
   "cell_type": "code",
   "execution_count": 204,
   "metadata": {},
   "outputs": [
    {
     "name": "stdout",
     "output_type": "stream",
     "text": [
      "Test accuracy: 0.9576659202575684\n"
     ]
    }
   ],
   "source": [
    "test_loss, test_acc = model.evaluate(x_test, y_test, verbose=0)\n",
    "print('Test accuracy:', test_acc)"
   ]
  },
  {
   "attachments": {},
   "cell_type": "markdown",
   "metadata": {},
   "source": [
    "2.3"
   ]
  },
  {
   "cell_type": "code",
   "execution_count": 5,
   "metadata": {},
   "outputs": [],
   "source": [
    "def image_patches(image):\n",
    "    padded_image = np.pad(image, ((14, 14), (14, 14)), 'constant')\n",
    "\n",
    "    patches = sm.util.shape.view_as_windows(padded_image, (29, 29), step=1)\n",
    "\n",
    "    return patches.reshape(-1, 29, 29, 1)"
   ]
  },
  {
   "cell_type": "code",
   "execution_count": 236,
   "metadata": {},
   "outputs": [
    {
     "name": "stdout",
     "output_type": "stream",
     "text": [
      "2048/2048 [==============================] - 6s 3ms/step\n"
     ]
    }
   ],
   "source": [
    "image = imread(r\"C:\\Users\\Jakob\\Desktop\\Uni\\Kandidat\\ISP\\SIP\\Mats\\test_images\\image\\1025_3_image.png\")\n",
    "\n",
    "patches = image_patches(image)\n",
    "patches = patches / 255\n",
    "segmented_img = []\n",
    "pr = model.predict(patches)\n",
    "dim = int(pr.shape[0]**0.5)\n",
    "for i, prediction in enumerate(pr):\n",
    "    segmented_img.append(np.argmax(prediction))\n",
    "segmented_img = np.array(segmented_img).reshape((dim, dim))"
   ]
  },
  {
   "cell_type": "code",
   "execution_count": 238,
   "metadata": {},
   "outputs": [],
   "source": [
    "plt.subplot(1,2,1)\n",
    "plt.imshow(A,cmap=\"gray\"),plt.axis(\"off\"),plt.title(\"Original input\")\n",
    "plt.subplot(1,2,2)\n",
    "plt.imshow(segmented_img,cmap=\"gray\"),plt.axis(\"off\"),plt.title(\"Predicted segmentation\")\n",
    "plt.tight_layout()\n",
    "plt.show()"
   ]
  },
  {
   "attachments": {},
   "cell_type": "markdown",
   "metadata": {},
   "source": [
    "2.4"
   ]
  },
  {
   "cell_type": "code",
   "execution_count": 216,
   "metadata": {},
   "outputs": [],
   "source": [
    "def dice_coef(pred_seg, true_seg):\n",
    "    pred_seg = np.asarray(pred_seg).astype(bool)\n",
    "    true_seg = np.asarray(true_seg).astype(bool)\n",
    "    intersection = np.logical_and(pred_seg, true_seg)\n",
    "    dice = (2. * intersection.sum()) / (pred_seg.sum() + true_seg.sum())\n",
    "    return dice\n",
    "\n",
    "segImage = imread(r\"C:\\Users\\Jakob\\Desktop\\Uni\\Kandidat\\ISP\\SIP\\Mats\\test_images\\seg\\1025_3_seg.png\")\n",
    "\n",
    "dice_coef(segmented_img,segImage)\n",
    "plt.subplot(1,2,1)\n",
    "plt.imshow(segImage,cmap=\"gray\"),plt.axis(\"off\"),plt.title(\"Original\")\n",
    "plt.subplot(1,2,2)\n",
    "plt.imshow(segmented_img,cmap=\"gray\"),plt.axis(\"off\"),plt.title(\"Predicted segmentation\")\n",
    "plt.show()"
   ]
  },
  {
   "cell_type": "code",
   "execution_count": 6,
   "metadata": {},
   "outputs": [],
   "source": [
    "def dice_coef(pred_seg, true_seg):\n",
    "    pred_seg = np.asarray(pred_seg).astype(bool)\n",
    "    true_seg = np.asarray(true_seg).astype(bool)\n",
    "    intersection = np.logical_and(pred_seg, true_seg)\n",
    "    dice = (2. * intersection.sum()) / (pred_seg.sum() + true_seg.sum())\n",
    "    return dice"
   ]
  },
  {
   "cell_type": "code",
   "execution_count": 231,
   "metadata": {},
   "outputs": [
    {
     "name": "stdout",
     "output_type": "stream",
     "text": [
      "[0.0, 0.20718232044198895, 0.32033963720571207, 0.5820359281437125, 0.5066666666666667, 0.24518201284796573, 0.32673267326732675, 0.0, 0.16938110749185667, 0.7221006564551422, 0.0, 0.05063291139240506, 0.53125, 0.6158038147138964, 0.0801665799062988, 0.026936026936026935, 0.0, 0.0, 0.0, 0.0, 0.058333333333333334, 0.0, 0.0, 0.0, 0.25263157894736843, 0.06829268292682927, 0.05396290050590219, 0.0, 0.0, 0.0, 0.0, 0.023255813953488372, 0.0, 0.0, 0.1308411214953271, 0.0, 0.11306666666666666, 0.18853503184713377, 0.0, 0.0, 0.0, 0.0, 0.0, 0.0, 0.0, 0.0, 0.0, 0.0, 0.12761904761904763, 0.021238938053097345, 0.0, 0.008733624454148471]\n"
     ]
    },
    {
     "name": "stderr",
     "output_type": "stream",
     "text": [
      "C:\\Users\\Jakob\\AppData\\Local\\Temp\\ipykernel_8064\\2860756107.py:5: RuntimeWarning: invalid value encountered in double_scalars\n",
      "  dice = (2. * intersection.sum()) / (pred_seg.sum() + true_seg.sum())\n"
     ]
    }
   ],
   "source": [
    "def dice_coef(pred_seg, true_seg):\n",
    "    pred_seg = np.asarray(pred_seg).astype(bool)\n",
    "    true_seg = np.asarray(true_seg).astype(bool)\n",
    "    intersection = np.logical_and(pred_seg, true_seg)\n",
    "    dice = (2. * intersection.sum()) / (pred_seg.sum() + true_seg.sum())\n",
    "    return dice\n",
    "\n",
    "diceVals = []\n",
    "for i in range(135):\n",
    "    testimage = np.zeros(segImage.shape)\n",
    "    testimage2 = np.zeros(segmented_img.shape)\n",
    "    mask = segImage == i\n",
    "    testimage[mask] = segImage[mask]\n",
    "    mask = segmented_img == i\n",
    "    testimage2[mask] = segmented_img[mask]\n",
    "    dice = dice_coef(testimage2,testimage)\n",
    "\n",
    "    diceVals.append(dice_coef(testimage2,testimage))\n",
    "\n",
    "\n",
    "diceVals = [x for x in diceVals if str(x) != 'nan']\n",
    "print(diceVals)\n"
   ]
  },
  {
   "attachments": {},
   "cell_type": "markdown",
   "metadata": {},
   "source": [
    "2.5"
   ]
  },
  {
   "cell_type": "code",
   "execution_count": 151,
   "metadata": {},
   "outputs": [],
   "source": [
    "from tensorflow.keras import Sequential\n",
    "from tensorflow.keras.callbacks import EarlyStopping\n",
    "from tensorflow.keras.layers import Dense, Dropout, Flatten, Conv2D, MaxPool2D, InputLayer\n",
    "from tensorflow.keras.optimizers import Adam\n",
    "import tensorflow.keras.backend as K\n",
    "K.clear_session()\n",
    "## Configure the network\n",
    "# batch_size to train\n",
    "batch_size = 20 * 256\n",
    "# number of output classes\n",
    "nb_classes = 80\n",
    "# number of epochs to train\n",
    "nb_epoch = 400\n",
    "\n",
    "# number of convolutional filters to use\n",
    "nb_filters = 10\n",
    "# size of pooling area for max pooling\n",
    "nb_pool = 2\n",
    "# convolution kernel size\n",
    "nb_conv = 4\n",
    "\n",
    "model = Sequential([\n",
    "    InputLayer(input_shape=(29, 29, 1)),\n",
    "    Conv2D(filters=nb_filters, kernel_size=nb_conv, activation='relu'),\n",
    "    MaxPool2D(pool_size=(nb_pool, nb_pool)),\n",
    "    Dropout(0.5),\n",
    "    Conv2D(filters=nb_filters, kernel_size=nb_conv, activation='relu'),\n",
    "    MaxPool2D(pool_size=(nb_pool, nb_pool)),\n",
    "    Dropout(0.25),\n",
    "    Conv2D(filters=nb_filters, kernel_size=nb_conv, activation='relu'),\n",
    "    MaxPool2D(pool_size=(nb_pool, nb_pool)),\n",
    "    Dropout(0.2),\n",
    "    Flatten(),\n",
    "    Dense(units=4000, activation='relu'),\n",
    "    Dense(units=nb_classes, activation='softmax'),\n",
    "])\n",
    "    \n",
    "optimizer = Adam(lr=1e-4, epsilon=1e-08)\n",
    "\n",
    "model.compile(optimizer=optimizer,\n",
    "             loss='categorical_crossentropy',\n",
    "             metrics=['accuracy'])\n",
    "\n",
    "\n",
    "\n",
    "#model.load_weights('keras.h5') \n",
    "\n"
   ]
  },
  {
   "cell_type": "code",
   "execution_count": 152,
   "metadata": {},
   "outputs": [
    {
     "name": "stdout",
     "output_type": "stream",
     "text": [
      "2048/2048 [==============================] - 4s 2ms/step\n"
     ]
    },
    {
     "data": {
      "text/plain": [
       "0.466563265673118"
      ]
     },
     "execution_count": 152,
     "metadata": {},
     "output_type": "execute_result"
    }
   ],
   "source": [
    "A = imread(r\"C:\\Users\\Jakob\\Desktop\\Uni\\Kandidat\\ISP\\SIP\\Mats\\test_images\\image\\1003_3_image.png\")\n",
    "segImage = imread(r\"C:\\Users\\Jakob\\Desktop\\Uni\\Kandidat\\ISP\\SIP\\Mats\\test_images\\seg\\1003_3_seg.png\")\n",
    "\n",
    "patches = image_patches(A)\n",
    "segmented_img = []\n",
    "pr = model.predict(patches)\n",
    "dim = int(pr.shape[0]**0.5)\n",
    "for i, prediction in enumerate(pr):\n",
    "    segmented_img.append(np.argmax(prediction))\n",
    "    \n",
    "segmented_img = np.array(segmented_img).reshape((dim, dim))\n",
    "plt.subplot(1,2,1)\n",
    "plt.imshow(A,cmap=\"gray\"),plt.axis(\"off\"),plt.title(\"Original\")\n",
    "plt.subplot(1,2,2)\n",
    "plt.imshow(segmented_img,cmap=\"gray\"),plt.axis(\"off\"),plt.title(\"Predicted segmentation\")\n",
    "plt.show()\n",
    "dice_coef(segmented_img,segImage)"
   ]
  },
  {
   "attachments": {},
   "cell_type": "markdown",
   "metadata": {},
   "source": [
    "0.625256054946379"
   ]
  },
  {
   "cell_type": "code",
   "execution_count": 28,
   "metadata": {},
   "outputs": [
    {
     "ename": "ValueError",
     "evalue": "Unknown activation function: tanh . Please ensure this object is passed to the `custom_objects` argument. See https://www.tensorflow.org/guide/keras/save_and_serialize#registering_the_custom_object for details.",
     "output_type": "error",
     "traceback": [
      "\u001b[1;31m---------------------------------------------------------------------------\u001b[0m",
      "\u001b[1;31mValueError\u001b[0m                                Traceback (most recent call last)",
      "Cell \u001b[1;32mIn[28], line 25\u001b[0m\n\u001b[0;32m     20\u001b[0m \u001b[39m# convolution kernel size\u001b[39;00m\n\u001b[0;32m     21\u001b[0m nb_conv \u001b[39m=\u001b[39m \u001b[39m5\u001b[39m\n\u001b[0;32m     23\u001b[0m model \u001b[39m=\u001b[39m Sequential([\n\u001b[0;32m     24\u001b[0m     InputLayer(input_shape\u001b[39m=\u001b[39m(\u001b[39m29\u001b[39m, \u001b[39m29\u001b[39m, \u001b[39m1\u001b[39m)),\n\u001b[1;32m---> 25\u001b[0m     Conv2D(filters\u001b[39m=\u001b[39;49mnb_filters, kernel_size\u001b[39m=\u001b[39;49mnb_conv, activation\u001b[39m=\u001b[39;49m\u001b[39m'\u001b[39;49m\u001b[39mtanh \u001b[39;49m\u001b[39m'\u001b[39;49m),\n\u001b[0;32m     26\u001b[0m     MaxPool2D(pool_size\u001b[39m=\u001b[39m(nb_pool, nb_pool)),\n\u001b[0;32m     27\u001b[0m     Dropout(\u001b[39m0.5\u001b[39m),\n\u001b[0;32m     28\u001b[0m     Conv2D(filters\u001b[39m=\u001b[39mnb_filters, kernel_size\u001b[39m=\u001b[39mnb_conv, activation\u001b[39m=\u001b[39m\u001b[39m'\u001b[39m\u001b[39mtanh \u001b[39m\u001b[39m'\u001b[39m),\n\u001b[0;32m     29\u001b[0m     MaxPool2D(pool_size\u001b[39m=\u001b[39m(nb_pool, nb_pool)),\n\u001b[0;32m     30\u001b[0m     Dropout(\u001b[39m0.25\u001b[39m),\n\u001b[0;32m     31\u001b[0m     Flatten(),\n\u001b[0;32m     32\u001b[0m     Dense(units\u001b[39m=\u001b[39m\u001b[39m4000\u001b[39m, activation\u001b[39m=\u001b[39m\u001b[39m'\u001b[39m\u001b[39mtanh \u001b[39m\u001b[39m'\u001b[39m),\n\u001b[0;32m     33\u001b[0m     Dense(units\u001b[39m=\u001b[39mnb_classes, activation\u001b[39m=\u001b[39m\u001b[39m'\u001b[39m\u001b[39msoftmax\u001b[39m\u001b[39m'\u001b[39m),\n\u001b[0;32m     34\u001b[0m ])\n\u001b[0;32m     36\u001b[0m optimizer \u001b[39m=\u001b[39m Adam(lr\u001b[39m=\u001b[39m\u001b[39m1e-4\u001b[39m, epsilon\u001b[39m=\u001b[39m\u001b[39m1e-08\u001b[39m)\n\u001b[0;32m     38\u001b[0m model\u001b[39m.\u001b[39mcompile(optimizer\u001b[39m=\u001b[39moptimizer,\n\u001b[0;32m     39\u001b[0m              loss\u001b[39m=\u001b[39m\u001b[39m'\u001b[39m\u001b[39mcategorical_crossentropy\u001b[39m\u001b[39m'\u001b[39m,\n\u001b[0;32m     40\u001b[0m              metrics\u001b[39m=\u001b[39m[\u001b[39m'\u001b[39m\u001b[39maccuracy\u001b[39m\u001b[39m'\u001b[39m])\n",
      "File \u001b[1;32mc:\\Users\\Jakob\\anaconda3\\envs\\ISP\\lib\\site-packages\\keras\\dtensor\\utils.py:96\u001b[0m, in \u001b[0;36mallow_initializer_layout.<locals>._wrap_function\u001b[1;34m(layer_instance, *args, **kwargs)\u001b[0m\n\u001b[0;32m     93\u001b[0m         \u001b[39mif\u001b[39;00m layout:\n\u001b[0;32m     94\u001b[0m             layout_args[variable_name \u001b[39m+\u001b[39m \u001b[39m\"\u001b[39m\u001b[39m_layout\u001b[39m\u001b[39m\"\u001b[39m] \u001b[39m=\u001b[39m layout\n\u001b[1;32m---> 96\u001b[0m init_method(layer_instance, \u001b[39m*\u001b[39margs, \u001b[39m*\u001b[39m\u001b[39m*\u001b[39mkwargs)\n\u001b[0;32m     98\u001b[0m \u001b[39m# Inject the layout parameter after the invocation of __init__()\u001b[39;00m\n\u001b[0;32m     99\u001b[0m \u001b[39mfor\u001b[39;00m layout_param_name, layout \u001b[39min\u001b[39;00m layout_args\u001b[39m.\u001b[39mitems():\n",
      "File \u001b[1;32mc:\\Users\\Jakob\\anaconda3\\envs\\ISP\\lib\\site-packages\\keras\\layers\\convolutional\\conv2d.py:187\u001b[0m, in \u001b[0;36mConv2D.__init__\u001b[1;34m(self, filters, kernel_size, strides, padding, data_format, dilation_rate, groups, activation, use_bias, kernel_initializer, bias_initializer, kernel_regularizer, bias_regularizer, activity_regularizer, kernel_constraint, bias_constraint, **kwargs)\u001b[0m\n\u001b[0;32m    157\u001b[0m \u001b[39m@utils\u001b[39m\u001b[39m.\u001b[39mallow_initializer_layout\n\u001b[0;32m    158\u001b[0m \u001b[39mdef\u001b[39;00m \u001b[39m__init__\u001b[39m(\n\u001b[0;32m    159\u001b[0m     \u001b[39mself\u001b[39m,\n\u001b[1;32m   (...)\u001b[0m\n\u001b[0;32m    176\u001b[0m     \u001b[39m*\u001b[39m\u001b[39m*\u001b[39mkwargs\n\u001b[0;32m    177\u001b[0m ):\n\u001b[0;32m    178\u001b[0m     \u001b[39msuper\u001b[39m()\u001b[39m.\u001b[39m\u001b[39m__init__\u001b[39m(\n\u001b[0;32m    179\u001b[0m         rank\u001b[39m=\u001b[39m\u001b[39m2\u001b[39m,\n\u001b[0;32m    180\u001b[0m         filters\u001b[39m=\u001b[39mfilters,\n\u001b[0;32m    181\u001b[0m         kernel_size\u001b[39m=\u001b[39mkernel_size,\n\u001b[0;32m    182\u001b[0m         strides\u001b[39m=\u001b[39mstrides,\n\u001b[0;32m    183\u001b[0m         padding\u001b[39m=\u001b[39mpadding,\n\u001b[0;32m    184\u001b[0m         data_format\u001b[39m=\u001b[39mdata_format,\n\u001b[0;32m    185\u001b[0m         dilation_rate\u001b[39m=\u001b[39mdilation_rate,\n\u001b[0;32m    186\u001b[0m         groups\u001b[39m=\u001b[39mgroups,\n\u001b[1;32m--> 187\u001b[0m         activation\u001b[39m=\u001b[39mactivations\u001b[39m.\u001b[39;49mget(activation),\n\u001b[0;32m    188\u001b[0m         use_bias\u001b[39m=\u001b[39muse_bias,\n\u001b[0;32m    189\u001b[0m         kernel_initializer\u001b[39m=\u001b[39minitializers\u001b[39m.\u001b[39mget(kernel_initializer),\n\u001b[0;32m    190\u001b[0m         bias_initializer\u001b[39m=\u001b[39minitializers\u001b[39m.\u001b[39mget(bias_initializer),\n\u001b[0;32m    191\u001b[0m         kernel_regularizer\u001b[39m=\u001b[39mregularizers\u001b[39m.\u001b[39mget(kernel_regularizer),\n\u001b[0;32m    192\u001b[0m         bias_regularizer\u001b[39m=\u001b[39mregularizers\u001b[39m.\u001b[39mget(bias_regularizer),\n\u001b[0;32m    193\u001b[0m         activity_regularizer\u001b[39m=\u001b[39mregularizers\u001b[39m.\u001b[39mget(activity_regularizer),\n\u001b[0;32m    194\u001b[0m         kernel_constraint\u001b[39m=\u001b[39mconstraints\u001b[39m.\u001b[39mget(kernel_constraint),\n\u001b[0;32m    195\u001b[0m         bias_constraint\u001b[39m=\u001b[39mconstraints\u001b[39m.\u001b[39mget(bias_constraint),\n\u001b[0;32m    196\u001b[0m         \u001b[39m*\u001b[39m\u001b[39m*\u001b[39mkwargs\n\u001b[0;32m    197\u001b[0m     )\n",
      "File \u001b[1;32mc:\\Users\\Jakob\\anaconda3\\envs\\ISP\\lib\\site-packages\\tensorflow\\python\\util\\traceback_utils.py:153\u001b[0m, in \u001b[0;36mfilter_traceback.<locals>.error_handler\u001b[1;34m(*args, **kwargs)\u001b[0m\n\u001b[0;32m    151\u001b[0m \u001b[39mexcept\u001b[39;00m \u001b[39mException\u001b[39;00m \u001b[39mas\u001b[39;00m e:\n\u001b[0;32m    152\u001b[0m   filtered_tb \u001b[39m=\u001b[39m _process_traceback_frames(e\u001b[39m.\u001b[39m__traceback__)\n\u001b[1;32m--> 153\u001b[0m   \u001b[39mraise\u001b[39;00m e\u001b[39m.\u001b[39mwith_traceback(filtered_tb) \u001b[39mfrom\u001b[39;00m \u001b[39mNone\u001b[39m\n\u001b[0;32m    154\u001b[0m \u001b[39mfinally\u001b[39;00m:\n\u001b[0;32m    155\u001b[0m   \u001b[39mdel\u001b[39;00m filtered_tb\n",
      "File \u001b[1;32mc:\\Users\\Jakob\\anaconda3\\envs\\ISP\\lib\\site-packages\\keras\\activations.py:609\u001b[0m, in \u001b[0;36mget\u001b[1;34m(identifier)\u001b[0m\n\u001b[0;32m    607\u001b[0m     \u001b[39mreturn\u001b[39;00m linear\n\u001b[0;32m    608\u001b[0m \u001b[39mif\u001b[39;00m \u001b[39misinstance\u001b[39m(identifier, (\u001b[39mstr\u001b[39m, \u001b[39mdict\u001b[39m)):\n\u001b[1;32m--> 609\u001b[0m     \u001b[39mreturn\u001b[39;00m deserialize(identifier)\n\u001b[0;32m    610\u001b[0m \u001b[39melif\u001b[39;00m callable(identifier):\n\u001b[0;32m    611\u001b[0m     \u001b[39mreturn\u001b[39;00m identifier\n",
      "File \u001b[1;32mc:\\Users\\Jakob\\anaconda3\\envs\\ISP\\lib\\site-packages\\keras\\activations.py:568\u001b[0m, in \u001b[0;36mdeserialize\u001b[1;34m(name, custom_objects)\u001b[0m\n\u001b[0;32m    560\u001b[0m \u001b[39m# we put 'current_module' after 'activation_layers' to prefer the local one\u001b[39;00m\n\u001b[0;32m    561\u001b[0m \u001b[39m# if there is a collision\u001b[39;00m\n\u001b[0;32m    562\u001b[0m generic_utils\u001b[39m.\u001b[39mpopulate_dict_with_module_objects(\n\u001b[0;32m    563\u001b[0m     activation_functions,\n\u001b[0;32m    564\u001b[0m     (activation_layers, current_module),\n\u001b[0;32m    565\u001b[0m     obj_filter\u001b[39m=\u001b[39mcallable,\n\u001b[0;32m    566\u001b[0m )\n\u001b[1;32m--> 568\u001b[0m \u001b[39mreturn\u001b[39;00m generic_utils\u001b[39m.\u001b[39;49mdeserialize_keras_object(\n\u001b[0;32m    569\u001b[0m     name,\n\u001b[0;32m    570\u001b[0m     module_objects\u001b[39m=\u001b[39;49mactivation_functions,\n\u001b[0;32m    571\u001b[0m     custom_objects\u001b[39m=\u001b[39;49mcustom_objects,\n\u001b[0;32m    572\u001b[0m     printable_module_name\u001b[39m=\u001b[39;49m\u001b[39m\"\u001b[39;49m\u001b[39mactivation function\u001b[39;49m\u001b[39m\"\u001b[39;49m,\n\u001b[0;32m    573\u001b[0m )\n",
      "File \u001b[1;32mc:\\Users\\Jakob\\anaconda3\\envs\\ISP\\lib\\site-packages\\keras\\utils\\generic_utils.py:769\u001b[0m, in \u001b[0;36mdeserialize_keras_object\u001b[1;34m(identifier, module_objects, custom_objects, printable_module_name)\u001b[0m\n\u001b[0;32m    767\u001b[0m     obj \u001b[39m=\u001b[39m module_objects\u001b[39m.\u001b[39mget(object_name)\n\u001b[0;32m    768\u001b[0m     \u001b[39mif\u001b[39;00m obj \u001b[39mis\u001b[39;00m \u001b[39mNone\u001b[39;00m:\n\u001b[1;32m--> 769\u001b[0m         \u001b[39mraise\u001b[39;00m \u001b[39mValueError\u001b[39;00m(\n\u001b[0;32m    770\u001b[0m             \u001b[39mf\u001b[39m\u001b[39m\"\u001b[39m\u001b[39mUnknown \u001b[39m\u001b[39m{\u001b[39;00mprintable_module_name\u001b[39m}\u001b[39;00m\u001b[39m: \u001b[39m\u001b[39m{\u001b[39;00mobject_name\u001b[39m}\u001b[39;00m\u001b[39m. Please \u001b[39m\u001b[39m\"\u001b[39m\n\u001b[0;32m    771\u001b[0m             \u001b[39m\"\u001b[39m\u001b[39mensure this object is passed to the `custom_objects` \u001b[39m\u001b[39m\"\u001b[39m\n\u001b[0;32m    772\u001b[0m             \u001b[39m\"\u001b[39m\u001b[39margument. See \u001b[39m\u001b[39m\"\u001b[39m\n\u001b[0;32m    773\u001b[0m             \u001b[39m\"\u001b[39m\u001b[39mhttps://www.tensorflow.org/guide/keras/save_and_serialize\u001b[39m\u001b[39m\"\u001b[39m\n\u001b[0;32m    774\u001b[0m             \u001b[39m\"\u001b[39m\u001b[39m#registering_the_custom_object for details.\u001b[39m\u001b[39m\"\u001b[39m\n\u001b[0;32m    775\u001b[0m         )\n\u001b[0;32m    777\u001b[0m \u001b[39m# Classes passed by name are instantiated with no args, functions are\u001b[39;00m\n\u001b[0;32m    778\u001b[0m \u001b[39m# returned as-is.\u001b[39;00m\n\u001b[0;32m    779\u001b[0m \u001b[39mif\u001b[39;00m tf_inspect\u001b[39m.\u001b[39misclass(obj):\n",
      "\u001b[1;31mValueError\u001b[0m: Unknown activation function: tanh . Please ensure this object is passed to the `custom_objects` argument. See https://www.tensorflow.org/guide/keras/save_and_serialize#registering_the_custom_object for details."
     ]
    }
   ],
   "source": [
    "from tensorflow.keras import Sequential\n",
    "from tensorflow.keras.callbacks import EarlyStopping\n",
    "from tensorflow.keras.layers import Dense, Dropout, Flatten, Conv2D, MaxPool2D, InputLayer\n",
    "from tensorflow.keras.optimizers import Adam\n",
    "from tensorflow.keras.regularizers import l2\n",
    "import tensorflow.keras.backend as K\n",
    "K.clear_session()\n",
    "## Configure the network\n",
    "# batch_size to train\n",
    "batch_size = 10 * 256\n",
    "# number of output classes\n",
    "nb_classes = 135\n",
    "# number of epochs to train\n",
    "nb_epoch = 400\n",
    "\n",
    "# number of convolutional filters to use\n",
    "nb_filters = 20\n",
    "# size of pooling area for max pooling\n",
    "nb_pool = 2\n",
    "# convolution kernel size\n",
    "nb_conv = 5\n",
    "\n",
    "model = Sequential([\n",
    "    InputLayer(input_shape=(29, 29, 1)),\n",
    "    Conv2D(filters=nb_filters, kernel_size=nb_conv, activation='tanh'),\n",
    "    MaxPool2D(pool_size=(nb_pool, nb_pool)),\n",
    "    Dropout(0.5),\n",
    "    Conv2D(filters=nb_filters, kernel_size=nb_conv, activation='tanh'),\n",
    "    MaxPool2D(pool_size=(nb_pool, nb_pool)),\n",
    "    Dropout(0.25),\n",
    "    Flatten(),\n",
    "    Dense(units=4000, activation='tanh'),\n",
    "    Dense(units=nb_classes, activation='softmax'),\n",
    "])\n",
    "    \n",
    "optimizer = Adam(lr=1e-4, epsilon=1e-08)\n",
    "\n",
    "model.compile(optimizer=optimizer,\n",
    "             loss='categorical_crossentropy',\n",
    "             metrics=['accuracy'])\n",
    "\n",
    "model.load_weights('keras.h5') \n",
    "\n",
    "test = np.load(r'C:\\Users\\Jakob\\Desktop\\Uni\\Kandidat\\ISP\\test.npz')\n",
    "x_test= test['x_test']\n",
    "y_test= test['y_test']\n",
    "x_test = np.reshape(x_test, (x_test.shape[0], 29, 29, 1))\n"
   ]
  },
  {
   "cell_type": "code",
   "execution_count": 23,
   "metadata": {},
   "outputs": [
    {
     "name": "stdout",
     "output_type": "stream",
     "text": [
      "2048/2048 [==============================] - 7s 3ms/step\n"
     ]
    },
    {
     "data": {
      "text/plain": [
       "0.6898007576414794"
      ]
     },
     "execution_count": 23,
     "metadata": {},
     "output_type": "execute_result"
    }
   ],
   "source": [
    "A = imread(r\"C:\\Users\\Jakob\\Desktop\\Uni\\Kandidat\\ISP\\SIP\\Mats\\test_images\\image\\1025_3_image.png\")\n",
    "segImage = imread(r\"C:\\Users\\Jakob\\Desktop\\Uni\\Kandidat\\ISP\\SIP\\Mats\\test_images\\seg\\1025_3_seg.png\")\n",
    "\n",
    "patches = image_patches(A)\n",
    "patches = patches /255\n",
    "segmented_img = []\n",
    "pr = model.predict(patches)\n",
    "dim = int(pr.shape[0]**0.5)\n",
    "for i, prediction in enumerate(pr):\n",
    "    segmented_img.append(np.argmax(prediction))\n",
    "    \n",
    "segmented_img = np.array(segmented_img).reshape((dim, dim))\n",
    "plt.subplot(1,2,1)\n",
    "plt.imshow(A,cmap=\"gray\"),plt.axis(\"off\"),plt.title(\"Original\")\n",
    "plt.subplot(1,2,2)\n",
    "plt.imshow(segmented_img,cmap=\"gray\"),plt.axis(\"off\"),plt.title(\"Predicted segmentation\")\n",
    "plt.show()\n",
    "dice_coef(segmented_img,segImage)"
   ]
  },
  {
   "cell_type": "code",
   "execution_count": 24,
   "metadata": {},
   "outputs": [
    {
     "name": "stdout",
     "output_type": "stream",
     "text": [
      "0.1954659989409428\n"
     ]
    },
    {
     "name": "stderr",
     "output_type": "stream",
     "text": [
      "C:\\Users\\Jakob\\AppData\\Local\\Temp\\ipykernel_9828\\2674558588.py:5: RuntimeWarning: invalid value encountered in double_scalars\n",
      "  dice = (2. * intersection.sum()) / (pred_seg.sum() + true_seg.sum())\n"
     ]
    }
   ],
   "source": [
    "diceVals = []\n",
    "for i in range(135):\n",
    "    testimage = np.zeros(segImage.shape)\n",
    "    testimage2 = np.zeros(segmented_img.shape)\n",
    "    mask = segImage == i\n",
    "    testimage[mask] = segImage[mask]\n",
    "    mask = segmented_img == i\n",
    "    testimage2[mask] = segmented_img[mask]\n",
    "    dice = dice_coef(testimage2,testimage)\n",
    "\n",
    "    diceVals.append(dice_coef(testimage2,testimage))\n",
    "\n",
    "\n",
    "diceVals = [x for x in diceVals if str(x) != 'nan']\n",
    "print(np.mean(diceVals))"
   ]
  },
  {
   "attachments": {},
   "cell_type": "markdown",
   "metadata": {},
   "source": [
    "0.6898007576414794 And\n",
    "0.1954659989409428"
   ]
  },
  {
   "cell_type": "code",
   "execution_count": null,
   "metadata": {},
   "outputs": [],
   "source": []
  }
 ],
 "metadata": {
  "kernelspec": {
   "display_name": "py310",
   "language": "python",
   "name": "python3"
  },
  "language_info": {
   "codemirror_mode": {
    "name": "ipython",
    "version": 3
   },
   "file_extension": ".py",
   "mimetype": "text/x-python",
   "name": "python",
   "nbconvert_exporter": "python",
   "pygments_lexer": "ipython3",
   "version": "3.10.9"
  },
  "orig_nbformat": 4,
  "vscode": {
   "interpreter": {
    "hash": "f6c59e9a90901d54f4b9f5796ffe87a4c182513f672a519035aa940c71554467"
   }
  }
 },
 "nbformat": 4,
 "nbformat_minor": 2
}
