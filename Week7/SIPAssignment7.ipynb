{
 "cells": [
  {
   "cell_type": "code",
   "execution_count": 1,
   "metadata": {},
   "outputs": [],
   "source": [
    "%matplotlib qt\n",
    "from matplotlib import pyplot as plt\n",
    "from numpy.random import rand\n",
    "import skimage as sm\n",
    "import skimage.morphology as morph\n",
    "from skimage.io import imread, imsave\n",
    "from skimage.util import img_as_float, random_noise\n",
    "from skimage.transform import rotate, resize\n",
    "from skimage.filters import gaussian as ski_gaussian\n",
    "from skimage.feature import canny, corner_harris, corner_peaks\n",
    "from pylab import ginput\n",
    "from scipy.signal import convolve, convolve2d, correlate2d, fftconvolve\n",
    "from scipy.signal import  gaussian as scipy_gaussian\n",
    "from scipy.fft import fft2, fftshift, ifft2, ifftshift\n",
    "from scipy.interpolate import griddata\n",
    "from scipy.ndimage import map_coordinates, gaussian_filter\n",
    "\n",
    "import numpy as np\n",
    "import os\n",
    "import timeit\n",
    "import tensorflow as tf\n",
    "\n",
    "\n",
    "os.chdir(\"../Mats\")"
   ]
  },
  {
   "cell_type": "code",
   "execution_count": 233,
   "metadata": {},
   "outputs": [],
   "source": [
    "plt.rcParams['figure.dpi'] = 300\n",
    "plt.rcParams['savefig.dpi'] = 300"
   ]
  },
  {
   "attachments": {},
   "cell_type": "markdown",
   "metadata": {},
   "source": [
    "# 1"
   ]
  },
  {
   "attachments": {},
   "cell_type": "markdown",
   "metadata": {},
   "source": [
    "1.1"
   ]
  },
  {
   "cell_type": "code",
   "execution_count": 2,
   "metadata": {},
   "outputs": [],
   "source": []
  },
  {
   "attachments": {},
   "cell_type": "markdown",
   "metadata": {},
   "source": [
    "1.2"
   ]
  },
  {
   "cell_type": "code",
   "execution_count": null,
   "metadata": {},
   "outputs": [],
   "source": []
  },
  {
   "attachments": {},
   "cell_type": "markdown",
   "metadata": {},
   "source": [
    "1.3"
   ]
  },
  {
   "cell_type": "code",
   "execution_count": 51,
   "metadata": {},
   "outputs": [],
   "source": []
  },
  {
   "attachments": {},
   "cell_type": "markdown",
   "metadata": {},
   "source": [
    "# 2"
   ]
  },
  {
   "attachments": {},
   "cell_type": "markdown",
   "metadata": {},
   "source": [
    "2.1"
   ]
  },
  {
   "cell_type": "code",
   "execution_count": 60,
   "metadata": {},
   "outputs": [],
   "source": []
  },
  {
   "attachments": {},
   "cell_type": "markdown",
   "metadata": {},
   "source": [
    "2.2"
   ]
  },
  {
   "cell_type": "code",
   "execution_count": 203,
   "metadata": {},
   "outputs": [
    {
     "name": "stderr",
     "output_type": "stream",
     "text": [
      "c:\\Users\\Jakob\\anaconda3\\envs\\ISP\\lib\\site-packages\\keras\\optimizers\\optimizer_v2\\adam.py:114: UserWarning: The `lr` argument is deprecated, use `learning_rate` instead.\n",
      "  super().__init__(name, **kwargs)\n"
     ]
    },
    {
     "name": "stdout",
     "output_type": "stream",
     "text": [
      "Test accuracy: 0.9576659202575684\n"
     ]
    }
   ],
   "source": [
    "from tensorflow.keras import Sequential\n",
    "from tensorflow.keras.callbacks import EarlyStopping\n",
    "from tensorflow.keras.layers import Dense, Dropout, Flatten, Conv2D, MaxPool2D, InputLayer\n",
    "from tensorflow.keras.optimizers import Adam\n",
    "import tensorflow.keras.backend as K\n",
    "K.clear_session()\n",
    "## Configure the network\n",
    "# batch_size to train\n",
    "batch_size = 20 * 256\n",
    "# number of output classes\n",
    "nb_classes = 135\n",
    "# number of epochs to train\n",
    "nb_epoch = 400\n",
    "\n",
    "# number of convolutional filters to use\n",
    "nb_filters = 20\n",
    "# size of pooling area for max pooling\n",
    "nb_pool = 2\n",
    "# convolution kernel size\n",
    "nb_conv = 5\n",
    "\n",
    "model = Sequential([\n",
    "    InputLayer(input_shape=(29, 29, 1)),\n",
    "    Conv2D(filters=nb_filters, kernel_size=nb_conv, activation='relu'),\n",
    "    MaxPool2D(pool_size=(nb_pool, nb_pool)),\n",
    "    Dropout(0.5),\n",
    "    Conv2D(filters=nb_filters, kernel_size=nb_conv, activation='relu'),\n",
    "    MaxPool2D(pool_size=(nb_pool, nb_pool)),\n",
    "    Dropout(0.25),\n",
    "    Flatten(),\n",
    "    Dense(units=4000, activation='relu'),\n",
    "    Dense(units=nb_classes, activation='softmax'),\n",
    "])\n",
    "    \n",
    "optimizer = Adam(lr=1e-4, epsilon=1e-08)\n",
    "\n",
    "model.compile(optimizer=optimizer,\n",
    "             loss='categorical_crossentropy',\n",
    "             metrics=['accuracy'])\n",
    "\n",
    "model.load_weights('keras.h5') \n",
    "\n",
    "test = np.load(r'C:\\Users\\Jakob\\Desktop\\Uni\\Kandidat\\ISP\\test.npz')\n",
    "x_test= test['x_test']\n",
    "y_test= test['y_test']\n",
    "x_test = np.reshape(x_test, (x_test.shape[0], 29, 29, 1))\n",
    "test_loss, test_acc = model.evaluate(x_test, y_test, verbose=0)\n",
    "print('Test accuracy:', test_acc)\n"
   ]
  },
  {
   "cell_type": "code",
   "execution_count": 204,
   "metadata": {},
   "outputs": [
    {
     "name": "stdout",
     "output_type": "stream",
     "text": [
      "Test accuracy: 0.9576659202575684\n"
     ]
    }
   ],
   "source": [
    "test_loss, test_acc = model.evaluate(x_test, y_test, verbose=0)\n",
    "print('Test accuracy:', test_acc)"
   ]
  },
  {
   "attachments": {},
   "cell_type": "markdown",
   "metadata": {},
   "source": [
    "2.3"
   ]
  },
  {
   "cell_type": "code",
   "execution_count": 213,
   "metadata": {},
   "outputs": [],
   "source": [
    "def image_patches(image):\n",
    "    padded_image = np.pad(image, ((14, 14), (14, 14)), 'constant')\n",
    "\n",
    "    patches = sm.util.shape.view_as_windows(padded_image, (29, 29), step=1)\n",
    "\n",
    "    return patches.reshape(-1, 29, 29, 1)"
   ]
  },
  {
   "cell_type": "code",
   "execution_count": 236,
   "metadata": {},
   "outputs": [
    {
     "name": "stdout",
     "output_type": "stream",
     "text": [
      "2048/2048 [==============================] - 6s 3ms/step\n"
     ]
    }
   ],
   "source": [
    "image = imread(r\"C:\\Users\\Jakob\\Desktop\\Uni\\Kandidat\\ISP\\SIP\\Mats\\test_images\\image\\1025_3_image.png\")\n",
    "\n",
    "patches = image_patches(image)\n",
    "patches = patches / 255\n",
    "segmented_img = []\n",
    "pr = model.predict(patches)\n",
    "dim = int(pr.shape[0]**0.5)\n",
    "for i, prediction in enumerate(pr):\n",
    "    segmented_img.append(np.argmax(prediction))\n",
    "segmented_img = np.array(segmented_img).reshape((dim, dim))"
   ]
  },
  {
   "cell_type": "code",
   "execution_count": 238,
   "metadata": {},
   "outputs": [],
   "source": [
    "plt.subplot(1,2,1)\n",
    "plt.imshow(A,cmap=\"gray\"),plt.axis(\"off\"),plt.title(\"Original input\")\n",
    "plt.subplot(1,2,2)\n",
    "plt.imshow(segmented_img,cmap=\"gray\"),plt.axis(\"off\"),plt.title(\"Predicted segmentation\")\n",
    "plt.tight_layout()\n",
    "plt.show()"
   ]
  },
  {
   "attachments": {},
   "cell_type": "markdown",
   "metadata": {},
   "source": [
    "2.4"
   ]
  },
  {
   "cell_type": "code",
   "execution_count": 216,
   "metadata": {},
   "outputs": [],
   "source": [
    "def dice_coef(pred_seg, true_seg):\n",
    "    pred_seg = np.asarray(pred_seg).astype(bool)\n",
    "    true_seg = np.asarray(true_seg).astype(bool)\n",
    "    intersection = np.logical_and(pred_seg, true_seg)\n",
    "    dice = (2. * intersection.sum()) / (pred_seg.sum() + true_seg.sum())\n",
    "    return dice\n",
    "\n",
    "segImage = imread(r\"C:\\Users\\Jakob\\Desktop\\Uni\\Kandidat\\ISP\\SIP\\Mats\\test_images\\seg\\1025_3_seg.png\")\n",
    "\n",
    "dice_coef(segmented_img,segImage)\n",
    "plt.subplot(1,2,1)\n",
    "plt.imshow(segImage,cmap=\"gray\"),plt.axis(\"off\"),plt.title(\"Original\")\n",
    "plt.subplot(1,2,2)\n",
    "plt.imshow(segmented_img,cmap=\"gray\"),plt.axis(\"off\"),plt.title(\"Predicted segmentation\")\n",
    "plt.show()"
   ]
  },
  {
   "cell_type": "code",
   "execution_count": 231,
   "metadata": {},
   "outputs": [
    {
     "name": "stdout",
     "output_type": "stream",
     "text": [
      "[0.0, 0.20718232044198895, 0.32033963720571207, 0.5820359281437125, 0.5066666666666667, 0.24518201284796573, 0.32673267326732675, 0.0, 0.16938110749185667, 0.7221006564551422, 0.0, 0.05063291139240506, 0.53125, 0.6158038147138964, 0.0801665799062988, 0.026936026936026935, 0.0, 0.0, 0.0, 0.0, 0.058333333333333334, 0.0, 0.0, 0.0, 0.25263157894736843, 0.06829268292682927, 0.05396290050590219, 0.0, 0.0, 0.0, 0.0, 0.023255813953488372, 0.0, 0.0, 0.1308411214953271, 0.0, 0.11306666666666666, 0.18853503184713377, 0.0, 0.0, 0.0, 0.0, 0.0, 0.0, 0.0, 0.0, 0.0, 0.0, 0.12761904761904763, 0.021238938053097345, 0.0, 0.008733624454148471]\n"
     ]
    },
    {
     "name": "stderr",
     "output_type": "stream",
     "text": [
      "C:\\Users\\Jakob\\AppData\\Local\\Temp\\ipykernel_8064\\2860756107.py:5: RuntimeWarning: invalid value encountered in double_scalars\n",
      "  dice = (2. * intersection.sum()) / (pred_seg.sum() + true_seg.sum())\n"
     ]
    }
   ],
   "source": [
    "def dice_coef(pred_seg, true_seg):\n",
    "    pred_seg = np.asarray(pred_seg).astype(bool)\n",
    "    true_seg = np.asarray(true_seg).astype(bool)\n",
    "    intersection = np.logical_and(pred_seg, true_seg)\n",
    "    dice = (2. * intersection.sum()) / (pred_seg.sum() + true_seg.sum())\n",
    "    return dice\n",
    "\n",
    "diceVals = []\n",
    "for i in range(135):\n",
    "    testimage = np.zeros(segImage.shape)\n",
    "    testimage2 = np.zeros(segmented_img.shape)\n",
    "    mask = segImage == i\n",
    "    testimage[mask] = segImage[mask]\n",
    "    mask = segmented_img == i\n",
    "    testimage2[mask] = segmented_img[mask]\n",
    "    dice = dice_coef(testimage2,testimage)\n",
    "\n",
    "    diceVals.append(dice_coef(testimage2,testimage))\n",
    "\n",
    "\n",
    "diceVals = [x for x in diceVals if str(x) != 'nan']\n",
    "print(diceVals)\n"
   ]
  },
  {
   "attachments": {},
   "cell_type": "markdown",
   "metadata": {},
   "source": [
    "2.5"
   ]
  },
  {
   "cell_type": "code",
   "execution_count": 151,
   "metadata": {},
   "outputs": [],
   "source": [
    "from tensorflow.keras import Sequential\n",
    "from tensorflow.keras.callbacks import EarlyStopping\n",
    "from tensorflow.keras.layers import Dense, Dropout, Flatten, Conv2D, MaxPool2D, InputLayer\n",
    "from tensorflow.keras.optimizers import Adam\n",
    "import tensorflow.keras.backend as K\n",
    "K.clear_session()\n",
    "## Configure the network\n",
    "# batch_size to train\n",
    "batch_size = 20 * 256\n",
    "# number of output classes\n",
    "nb_classes = 80\n",
    "# number of epochs to train\n",
    "nb_epoch = 400\n",
    "\n",
    "# number of convolutional filters to use\n",
    "nb_filters = 10\n",
    "# size of pooling area for max pooling\n",
    "nb_pool = 2\n",
    "# convolution kernel size\n",
    "nb_conv = 4\n",
    "\n",
    "model = Sequential([\n",
    "    InputLayer(input_shape=(29, 29, 1)),\n",
    "    Conv2D(filters=nb_filters, kernel_size=nb_conv, activation='relu'),\n",
    "    MaxPool2D(pool_size=(nb_pool, nb_pool)),\n",
    "    Dropout(0.5),\n",
    "    Conv2D(filters=nb_filters, kernel_size=nb_conv, activation='relu'),\n",
    "    MaxPool2D(pool_size=(nb_pool, nb_pool)),\n",
    "    Dropout(0.25),\n",
    "    Conv2D(filters=nb_filters, kernel_size=nb_conv, activation='relu'),\n",
    "    MaxPool2D(pool_size=(nb_pool, nb_pool)),\n",
    "    Dropout(0.2),\n",
    "    Flatten(),\n",
    "    Dense(units=4000, activation='relu'),\n",
    "    Dense(units=nb_classes, activation='softmax'),\n",
    "])\n",
    "    \n",
    "optimizer = Adam(lr=1e-4, epsilon=1e-08)\n",
    "\n",
    "model.compile(optimizer=optimizer,\n",
    "             loss='categorical_crossentropy',\n",
    "             metrics=['accuracy'])\n",
    "\n",
    "\n",
    "\n",
    "#model.load_weights('keras.h5') \n",
    "\n"
   ]
  },
  {
   "cell_type": "code",
   "execution_count": 152,
   "metadata": {},
   "outputs": [
    {
     "name": "stdout",
     "output_type": "stream",
     "text": [
      "2048/2048 [==============================] - 4s 2ms/step\n"
     ]
    },
    {
     "data": {
      "text/plain": [
       "0.466563265673118"
      ]
     },
     "execution_count": 152,
     "metadata": {},
     "output_type": "execute_result"
    }
   ],
   "source": [
    "A = imread(r\"C:\\Users\\Jakob\\Desktop\\Uni\\Kandidat\\ISP\\SIP\\Mats\\test_images\\image\\1003_3_image.png\")\n",
    "segImage = imread(r\"C:\\Users\\Jakob\\Desktop\\Uni\\Kandidat\\ISP\\SIP\\Mats\\test_images\\seg\\1003_3_seg.png\")\n",
    "\n",
    "patches = image_patches(A)\n",
    "segmented_img = []\n",
    "pr = model.predict(patches)\n",
    "dim = int(pr.shape[0]**0.5)\n",
    "for i, prediction in enumerate(pr):\n",
    "    segmented_img.append(np.argmax(prediction))\n",
    "    \n",
    "segmented_img = np.array(segmented_img).reshape((dim, dim))\n",
    "plt.subplot(1,2,1)\n",
    "plt.imshow(A,cmap=\"gray\"),plt.axis(\"off\"),plt.title(\"Original\")\n",
    "plt.subplot(1,2,2)\n",
    "plt.imshow(segmented_img,cmap=\"gray\"),plt.axis(\"off\"),plt.title(\"Predicted segmentation\")\n",
    "plt.show()\n",
    "dice_coef(segmented_img,segImage)"
   ]
  },
  {
   "attachments": {},
   "cell_type": "markdown",
   "metadata": {},
   "source": [
    "0.625256054946379"
   ]
  },
  {
   "cell_type": "code",
   "execution_count": 140,
   "metadata": {},
   "outputs": [],
   "source": [
    "from tensorflow.keras import Sequential\n",
    "from tensorflow.keras.callbacks import EarlyStopping\n",
    "from tensorflow.keras.layers import Dense, Dropout, Flatten, Conv2D, MaxPool2D, InputLayer\n",
    "from tensorflow.keras.optimizers import Adam\n",
    "import tensorflow.keras.backend as K\n",
    "K.clear_session()\n",
    "## Configure the network\n",
    "# batch_size to train\n",
    "batch_size = 20 * 256\n",
    "# number of output classes\n",
    "nb_classes = 135\n",
    "# number of epochs to train\n",
    "nb_epoch = 400\n",
    "\n",
    "# number of convolutional filters to use\n",
    "nb_filters = 20\n",
    "# size of pooling area for max pooling\n",
    "nb_pool = 2\n",
    "# convolution kernel size\n",
    "nb_conv = 5\n",
    "\n",
    "model = Sequential([\n",
    "    InputLayer(input_shape=(29, 29, 1)),\n",
    "    Conv2D(filters=nb_filters, kernel_size=nb_conv, activation='relu'),\n",
    "    MaxPool2D(pool_size=(nb_pool, nb_pool)),\n",
    "    Dropout(0.5),\n",
    "    Conv2D(filters=nb_filters, kernel_size=nb_conv, activation='relu'),\n",
    "    MaxPool2D(pool_size=(nb_pool, nb_pool)),\n",
    "    Dropout(0.25),\n",
    "    Flatten(),\n",
    "    Dense(units=4000, activation='relu'),\n",
    "    Dense(units=nb_classes, activation='softmax'),\n",
    "])\n",
    "    \n",
    "optimizer = Adam(lr=1e-4, epsilon=1e-08)\n",
    "\n",
    "model.compile(optimizer=optimizer,\n",
    "             loss='categorical_crossentropy',\n",
    "             metrics=['accuracy'])\n",
    "\n",
    "model.load_weights('keras.h5') \n",
    "\n",
    "test = np.load(r'C:\\Users\\Jakob\\Desktop\\Uni\\Kandidat\\ISP\\test.npz')\n",
    "x_test= test['x_test']\n",
    "y_test= test['y_test']\n",
    "x_test = np.reshape(x_test, (x_test.shape[0], 29, 29, 1))\n"
   ]
  },
  {
   "cell_type": "code",
   "execution_count": 141,
   "metadata": {},
   "outputs": [
    {
     "name": "stdout",
     "output_type": "stream",
     "text": [
      "2048/2048 [==============================] - 5s 3ms/step\n"
     ]
    },
    {
     "data": {
      "text/plain": [
       "0.625256054946379"
      ]
     },
     "execution_count": 141,
     "metadata": {},
     "output_type": "execute_result"
    }
   ],
   "source": [
    "A = imread(r\"C:\\Users\\Jakob\\Desktop\\Uni\\Kandidat\\ISP\\SIP\\Mats\\test_images\\image\\1003_3_image.png\")\n",
    "segImage = imread(r\"C:\\Users\\Jakob\\Desktop\\Uni\\Kandidat\\ISP\\SIP\\Mats\\test_images\\seg\\1003_3_seg.png\")\n",
    "\n",
    "patches = image_patches(A)\n",
    "segmented_img = []\n",
    "pr = model.predict(patches)\n",
    "dim = int(pr.shape[0]**0.5)\n",
    "for i, prediction in enumerate(pr):\n",
    "    segmented_img.append(np.argmax(prediction))\n",
    "    \n",
    "segmented_img = np.array(segmented_img).reshape((dim, dim))\n",
    "plt.subplot(1,2,1)\n",
    "plt.imshow(A,cmap=\"gray\"),plt.axis(\"off\"),plt.title(\"Original\")\n",
    "plt.subplot(1,2,2)\n",
    "plt.imshow(segmented_img,cmap=\"gray\"),plt.axis(\"off\"),plt.title(\"Predicted segmentation\")\n",
    "plt.show()\n",
    "dice_coef(segmented_img,segImage)"
   ]
  },
  {
   "cell_type": "code",
   "execution_count": null,
   "metadata": {},
   "outputs": [],
   "source": []
  }
 ],
 "metadata": {
  "kernelspec": {
   "display_name": "py310",
   "language": "python",
   "name": "python3"
  },
  "language_info": {
   "codemirror_mode": {
    "name": "ipython",
    "version": 3
   },
   "file_extension": ".py",
   "mimetype": "text/x-python",
   "name": "python",
   "nbconvert_exporter": "python",
   "pygments_lexer": "ipython3",
   "version": "3.10.9"
  },
  "orig_nbformat": 4,
  "vscode": {
   "interpreter": {
    "hash": "f6c59e9a90901d54f4b9f5796ffe87a4c182513f672a519035aa940c71554467"
   }
  }
 },
 "nbformat": 4,
 "nbformat_minor": 2
}
