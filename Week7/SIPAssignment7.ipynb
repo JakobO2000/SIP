{
 "cells": [
  {
   "cell_type": "code",
   "execution_count": 36,
   "metadata": {},
   "outputs": [],
   "source": [
    "%matplotlib qt\n",
    "from matplotlib import pyplot as plt\n",
    "from numpy.random import rand\n",
    "import skimage as sm\n",
    "import skimage.morphology as morph\n",
    "from skimage.io import imread, imsave\n",
    "from skimage.util import img_as_float, random_noise\n",
    "from skimage.transform import rotate, resize\n",
    "from skimage.filters import gaussian as ski_gaussian\n",
    "from skimage.feature import canny, corner_harris, corner_peaks\n",
    "from pylab import ginput\n",
    "from scipy.signal import convolve, convolve2d, correlate2d, fftconvolve\n",
    "from scipy.signal import  gaussian as scipy_gaussian\n",
    "from scipy.fft import fft2, fftshift, ifft2, ifftshift\n",
    "from scipy.interpolate import griddata\n",
    "from scipy.ndimage import map_coordinates, gaussian_filter\n",
    "\n",
    "import numpy as np\n",
    "import os\n",
    "import timeit\n",
    "import tensorflow as tf\n",
    "\n",
    "\n",
    "os.chdir(\"../Mats\")"
   ]
  },
  {
   "cell_type": "code",
   "execution_count": 44,
   "metadata": {},
   "outputs": [],
   "source": [
    "plt.rcParams['figure.dpi'] = 300\n",
    "plt.rcParams['savefig.dpi'] = 300"
   ]
  },
  {
   "attachments": {},
   "cell_type": "markdown",
   "metadata": {},
   "source": [
    "# 1"
   ]
  },
  {
   "attachments": {},
   "cell_type": "markdown",
   "metadata": {},
   "source": [
    "1.1"
   ]
  },
  {
   "cell_type": "code",
   "execution_count": 2,
   "metadata": {},
   "outputs": [],
   "source": []
  },
  {
   "attachments": {},
   "cell_type": "markdown",
   "metadata": {},
   "source": [
    "1.2"
   ]
  },
  {
   "cell_type": "code",
   "execution_count": null,
   "metadata": {},
   "outputs": [],
   "source": []
  },
  {
   "attachments": {},
   "cell_type": "markdown",
   "metadata": {},
   "source": [
    "1.3"
   ]
  },
  {
   "cell_type": "code",
   "execution_count": 51,
   "metadata": {},
   "outputs": [],
   "source": []
  },
  {
   "attachments": {},
   "cell_type": "markdown",
   "metadata": {},
   "source": [
    "# 2"
   ]
  },
  {
   "attachments": {},
   "cell_type": "markdown",
   "metadata": {},
   "source": [
    "2.1"
   ]
  },
  {
   "cell_type": "code",
   "execution_count": 60,
   "metadata": {},
   "outputs": [],
   "source": []
  },
  {
   "attachments": {},
   "cell_type": "markdown",
   "metadata": {},
   "source": [
    "2.2"
   ]
  },
  {
   "cell_type": "code",
   "execution_count": 32,
   "metadata": {},
   "outputs": [],
   "source": [
    "from tensorflow.keras import Sequential\n",
    "from tensorflow.keras.callbacks import EarlyStopping\n",
    "from tensorflow.keras.layers import Dense, Dropout, Flatten, Conv2D, MaxPool2D, InputLayer\n",
    "from tensorflow.keras.optimizers import Adam\n",
    "import tensorflow.keras.backend as K\n",
    "K.clear_session()\n",
    "## Configure the network\n",
    "# batch_size to train\n",
    "batch_size = 20 * 256\n",
    "# number of output classes\n",
    "nb_classes = 135\n",
    "# number of epochs to train\n",
    "nb_epoch = 400\n",
    "\n",
    "# number of convolutional filters to use\n",
    "nb_filters = 20\n",
    "# size of pooling area for max pooling\n",
    "nb_pool = 2\n",
    "# convolution kernel size\n",
    "nb_conv = 5\n",
    "\n",
    "model = Sequential([\n",
    "    InputLayer(input_shape=(29, 29, 1)),\n",
    "    Conv2D(filters=nb_filters, kernel_size=nb_conv, activation='relu'),\n",
    "    MaxPool2D(pool_size=(nb_pool, nb_pool)),\n",
    "    Dropout(0.5),\n",
    "    Conv2D(filters=nb_filters, kernel_size=nb_conv, activation='relu'),\n",
    "    MaxPool2D(pool_size=(nb_pool, nb_pool)),\n",
    "    Dropout(0.25),\n",
    "    Flatten(),\n",
    "    Dense(units=4000, activation='relu'),\n",
    "    Dense(units=nb_classes, activation='softmax'),\n",
    "])\n",
    "    \n",
    "optimizer = Adam(lr=1e-4, epsilon=1e-08)\n",
    "\n",
    "model.compile(optimizer=optimizer,\n",
    "             loss='categorical_crossentropy',\n",
    "             metrics=['accuracy'])\n",
    "\n",
    "model.load_weights('keras.h5') \n",
    "\n",
    "test = np.load(r'C:\\Users\\Jakob\\Desktop\\Uni\\Kandidat\\ISP\\test.npz')\n",
    "x_test= test['x_test']\n",
    "y_test= test['y_test']\n",
    "x_test = np.reshape(x_test, (x_test.shape[0], 29, 29, 1))\n"
   ]
  },
  {
   "cell_type": "code",
   "execution_count": 33,
   "metadata": {},
   "outputs": [
    {
     "name": "stdout",
     "output_type": "stream",
     "text": [
      "Test accuracy: 0.9576659202575684\n"
     ]
    }
   ],
   "source": [
    "test_loss, test_acc = model.evaluate(x_test, y_test, verbose=0)\n",
    "print('Test accuracy:', test_acc)"
   ]
  },
  {
   "attachments": {},
   "cell_type": "markdown",
   "metadata": {},
   "source": [
    "2.3"
   ]
  },
  {
   "cell_type": "code",
   "execution_count": 40,
   "metadata": {},
   "outputs": [],
   "source": [
    "def image_patches(image):\n",
    "    padded_image = np.pad(image, ((14, 15), (14, 15)), 'constant')\n",
    "\n",
    "    patches = sm.util.shape.view_as_windows(padded_image, (29, 29), step=1)\n",
    "\n",
    "    return patches.reshape(-1, 29, 29, 1)"
   ]
  },
  {
   "cell_type": "code",
   "execution_count": 41,
   "metadata": {},
   "outputs": [],
   "source": [
    "A = imread(r\"C:\\Users\\Jakob\\Desktop\\Uni\\Kandidat\\ISP\\SIP\\Mats\\test_images\\image\\1003_3_image.png\")\n",
    "testdata = image_patches(A)"
   ]
  },
  {
   "cell_type": "code",
   "execution_count": 52,
   "metadata": {},
   "outputs": [
    {
     "name": "stdout",
     "output_type": "stream",
     "text": [
      "2065/2065 [==============================] - 5s 3ms/step\n"
     ]
    }
   ],
   "source": [
    "patches = image_patches(A)\n",
    "num_patches = patches.shape[0]\n",
    "\n",
    "patches = patches / 255\n",
    "class_probs = model.predict(patches)\n",
    "seg_image = np.zeros((A.shape[0], A.shape[1]))\n",
    "count = np.zeros((A.shape[0], A.shape[1]))\n",
    "\n",
    "for i in range(num_patches):\n",
    "    x = i % (A.shape[0]-28)\n",
    "    y = i // (A.shape[0]-28)\n",
    "    seg_patch = np.argmax(class_probs[i])\n",
    "    seg_image[x:x+29, y:y+29] += seg_patch\n",
    "    count[x:x+29, y:y+29] += 1\n",
    "\n",
    "seg_image = seg_image/count\n",
    "seg_image = resize(seg_image, A.shape, order=0, anti_aliasing=False)\n",
    "seg_image = seg_image.astype(int)"
   ]
  },
  {
   "cell_type": "code",
   "execution_count": 53,
   "metadata": {},
   "outputs": [
    {
     "data": {
      "text/plain": [
       "<matplotlib.image.AxesImage at 0x23c998e67a0>"
      ]
     },
     "execution_count": 53,
     "metadata": {},
     "output_type": "execute_result"
    }
   ],
   "source": [
    "plt.imshow(seg_image)"
   ]
  },
  {
   "attachments": {},
   "cell_type": "markdown",
   "metadata": {},
   "source": [
    "2.4"
   ]
  },
  {
   "attachments": {},
   "cell_type": "markdown",
   "metadata": {},
   "source": [
    "2.5"
   ]
  },
  {
   "cell_type": "code",
   "execution_count": null,
   "metadata": {},
   "outputs": [],
   "source": []
  }
 ],
 "metadata": {
  "kernelspec": {
   "display_name": "py310",
   "language": "python",
   "name": "python3"
  },
  "language_info": {
   "codemirror_mode": {
    "name": "ipython",
    "version": 3
   },
   "file_extension": ".py",
   "mimetype": "text/x-python",
   "name": "python",
   "nbconvert_exporter": "python",
   "pygments_lexer": "ipython3",
   "version": "3.10.9"
  },
  "orig_nbformat": 4,
  "vscode": {
   "interpreter": {
    "hash": "f6c59e9a90901d54f4b9f5796ffe87a4c182513f672a519035aa940c71554467"
   }
  }
 },
 "nbformat": 4,
 "nbformat_minor": 2
}
